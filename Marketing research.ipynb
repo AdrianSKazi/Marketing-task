{
  "nbformat": 4,
  "nbformat_minor": 0,
  "metadata": {
    "colab": {
      "name": "AMA_Institute_entry_task.ipynb",
      "provenance": [],
      "collapsed_sections": []
    },
    "kernelspec": {
      "name": "python3",
      "display_name": "Python 3"
    }
  },
  "cells": [
    {
      "cell_type": "markdown",
      "metadata": {
        "id": "FLyZZWrscXTY"
      },
      "source": [
        "#Importing libraries"
      ]
    },
    {
      "cell_type": "code",
      "metadata": {
        "id": "OXwYTcYO3DIE",
        "outputId": "032db3d9-ec39-4682-c48f-cf637a0e5a7f",
        "colab": {
          "base_uri": "https://localhost:8080/",
          "height": 71
        }
      },
      "source": [
        "import pandas as pd\n",
        "import numpy as np\n",
        "import seaborn as sns\n",
        "import matplotlib.pyplot as plt\n",
        "%matplotlib inline"
      ],
      "execution_count": null,
      "outputs": [
        {
          "output_type": "stream",
          "text": [
            "/usr/local/lib/python3.6/dist-packages/statsmodels/tools/_testing.py:19: FutureWarning: pandas.util.testing is deprecated. Use the functions in the public API at pandas.testing instead.\n",
            "  import pandas.util.testing as tm\n"
          ],
          "name": "stderr"
        }
      ]
    },
    {
      "cell_type": "markdown",
      "metadata": {
        "id": "QiFbu0ImXcUm"
      },
      "source": [
        "#Importing dataset"
      ]
    },
    {
      "cell_type": "code",
      "metadata": {
        "id": "HOH6_IXTXcBT",
        "outputId": "613413ae-82b1-457b-cc78-d56212ef64c7",
        "colab": {
          "base_uri": "https://localhost:8080/",
          "height": 419
        }
      },
      "source": [
        "visits = pd.read_excel('exemplary_data.xlsx', sheet_name='visits')\n",
        "visits"
      ],
      "execution_count": null,
      "outputs": [
        {
          "output_type": "execute_result",
          "data": {
            "text/html": [
              "<div>\n",
              "<style scoped>\n",
              "    .dataframe tbody tr th:only-of-type {\n",
              "        vertical-align: middle;\n",
              "    }\n",
              "\n",
              "    .dataframe tbody tr th {\n",
              "        vertical-align: top;\n",
              "    }\n",
              "\n",
              "    .dataframe thead th {\n",
              "        text-align: right;\n",
              "    }\n",
              "</style>\n",
              "<table border=\"1\" class=\"dataframe\">\n",
              "  <thead>\n",
              "    <tr style=\"text-align: right;\">\n",
              "      <th></th>\n",
              "      <th>Data</th>\n",
              "      <th>godzina</th>\n",
              "      <th>Wizyty_all</th>\n",
              "    </tr>\n",
              "  </thead>\n",
              "  <tbody>\n",
              "    <tr>\n",
              "      <th>0</th>\n",
              "      <td>2014-10-01</td>\n",
              "      <td>0</td>\n",
              "      <td>1589</td>\n",
              "    </tr>\n",
              "    <tr>\n",
              "      <th>1</th>\n",
              "      <td>2014-10-01</td>\n",
              "      <td>1</td>\n",
              "      <td>658</td>\n",
              "    </tr>\n",
              "    <tr>\n",
              "      <th>2</th>\n",
              "      <td>2014-10-01</td>\n",
              "      <td>2</td>\n",
              "      <td>299</td>\n",
              "    </tr>\n",
              "    <tr>\n",
              "      <th>3</th>\n",
              "      <td>2014-10-01</td>\n",
              "      <td>3</td>\n",
              "      <td>211</td>\n",
              "    </tr>\n",
              "    <tr>\n",
              "      <th>4</th>\n",
              "      <td>2014-10-01</td>\n",
              "      <td>4</td>\n",
              "      <td>257</td>\n",
              "    </tr>\n",
              "    <tr>\n",
              "      <th>...</th>\n",
              "      <td>...</td>\n",
              "      <td>...</td>\n",
              "      <td>...</td>\n",
              "    </tr>\n",
              "    <tr>\n",
              "      <th>2203</th>\n",
              "      <td>2014-12-31</td>\n",
              "      <td>19</td>\n",
              "      <td>2243</td>\n",
              "    </tr>\n",
              "    <tr>\n",
              "      <th>2204</th>\n",
              "      <td>2014-12-31</td>\n",
              "      <td>20</td>\n",
              "      <td>1844</td>\n",
              "    </tr>\n",
              "    <tr>\n",
              "      <th>2205</th>\n",
              "      <td>2014-12-31</td>\n",
              "      <td>21</td>\n",
              "      <td>1680</td>\n",
              "    </tr>\n",
              "    <tr>\n",
              "      <th>2206</th>\n",
              "      <td>2014-12-31</td>\n",
              "      <td>22</td>\n",
              "      <td>1538</td>\n",
              "    </tr>\n",
              "    <tr>\n",
              "      <th>2207</th>\n",
              "      <td>2014-12-31</td>\n",
              "      <td>23</td>\n",
              "      <td>1049</td>\n",
              "    </tr>\n",
              "  </tbody>\n",
              "</table>\n",
              "<p>2208 rows × 3 columns</p>\n",
              "</div>"
            ],
            "text/plain": [
              "           Data  godzina  Wizyty_all\n",
              "0    2014-10-01        0        1589\n",
              "1    2014-10-01        1         658\n",
              "2    2014-10-01        2         299\n",
              "3    2014-10-01        3         211\n",
              "4    2014-10-01        4         257\n",
              "...         ...      ...         ...\n",
              "2203 2014-12-31       19        2243\n",
              "2204 2014-12-31       20        1844\n",
              "2205 2014-12-31       21        1680\n",
              "2206 2014-12-31       22        1538\n",
              "2207 2014-12-31       23        1049\n",
              "\n",
              "[2208 rows x 3 columns]"
            ]
          },
          "metadata": {
            "tags": []
          },
          "execution_count": 2
        }
      ]
    },
    {
      "cell_type": "code",
      "metadata": {
        "id": "b2tQb_jMZ7sy",
        "outputId": "3e12c72e-ffca-4692-d1fc-e927553c29ad",
        "colab": {
          "base_uri": "https://localhost:8080/",
          "height": 779
        }
      },
      "source": [
        "spots = pd.read_excel('exemplary_data.xlsx', sheet_name='spots')\n",
        "spots"
      ],
      "execution_count": null,
      "outputs": [
        {
          "output_type": "execute_result",
          "data": {
            "text/html": [
              "<div>\n",
              "<style scoped>\n",
              "    .dataframe tbody tr th:only-of-type {\n",
              "        vertical-align: middle;\n",
              "    }\n",
              "\n",
              "    .dataframe tbody tr th {\n",
              "        vertical-align: top;\n",
              "    }\n",
              "\n",
              "    .dataframe thead th {\n",
              "        text-align: right;\n",
              "    }\n",
              "</style>\n",
              "<table border=\"1\" class=\"dataframe\">\n",
              "  <thead>\n",
              "    <tr style=\"text-align: right;\">\n",
              "      <th></th>\n",
              "      <th>Campaign Channel</th>\n",
              "      <th>AGB Channel</th>\n",
              "      <th>Date</th>\n",
              "      <th>Time</th>\n",
              "      <th>Timeband</th>\n",
              "      <th>BreakType (Block type)</th>\n",
              "      <th>Title</th>\n",
              "      <th>Position Type in the block of commercials</th>\n",
              "      <th>Commercial length</th>\n",
              "      <th>GRP</th>\n",
              "    </tr>\n",
              "  </thead>\n",
              "  <tbody>\n",
              "    <tr>\n",
              "      <th>0</th>\n",
              "      <td>TVN Pakiet Tematyczny</td>\n",
              "      <td>FoxLife</td>\n",
              "      <td>2014-11-10</td>\n",
              "      <td>06:10:25</td>\n",
              "      <td>Day</td>\n",
              "      <td>Between</td>\n",
              "      <td>ZONA DLA MILIONERA /PROG.ROZR.USA/</td>\n",
              "      <td>Middle</td>\n",
              "      <td>30</td>\n",
              "      <td>0.000000</td>\n",
              "    </tr>\n",
              "    <tr>\n",
              "      <th>1</th>\n",
              "      <td>TVP Pakiet Tematyczny</td>\n",
              "      <td>TVP Seriale</td>\n",
              "      <td>2014-11-10</td>\n",
              "      <td>06:11:50</td>\n",
              "      <td>Day</td>\n",
              "      <td>After</td>\n",
              "      <td>LOKATORZY /SER.KOM.POL./</td>\n",
              "      <td>Middle</td>\n",
              "      <td>30</td>\n",
              "      <td>0.000000</td>\n",
              "    </tr>\n",
              "    <tr>\n",
              "      <th>2</th>\n",
              "      <td>TVN Pakiet Tematyczny</td>\n",
              "      <td>Mjuzik.tv</td>\n",
              "      <td>2014-11-10</td>\n",
              "      <td>06:12:59</td>\n",
              "      <td>Day</td>\n",
              "      <td>Between</td>\n",
              "      <td>TELEDYSKI</td>\n",
              "      <td>Middle</td>\n",
              "      <td>30</td>\n",
              "      <td>0.000000</td>\n",
              "    </tr>\n",
              "    <tr>\n",
              "      <th>3</th>\n",
              "      <td>TVN Pakiet Tematyczny</td>\n",
              "      <td>MTV Polska</td>\n",
              "      <td>2014-11-10</td>\n",
              "      <td>06:19:06</td>\n",
              "      <td>Day</td>\n",
              "      <td>Between</td>\n",
              "      <td>PIMP MY RIDE</td>\n",
              "      <td>Middle</td>\n",
              "      <td>30</td>\n",
              "      <td>0.000000</td>\n",
              "    </tr>\n",
              "    <tr>\n",
              "      <th>4</th>\n",
              "      <td>TVN Pakiet Tematyczny</td>\n",
              "      <td>Comedy Central Family</td>\n",
              "      <td>2014-11-10</td>\n",
              "      <td>06:42:34</td>\n",
              "      <td>Day</td>\n",
              "      <td>Between</td>\n",
              "      <td>DALEKO JESZCZE? /SER.KOM.USA/</td>\n",
              "      <td>Middle</td>\n",
              "      <td>30</td>\n",
              "      <td>0.000000</td>\n",
              "    </tr>\n",
              "    <tr>\n",
              "      <th>...</th>\n",
              "      <td>...</td>\n",
              "      <td>...</td>\n",
              "      <td>...</td>\n",
              "      <td>...</td>\n",
              "      <td>...</td>\n",
              "      <td>...</td>\n",
              "      <td>...</td>\n",
              "      <td>...</td>\n",
              "      <td>...</td>\n",
              "      <td>...</td>\n",
              "    </tr>\n",
              "    <tr>\n",
              "      <th>2202</th>\n",
              "      <td>TVN Pakiet Tematyczny</td>\n",
              "      <td>kuchnia.tv</td>\n",
              "      <td>2014-11-23</td>\n",
              "      <td>24:32:15</td>\n",
              "      <td>Night</td>\n",
              "      <td>After</td>\n",
              "      <td>PRZEZ DZIURKE OD SERA /PROG.PORAD.POL./</td>\n",
              "      <td>Middle</td>\n",
              "      <td>30</td>\n",
              "      <td>0.000000</td>\n",
              "    </tr>\n",
              "    <tr>\n",
              "      <th>2203</th>\n",
              "      <td>TVN Pakiet Tematyczny</td>\n",
              "      <td>Comedy Central Family</td>\n",
              "      <td>2014-11-23</td>\n",
              "      <td>24:46:21</td>\n",
              "      <td>Night</td>\n",
              "      <td>Between</td>\n",
              "      <td>COUGAR TOWN MIASTO KOCIC /SER.KOM.USA/</td>\n",
              "      <td>Middle</td>\n",
              "      <td>30</td>\n",
              "      <td>0.000000</td>\n",
              "    </tr>\n",
              "    <tr>\n",
              "      <th>2204</th>\n",
              "      <td>Polsat Pakiet Tematyczny</td>\n",
              "      <td>ATM Rozrywka</td>\n",
              "      <td>2014-11-23</td>\n",
              "      <td>25:11:09</td>\n",
              "      <td>Night</td>\n",
              "      <td>Between</td>\n",
              "      <td>SYNOWIE /SER.KOM.POL./</td>\n",
              "      <td>Middle</td>\n",
              "      <td>30</td>\n",
              "      <td>0.000000</td>\n",
              "    </tr>\n",
              "    <tr>\n",
              "      <th>2205</th>\n",
              "      <td>TVN Pakiet Tematyczny</td>\n",
              "      <td>Investigation Discovery</td>\n",
              "      <td>2014-11-23</td>\n",
              "      <td>25:26:59</td>\n",
              "      <td>Night</td>\n",
              "      <td>After</td>\n",
              "      <td>ZLO W GENACH /SER.DOK.USA/</td>\n",
              "      <td>Middle</td>\n",
              "      <td>30</td>\n",
              "      <td>0.525207</td>\n",
              "    </tr>\n",
              "    <tr>\n",
              "      <th>2206</th>\n",
              "      <td>TVN</td>\n",
              "      <td>TVN</td>\n",
              "      <td>2014-11-23</td>\n",
              "      <td>25:30:24</td>\n",
              "      <td>Night</td>\n",
              "      <td>Between</td>\n",
              "      <td>KUCHENNE REWOLUCJE /REALITY SHOW POL./</td>\n",
              "      <td>Second / Penultimate</td>\n",
              "      <td>30</td>\n",
              "      <td>0.190529</td>\n",
              "    </tr>\n",
              "  </tbody>\n",
              "</table>\n",
              "<p>2207 rows × 10 columns</p>\n",
              "</div>"
            ],
            "text/plain": [
              "              Campaign Channel  ...       GRP\n",
              "0        TVN Pakiet Tematyczny  ...  0.000000\n",
              "1        TVP Pakiet Tematyczny  ...  0.000000\n",
              "2        TVN Pakiet Tematyczny  ...  0.000000\n",
              "3        TVN Pakiet Tematyczny  ...  0.000000\n",
              "4        TVN Pakiet Tematyczny  ...  0.000000\n",
              "...                        ...  ...       ...\n",
              "2202     TVN Pakiet Tematyczny  ...  0.000000\n",
              "2203     TVN Pakiet Tematyczny  ...  0.000000\n",
              "2204  Polsat Pakiet Tematyczny  ...  0.000000\n",
              "2205     TVN Pakiet Tematyczny  ...  0.525207\n",
              "2206                       TVN  ...  0.190529\n",
              "\n",
              "[2207 rows x 10 columns]"
            ]
          },
          "metadata": {
            "tags": []
          },
          "execution_count": 3
        }
      ]
    },
    {
      "cell_type": "markdown",
      "metadata": {
        "id": "z_3j3jCjbAHc"
      },
      "source": [
        "#Extracting same time range"
      ]
    },
    {
      "cell_type": "markdown",
      "metadata": {
        "id": "FUEBIAeIpbEh"
      },
      "source": [
        "Lets see what time range both datasets present"
      ]
    },
    {
      "cell_type": "code",
      "metadata": {
        "id": "RYf7omIHqakY",
        "outputId": "ec0bc7ef-c1de-4bbd-c5e8-a69f2e370b44",
        "colab": {
          "base_uri": "https://localhost:8080/",
          "height": 85
        }
      },
      "source": [
        "visits.iloc[0,:]"
      ],
      "execution_count": null,
      "outputs": [
        {
          "output_type": "execute_result",
          "data": {
            "text/plain": [
              "Data          2014-10-01 00:00:00\n",
              "godzina                         0\n",
              "Wizyty_all                   1589\n",
              "Name: 0, dtype: object"
            ]
          },
          "metadata": {
            "tags": []
          },
          "execution_count": 4
        }
      ]
    },
    {
      "cell_type": "code",
      "metadata": {
        "id": "UJOtvop8qkPx",
        "outputId": "3d72878c-8cac-402e-8a54-952061a262dd",
        "colab": {
          "base_uri": "https://localhost:8080/",
          "height": 85
        }
      },
      "source": [
        "visits.iloc[-1,:]"
      ],
      "execution_count": null,
      "outputs": [
        {
          "output_type": "execute_result",
          "data": {
            "text/plain": [
              "Data          2014-12-31 00:00:00\n",
              "godzina                        23\n",
              "Wizyty_all                   1049\n",
              "Name: 2207, dtype: object"
            ]
          },
          "metadata": {
            "tags": []
          },
          "execution_count": 5
        }
      ]
    },
    {
      "cell_type": "markdown",
      "metadata": {
        "id": "yXngF-QOqpCg"
      },
      "source": [
        "visits includes data from full three months: October, November, December"
      ]
    },
    {
      "cell_type": "code",
      "metadata": {
        "id": "q72dWJUQq8S4",
        "outputId": "8228951a-275d-41a0-be21-e1311db4e64f",
        "colab": {
          "base_uri": "https://localhost:8080/",
          "height": 204
        }
      },
      "source": [
        "spots.iloc[0,:]"
      ],
      "execution_count": null,
      "outputs": [
        {
          "output_type": "execute_result",
          "data": {
            "text/plain": [
              "Campaign Channel                                          TVN Pakiet Tematyczny\n",
              "AGB Channel                                                             FoxLife\n",
              "Date                                                        2014-11-10 00:00:00\n",
              "Time                                                                   06:10:25\n",
              "Timeband                                                                    Day\n",
              "BreakType (Block type)                                                  Between\n",
              "Title                                        ZONA DLA MILIONERA /PROG.ROZR.USA/\n",
              "Position Type in the block of commercials                                Middle\n",
              "Commercial length                                                            30\n",
              "GRP                                                                           0\n",
              "Name: 0, dtype: object"
            ]
          },
          "metadata": {
            "tags": []
          },
          "execution_count": 6
        }
      ]
    },
    {
      "cell_type": "code",
      "metadata": {
        "id": "aXMm4ZBkrAtz",
        "outputId": "dcc4fe85-7743-4cb0-9cad-b7c947dc343f",
        "colab": {
          "base_uri": "https://localhost:8080/",
          "height": 204
        }
      },
      "source": [
        "spots.iloc[-1,:]"
      ],
      "execution_count": null,
      "outputs": [
        {
          "output_type": "execute_result",
          "data": {
            "text/plain": [
              "Campaign Channel                                                                TVN\n",
              "AGB Channel                                                                     TVN\n",
              "Date                                                            2014-11-23 00:00:00\n",
              "Time                                                                       25:30:24\n",
              "Timeband                                                                      Night\n",
              "BreakType (Block type)                                                      Between\n",
              "Title                                        KUCHENNE REWOLUCJE /REALITY SHOW POL./\n",
              "Position Type in the block of commercials                      Second / Penultimate\n",
              "Commercial length                                                                30\n",
              "GRP                                                                        0.190529\n",
              "Name: 2206, dtype: object"
            ]
          },
          "metadata": {
            "tags": []
          },
          "execution_count": 7
        }
      ]
    },
    {
      "cell_type": "markdown",
      "metadata": {
        "id": "ut1GLASSrIxx"
      },
      "source": [
        "spots dataset includes data from 10.11.2014 6 a.m. till 23.11.2014 2 a.m."
      ]
    },
    {
      "cell_type": "markdown",
      "metadata": {
        "id": "mFL65QiorZUn"
      },
      "source": [
        "Since we want to check impact of spots on ratings I will drop all rows before 10.11.2014 6 a.m. and all rows after 23.11.2014 2 a.m. from visits dataset."
      ]
    },
    {
      "cell_type": "markdown",
      "metadata": {
        "id": "wH7e9EGatKot"
      },
      "source": [
        "For faster data preprocessing I've decided to cut mentioned above rows in excel, import new visits dataset and overwrite visits variable."
      ]
    },
    {
      "cell_type": "code",
      "metadata": {
        "id": "Tugxhy09U-bY",
        "outputId": "64109d68-172f-444a-f26d-30ef3b686923",
        "colab": {
          "base_uri": "https://localhost:8080/",
          "height": 419
        }
      },
      "source": [
        "visits = pd.read_excel('visits.xlsx')\n",
        "visits"
      ],
      "execution_count": null,
      "outputs": [
        {
          "output_type": "execute_result",
          "data": {
            "text/html": [
              "<div>\n",
              "<style scoped>\n",
              "    .dataframe tbody tr th:only-of-type {\n",
              "        vertical-align: middle;\n",
              "    }\n",
              "\n",
              "    .dataframe tbody tr th {\n",
              "        vertical-align: top;\n",
              "    }\n",
              "\n",
              "    .dataframe thead th {\n",
              "        text-align: right;\n",
              "    }\n",
              "</style>\n",
              "<table border=\"1\" class=\"dataframe\">\n",
              "  <thead>\n",
              "    <tr style=\"text-align: right;\">\n",
              "      <th></th>\n",
              "      <th>Data</th>\n",
              "      <th>godzina</th>\n",
              "      <th>Wizyty_all</th>\n",
              "    </tr>\n",
              "  </thead>\n",
              "  <tbody>\n",
              "    <tr>\n",
              "      <th>0</th>\n",
              "      <td>2014-11-10</td>\n",
              "      <td>6</td>\n",
              "      <td>1070</td>\n",
              "    </tr>\n",
              "    <tr>\n",
              "      <th>1</th>\n",
              "      <td>2014-11-10</td>\n",
              "      <td>7</td>\n",
              "      <td>3086</td>\n",
              "    </tr>\n",
              "    <tr>\n",
              "      <th>2</th>\n",
              "      <td>2014-11-10</td>\n",
              "      <td>8</td>\n",
              "      <td>5989</td>\n",
              "    </tr>\n",
              "    <tr>\n",
              "      <th>3</th>\n",
              "      <td>2014-11-10</td>\n",
              "      <td>9</td>\n",
              "      <td>11506</td>\n",
              "    </tr>\n",
              "    <tr>\n",
              "      <th>4</th>\n",
              "      <td>2014-11-10</td>\n",
              "      <td>10</td>\n",
              "      <td>9680</td>\n",
              "    </tr>\n",
              "    <tr>\n",
              "      <th>...</th>\n",
              "      <td>...</td>\n",
              "      <td>...</td>\n",
              "      <td>...</td>\n",
              "    </tr>\n",
              "    <tr>\n",
              "      <th>304</th>\n",
              "      <td>2014-11-22</td>\n",
              "      <td>22</td>\n",
              "      <td>5350</td>\n",
              "    </tr>\n",
              "    <tr>\n",
              "      <th>305</th>\n",
              "      <td>2014-11-22</td>\n",
              "      <td>23</td>\n",
              "      <td>3989</td>\n",
              "    </tr>\n",
              "    <tr>\n",
              "      <th>306</th>\n",
              "      <td>2014-11-23</td>\n",
              "      <td>0</td>\n",
              "      <td>2356</td>\n",
              "    </tr>\n",
              "    <tr>\n",
              "      <th>307</th>\n",
              "      <td>2014-11-23</td>\n",
              "      <td>1</td>\n",
              "      <td>991</td>\n",
              "    </tr>\n",
              "    <tr>\n",
              "      <th>308</th>\n",
              "      <td>2014-11-23</td>\n",
              "      <td>2</td>\n",
              "      <td>466</td>\n",
              "    </tr>\n",
              "  </tbody>\n",
              "</table>\n",
              "<p>309 rows × 3 columns</p>\n",
              "</div>"
            ],
            "text/plain": [
              "          Data  godzina  Wizyty_all\n",
              "0   2014-11-10        6        1070\n",
              "1   2014-11-10        7        3086\n",
              "2   2014-11-10        8        5989\n",
              "3   2014-11-10        9       11506\n",
              "4   2014-11-10       10        9680\n",
              "..         ...      ...         ...\n",
              "304 2014-11-22       22        5350\n",
              "305 2014-11-22       23        3989\n",
              "306 2014-11-23        0        2356\n",
              "307 2014-11-23        1         991\n",
              "308 2014-11-23        2         466\n",
              "\n",
              "[309 rows x 3 columns]"
            ]
          },
          "metadata": {
            "tags": []
          },
          "execution_count": 8
        }
      ]
    },
    {
      "cell_type": "markdown",
      "metadata": {
        "id": "be5QnzCppbEv"
      },
      "source": [
        "#Data preprocessing"
      ]
    },
    {
      "cell_type": "markdown",
      "metadata": {
        "id": "2pFAqM1cbbf_"
      },
      "source": [
        "I want to merge datasets into one dataset. To find out whether an advertising spot has any impact on the ratings first I need to match visits and spots datasets by exact time"
      ]
    },
    {
      "cell_type": "markdown",
      "metadata": {
        "id": "TDXonJmJceQS"
      },
      "source": [
        "##Reassigning time"
      ]
    },
    {
      "cell_type": "markdown",
      "metadata": {
        "id": "FPpGN8Yxei42"
      },
      "source": [
        "I've noticed that Date column in spots dataset shows 25 instead of 1 a.m. and 24 instead of 0 a.m. I will change it with apply function"
      ]
    },
    {
      "cell_type": "code",
      "metadata": {
        "id": "kb-5svKxfIWE",
        "outputId": "7930a193-e8e8-4b44-ee83-96db69a79430",
        "colab": {
          "base_uri": "https://localhost:8080/",
          "height": 34
        }
      },
      "source": [
        "type(spots['Time'][0])"
      ],
      "execution_count": null,
      "outputs": [
        {
          "output_type": "execute_result",
          "data": {
            "text/plain": [
              "str"
            ]
          },
          "metadata": {
            "tags": []
          },
          "execution_count": 9
        }
      ]
    },
    {
      "cell_type": "markdown",
      "metadata": {
        "id": "88bqJjmdfJl5"
      },
      "source": [
        "As we could guess it's a string type"
      ]
    },
    {
      "cell_type": "code",
      "metadata": {
        "id": "aanpQiFhfV2j",
        "outputId": "f70c7ed0-385b-4b2a-c23a-0902c919bf1d",
        "colab": {
          "base_uri": "https://localhost:8080/",
          "height": 702
        }
      },
      "source": [
        "spots['Time'] = spots['Time'].apply(lambda x: '01%s' % (x[2:]) if x[0:2]=='25' else x)\n",
        "spots['Time'] = spots['Time'].apply(lambda x: '00%s' % (x[2:]) if x[0:2]=='24' else x)\n",
        "spots.tail(10)"
      ],
      "execution_count": null,
      "outputs": [
        {
          "output_type": "execute_result",
          "data": {
            "text/html": [
              "<div>\n",
              "<style scoped>\n",
              "    .dataframe tbody tr th:only-of-type {\n",
              "        vertical-align: middle;\n",
              "    }\n",
              "\n",
              "    .dataframe tbody tr th {\n",
              "        vertical-align: top;\n",
              "    }\n",
              "\n",
              "    .dataframe thead th {\n",
              "        text-align: right;\n",
              "    }\n",
              "</style>\n",
              "<table border=\"1\" class=\"dataframe\">\n",
              "  <thead>\n",
              "    <tr style=\"text-align: right;\">\n",
              "      <th></th>\n",
              "      <th>Campaign Channel</th>\n",
              "      <th>AGB Channel</th>\n",
              "      <th>Date</th>\n",
              "      <th>Time</th>\n",
              "      <th>Timeband</th>\n",
              "      <th>BreakType (Block type)</th>\n",
              "      <th>Title</th>\n",
              "      <th>Position Type in the block of commercials</th>\n",
              "      <th>Commercial length</th>\n",
              "      <th>GRP</th>\n",
              "    </tr>\n",
              "  </thead>\n",
              "  <tbody>\n",
              "    <tr>\n",
              "      <th>2197</th>\n",
              "      <td>TVN Pakiet Tematyczny</td>\n",
              "      <td>VH1 Europe</td>\n",
              "      <td>2014-11-23</td>\n",
              "      <td>23:47:52</td>\n",
              "      <td>Night</td>\n",
              "      <td>Between</td>\n",
              "      <td>VH1 HITS /PROGR.MUZ.W.BRYT./</td>\n",
              "      <td>Middle</td>\n",
              "      <td>30</td>\n",
              "      <td>0.000000</td>\n",
              "    </tr>\n",
              "    <tr>\n",
              "      <th>2198</th>\n",
              "      <td>TVN Pakiet Tematyczny</td>\n",
              "      <td>FoxLife</td>\n",
              "      <td>2014-11-23</td>\n",
              "      <td>23:47:53</td>\n",
              "      <td>Night</td>\n",
              "      <td>Before</td>\n",
              "      <td>POKOJOWKI Z BEVERLY HILLS /SER.OBYCZ.USA/</td>\n",
              "      <td>Middle</td>\n",
              "      <td>30</td>\n",
              "      <td>0.000000</td>\n",
              "    </tr>\n",
              "    <tr>\n",
              "      <th>2199</th>\n",
              "      <td>TVN Pakiet Tematyczny</td>\n",
              "      <td>Mjuzik.tv</td>\n",
              "      <td>2014-11-23</td>\n",
              "      <td>00:13:27</td>\n",
              "      <td>Night</td>\n",
              "      <td>Between</td>\n",
              "      <td>TELEDYSKI</td>\n",
              "      <td>Middle</td>\n",
              "      <td>30</td>\n",
              "      <td>0.000000</td>\n",
              "    </tr>\n",
              "    <tr>\n",
              "      <th>2200</th>\n",
              "      <td>TVN Pakiet Tematyczny</td>\n",
              "      <td>Investigation Discovery</td>\n",
              "      <td>2014-11-23</td>\n",
              "      <td>00:27:49</td>\n",
              "      <td>Night</td>\n",
              "      <td>After</td>\n",
              "      <td>MROCZNE UMYSLY /SER.DOK.USA/</td>\n",
              "      <td>Middle</td>\n",
              "      <td>30</td>\n",
              "      <td>0.000000</td>\n",
              "    </tr>\n",
              "    <tr>\n",
              "      <th>2201</th>\n",
              "      <td>TVN Pakiet Tematyczny</td>\n",
              "      <td>FoxLife</td>\n",
              "      <td>2014-11-23</td>\n",
              "      <td>00:29:07</td>\n",
              "      <td>Night</td>\n",
              "      <td>Between</td>\n",
              "      <td>POKOJOWKI Z BEVERLY HILLS /SER.OBYCZ.USA/</td>\n",
              "      <td>Middle</td>\n",
              "      <td>30</td>\n",
              "      <td>0.000000</td>\n",
              "    </tr>\n",
              "    <tr>\n",
              "      <th>2202</th>\n",
              "      <td>TVN Pakiet Tematyczny</td>\n",
              "      <td>kuchnia.tv</td>\n",
              "      <td>2014-11-23</td>\n",
              "      <td>00:32:15</td>\n",
              "      <td>Night</td>\n",
              "      <td>After</td>\n",
              "      <td>PRZEZ DZIURKE OD SERA /PROG.PORAD.POL./</td>\n",
              "      <td>Middle</td>\n",
              "      <td>30</td>\n",
              "      <td>0.000000</td>\n",
              "    </tr>\n",
              "    <tr>\n",
              "      <th>2203</th>\n",
              "      <td>TVN Pakiet Tematyczny</td>\n",
              "      <td>Comedy Central Family</td>\n",
              "      <td>2014-11-23</td>\n",
              "      <td>00:46:21</td>\n",
              "      <td>Night</td>\n",
              "      <td>Between</td>\n",
              "      <td>COUGAR TOWN MIASTO KOCIC /SER.KOM.USA/</td>\n",
              "      <td>Middle</td>\n",
              "      <td>30</td>\n",
              "      <td>0.000000</td>\n",
              "    </tr>\n",
              "    <tr>\n",
              "      <th>2204</th>\n",
              "      <td>Polsat Pakiet Tematyczny</td>\n",
              "      <td>ATM Rozrywka</td>\n",
              "      <td>2014-11-23</td>\n",
              "      <td>01:11:09</td>\n",
              "      <td>Night</td>\n",
              "      <td>Between</td>\n",
              "      <td>SYNOWIE /SER.KOM.POL./</td>\n",
              "      <td>Middle</td>\n",
              "      <td>30</td>\n",
              "      <td>0.000000</td>\n",
              "    </tr>\n",
              "    <tr>\n",
              "      <th>2205</th>\n",
              "      <td>TVN Pakiet Tematyczny</td>\n",
              "      <td>Investigation Discovery</td>\n",
              "      <td>2014-11-23</td>\n",
              "      <td>01:26:59</td>\n",
              "      <td>Night</td>\n",
              "      <td>After</td>\n",
              "      <td>ZLO W GENACH /SER.DOK.USA/</td>\n",
              "      <td>Middle</td>\n",
              "      <td>30</td>\n",
              "      <td>0.525207</td>\n",
              "    </tr>\n",
              "    <tr>\n",
              "      <th>2206</th>\n",
              "      <td>TVN</td>\n",
              "      <td>TVN</td>\n",
              "      <td>2014-11-23</td>\n",
              "      <td>01:30:24</td>\n",
              "      <td>Night</td>\n",
              "      <td>Between</td>\n",
              "      <td>KUCHENNE REWOLUCJE /REALITY SHOW POL./</td>\n",
              "      <td>Second / Penultimate</td>\n",
              "      <td>30</td>\n",
              "      <td>0.190529</td>\n",
              "    </tr>\n",
              "  </tbody>\n",
              "</table>\n",
              "</div>"
            ],
            "text/plain": [
              "              Campaign Channel  ...       GRP\n",
              "2197     TVN Pakiet Tematyczny  ...  0.000000\n",
              "2198     TVN Pakiet Tematyczny  ...  0.000000\n",
              "2199     TVN Pakiet Tematyczny  ...  0.000000\n",
              "2200     TVN Pakiet Tematyczny  ...  0.000000\n",
              "2201     TVN Pakiet Tematyczny  ...  0.000000\n",
              "2202     TVN Pakiet Tematyczny  ...  0.000000\n",
              "2203     TVN Pakiet Tematyczny  ...  0.000000\n",
              "2204  Polsat Pakiet Tematyczny  ...  0.000000\n",
              "2205     TVN Pakiet Tematyczny  ...  0.525207\n",
              "2206                       TVN  ...  0.190529\n",
              "\n",
              "[10 rows x 10 columns]"
            ]
          },
          "metadata": {
            "tags": []
          },
          "execution_count": 10
        }
      ]
    },
    {
      "cell_type": "markdown",
      "metadata": {
        "id": "jfw6g9g6cmGY"
      },
      "source": [
        "##Reassigning dates"
      ]
    },
    {
      "cell_type": "markdown",
      "metadata": {
        "id": "2QBW05bKNmnZ"
      },
      "source": [
        "Now I have to take care of dates. In every 24 and 01 hour the day haven't changed to next day. I've tried multiple functions with apply() but I find out that pandas bug occurs. That's why I will create 2 separate columns 'actualHour' and 'dayOfMonth'"
      ]
    },
    {
      "cell_type": "markdown",
      "metadata": {
        "id": "gSxPAO2Ud1CJ"
      },
      "source": [
        "First I will change datetime type from Date column into string type."
      ]
    },
    {
      "cell_type": "code",
      "metadata": {
        "id": "S04UziV_eJZj",
        "outputId": "5c1b6d46-9746-444d-95a9-56e75c29aaf3",
        "colab": {
          "base_uri": "https://localhost:8080/",
          "height": 34
        }
      },
      "source": [
        "spots['Date'][0]"
      ],
      "execution_count": null,
      "outputs": [
        {
          "output_type": "execute_result",
          "data": {
            "text/plain": [
              "Timestamp('2014-11-10 00:00:00')"
            ]
          },
          "metadata": {
            "tags": []
          },
          "execution_count": 11
        }
      ]
    },
    {
      "cell_type": "code",
      "metadata": {
        "id": "mifN9k_od5Kj"
      },
      "source": [
        "from datetime import datetime, timedelta\n",
        "spots['Date'] = spots['Date'].apply(lambda x: datetime.strftime(x,'%Y-%m-%d'))"
      ],
      "execution_count": null,
      "outputs": []
    },
    {
      "cell_type": "code",
      "metadata": {
        "id": "ikeP3bXBeG8Q",
        "outputId": "38e29f9a-ac46-4618-90ff-31fe819dbf0f",
        "colab": {
          "base_uri": "https://localhost:8080/",
          "height": 37
        }
      },
      "source": [
        "spots['Date'][2206]"
      ],
      "execution_count": null,
      "outputs": [
        {
          "output_type": "execute_result",
          "data": {
            "application/vnd.google.colaboratory.intrinsic+json": {
              "type": "string"
            },
            "text/plain": [
              "'2014-11-23'"
            ]
          },
          "metadata": {
            "tags": []
          },
          "execution_count": 13
        }
      ]
    },
    {
      "cell_type": "code",
      "metadata": {
        "id": "XEtch72ieHhk",
        "outputId": "838492c0-2f70-403e-f065-d8de072fb1ed",
        "colab": {
          "base_uri": "https://localhost:8080/",
          "height": 37
        }
      },
      "source": [
        "spots['Time'][0]"
      ],
      "execution_count": null,
      "outputs": [
        {
          "output_type": "execute_result",
          "data": {
            "application/vnd.google.colaboratory.intrinsic+json": {
              "type": "string"
            },
            "text/plain": [
              "'06:10:25'"
            ]
          },
          "metadata": {
            "tags": []
          },
          "execution_count": 14
        }
      ]
    },
    {
      "cell_type": "code",
      "metadata": {
        "id": "FjWeak7JODt3"
      },
      "source": [
        "spots['actualHour'] = spots['Time'].apply(lambda x: x[:2]) \n",
        "spots['dayOfMonth'] = spots['Date'].apply(lambda x: x[-2:])"
      ],
      "execution_count": null,
      "outputs": []
    },
    {
      "cell_type": "markdown",
      "metadata": {
        "id": "M6qzLbEBfHaQ"
      },
      "source": [
        "I will turn string type into int type in actualHour and dayOfMonth columns"
      ]
    },
    {
      "cell_type": "code",
      "metadata": {
        "id": "0tQ78gemfNmq"
      },
      "source": [
        "spots['actualHour'] = spots['actualHour'].apply(lambda x: int(x))\n",
        "spots['dayOfMonth'] = spots['dayOfMonth'].apply(lambda x: int(x))"
      ],
      "execution_count": null,
      "outputs": []
    },
    {
      "cell_type": "code",
      "metadata": {
        "id": "iCTQtgYmfgiO",
        "outputId": "2995d2d7-c741-4574-ec3b-1b79da96eca0",
        "colab": {
          "base_uri": "https://localhost:8080/",
          "height": 34
        }
      },
      "source": [
        "type(spots['actualHour'][0])"
      ],
      "execution_count": null,
      "outputs": [
        {
          "output_type": "execute_result",
          "data": {
            "text/plain": [
              "numpy.int64"
            ]
          },
          "metadata": {
            "tags": []
          },
          "execution_count": 17
        }
      ]
    },
    {
      "cell_type": "code",
      "metadata": {
        "id": "Tbs0XUFkfkxC",
        "outputId": "969c545b-5ad9-4602-a0a1-4ce7f476190f",
        "colab": {
          "base_uri": "https://localhost:8080/",
          "height": 34
        }
      },
      "source": [
        "type(spots['dayOfMonth'][0])"
      ],
      "execution_count": null,
      "outputs": [
        {
          "output_type": "execute_result",
          "data": {
            "text/plain": [
              "numpy.int64"
            ]
          },
          "metadata": {
            "tags": []
          },
          "execution_count": 18
        }
      ]
    },
    {
      "cell_type": "code",
      "metadata": {
        "id": "5WjtuoMqdinz",
        "outputId": "8fbdc70e-4479-41c5-be57-9a300c41d50e",
        "colab": {
          "base_uri": "https://localhost:8080/",
          "height": 394
        }
      },
      "source": [
        "spots.head()"
      ],
      "execution_count": null,
      "outputs": [
        {
          "output_type": "execute_result",
          "data": {
            "text/html": [
              "<div>\n",
              "<style scoped>\n",
              "    .dataframe tbody tr th:only-of-type {\n",
              "        vertical-align: middle;\n",
              "    }\n",
              "\n",
              "    .dataframe tbody tr th {\n",
              "        vertical-align: top;\n",
              "    }\n",
              "\n",
              "    .dataframe thead th {\n",
              "        text-align: right;\n",
              "    }\n",
              "</style>\n",
              "<table border=\"1\" class=\"dataframe\">\n",
              "  <thead>\n",
              "    <tr style=\"text-align: right;\">\n",
              "      <th></th>\n",
              "      <th>Campaign Channel</th>\n",
              "      <th>AGB Channel</th>\n",
              "      <th>Date</th>\n",
              "      <th>Time</th>\n",
              "      <th>Timeband</th>\n",
              "      <th>BreakType (Block type)</th>\n",
              "      <th>Title</th>\n",
              "      <th>Position Type in the block of commercials</th>\n",
              "      <th>Commercial length</th>\n",
              "      <th>GRP</th>\n",
              "      <th>actualHour</th>\n",
              "      <th>dayOfMonth</th>\n",
              "    </tr>\n",
              "  </thead>\n",
              "  <tbody>\n",
              "    <tr>\n",
              "      <th>0</th>\n",
              "      <td>TVN Pakiet Tematyczny</td>\n",
              "      <td>FoxLife</td>\n",
              "      <td>2014-11-10</td>\n",
              "      <td>06:10:25</td>\n",
              "      <td>Day</td>\n",
              "      <td>Between</td>\n",
              "      <td>ZONA DLA MILIONERA /PROG.ROZR.USA/</td>\n",
              "      <td>Middle</td>\n",
              "      <td>30</td>\n",
              "      <td>0.0</td>\n",
              "      <td>6</td>\n",
              "      <td>10</td>\n",
              "    </tr>\n",
              "    <tr>\n",
              "      <th>1</th>\n",
              "      <td>TVP Pakiet Tematyczny</td>\n",
              "      <td>TVP Seriale</td>\n",
              "      <td>2014-11-10</td>\n",
              "      <td>06:11:50</td>\n",
              "      <td>Day</td>\n",
              "      <td>After</td>\n",
              "      <td>LOKATORZY /SER.KOM.POL./</td>\n",
              "      <td>Middle</td>\n",
              "      <td>30</td>\n",
              "      <td>0.0</td>\n",
              "      <td>6</td>\n",
              "      <td>10</td>\n",
              "    </tr>\n",
              "    <tr>\n",
              "      <th>2</th>\n",
              "      <td>TVN Pakiet Tematyczny</td>\n",
              "      <td>Mjuzik.tv</td>\n",
              "      <td>2014-11-10</td>\n",
              "      <td>06:12:59</td>\n",
              "      <td>Day</td>\n",
              "      <td>Between</td>\n",
              "      <td>TELEDYSKI</td>\n",
              "      <td>Middle</td>\n",
              "      <td>30</td>\n",
              "      <td>0.0</td>\n",
              "      <td>6</td>\n",
              "      <td>10</td>\n",
              "    </tr>\n",
              "    <tr>\n",
              "      <th>3</th>\n",
              "      <td>TVN Pakiet Tematyczny</td>\n",
              "      <td>MTV Polska</td>\n",
              "      <td>2014-11-10</td>\n",
              "      <td>06:19:06</td>\n",
              "      <td>Day</td>\n",
              "      <td>Between</td>\n",
              "      <td>PIMP MY RIDE</td>\n",
              "      <td>Middle</td>\n",
              "      <td>30</td>\n",
              "      <td>0.0</td>\n",
              "      <td>6</td>\n",
              "      <td>10</td>\n",
              "    </tr>\n",
              "    <tr>\n",
              "      <th>4</th>\n",
              "      <td>TVN Pakiet Tematyczny</td>\n",
              "      <td>Comedy Central Family</td>\n",
              "      <td>2014-11-10</td>\n",
              "      <td>06:42:34</td>\n",
              "      <td>Day</td>\n",
              "      <td>Between</td>\n",
              "      <td>DALEKO JESZCZE? /SER.KOM.USA/</td>\n",
              "      <td>Middle</td>\n",
              "      <td>30</td>\n",
              "      <td>0.0</td>\n",
              "      <td>6</td>\n",
              "      <td>10</td>\n",
              "    </tr>\n",
              "  </tbody>\n",
              "</table>\n",
              "</div>"
            ],
            "text/plain": [
              "        Campaign Channel            AGB Channel  ... actualHour dayOfMonth\n",
              "0  TVN Pakiet Tematyczny                FoxLife  ...          6         10\n",
              "1  TVP Pakiet Tematyczny            TVP Seriale  ...          6         10\n",
              "2  TVN Pakiet Tematyczny              Mjuzik.tv  ...          6         10\n",
              "3  TVN Pakiet Tematyczny             MTV Polska  ...          6         10\n",
              "4  TVN Pakiet Tematyczny  Comedy Central Family  ...          6         10\n",
              "\n",
              "[5 rows x 12 columns]"
            ]
          },
          "metadata": {
            "tags": []
          },
          "execution_count": 19
        }
      ]
    },
    {
      "cell_type": "markdown",
      "metadata": {
        "id": "Y-2r54kDgQgJ"
      },
      "source": [
        "I have to reassign every date which is attached to 0 or 1 hour. Every mentioned day should be greater by 1"
      ]
    },
    {
      "cell_type": "code",
      "metadata": {
        "id": "Q6qjTELB2onS"
      },
      "source": [
        "# spots['Date'] = spots[['Date','Time']].apply(lambda x: x[0]+timedelta(days=1) if x[1] == 0 or x[1] == 1 else x[0])"
      ],
      "execution_count": null,
      "outputs": []
    },
    {
      "cell_type": "code",
      "metadata": {
        "id": "Aof6tP6SihBr"
      },
      "source": [
        "dayOfMonth = spots['dayOfMonth']\n",
        "actualHour = spots['actualHour']"
      ],
      "execution_count": null,
      "outputs": []
    },
    {
      "cell_type": "code",
      "metadata": {
        "id": "LlylbpwSinkz",
        "outputId": "c9ff4e8e-a897-4ffd-a4cd-c86ea941f2db",
        "colab": {
          "base_uri": "https://localhost:8080/",
          "height": 221
        }
      },
      "source": [
        "dayOfMonth"
      ],
      "execution_count": null,
      "outputs": [
        {
          "output_type": "execute_result",
          "data": {
            "text/plain": [
              "0       10\n",
              "1       10\n",
              "2       10\n",
              "3       10\n",
              "4       10\n",
              "        ..\n",
              "2202    23\n",
              "2203    23\n",
              "2204    23\n",
              "2205    23\n",
              "2206    23\n",
              "Name: dayOfMonth, Length: 2207, dtype: int64"
            ]
          },
          "metadata": {
            "tags": []
          },
          "execution_count": 22
        }
      ]
    },
    {
      "cell_type": "code",
      "metadata": {
        "id": "X0mMQVRSirWn",
        "outputId": "0b1ca123-73de-4118-eb9b-ccf4d824813b",
        "colab": {
          "base_uri": "https://localhost:8080/",
          "height": 221
        }
      },
      "source": [
        "actualHour"
      ],
      "execution_count": null,
      "outputs": [
        {
          "output_type": "execute_result",
          "data": {
            "text/plain": [
              "0       6\n",
              "1       6\n",
              "2       6\n",
              "3       6\n",
              "4       6\n",
              "       ..\n",
              "2202    0\n",
              "2203    0\n",
              "2204    1\n",
              "2205    1\n",
              "2206    1\n",
              "Name: actualHour, Length: 2207, dtype: int64"
            ]
          },
          "metadata": {
            "tags": []
          },
          "execution_count": 23
        }
      ]
    },
    {
      "cell_type": "code",
      "metadata": {
        "id": "ePXgSZ7nivBW"
      },
      "source": [
        "reassignedDate = []\n",
        "\n",
        "for i in range(len(dayOfMonth)):\n",
        "  if actualHour[i] == 1 or actualHour[i] == 0:\n",
        "    reassignedDate.append(dayOfMonth[i]+1)\n",
        "  else:\n",
        "    reassignedDate.append(dayOfMonth[i])"
      ],
      "execution_count": null,
      "outputs": []
    },
    {
      "cell_type": "code",
      "metadata": {
        "id": "ZEbQnojhjT5i",
        "outputId": "ffa5af19-18ec-4401-aa04-07eb21f8e0e0",
        "colab": {
          "base_uri": "https://localhost:8080/",
          "height": 34
        }
      },
      "source": [
        "len(reassignedDate)"
      ],
      "execution_count": null,
      "outputs": [
        {
          "output_type": "execute_result",
          "data": {
            "text/plain": [
              "2207"
            ]
          },
          "metadata": {
            "tags": []
          },
          "execution_count": 25
        }
      ]
    },
    {
      "cell_type": "code",
      "metadata": {
        "id": "4XLVBe0jja1U"
      },
      "source": [
        "spots['dayOfMonth'] = reassignedDate"
      ],
      "execution_count": null,
      "outputs": []
    },
    {
      "cell_type": "code",
      "metadata": {
        "id": "OVbK0chTjfvi",
        "outputId": "61416299-45ab-4419-d38b-49d6bf02af67",
        "colab": {
          "base_uri": "https://localhost:8080/",
          "height": 779
        }
      },
      "source": [
        "spots"
      ],
      "execution_count": null,
      "outputs": [
        {
          "output_type": "execute_result",
          "data": {
            "text/html": [
              "<div>\n",
              "<style scoped>\n",
              "    .dataframe tbody tr th:only-of-type {\n",
              "        vertical-align: middle;\n",
              "    }\n",
              "\n",
              "    .dataframe tbody tr th {\n",
              "        vertical-align: top;\n",
              "    }\n",
              "\n",
              "    .dataframe thead th {\n",
              "        text-align: right;\n",
              "    }\n",
              "</style>\n",
              "<table border=\"1\" class=\"dataframe\">\n",
              "  <thead>\n",
              "    <tr style=\"text-align: right;\">\n",
              "      <th></th>\n",
              "      <th>Campaign Channel</th>\n",
              "      <th>AGB Channel</th>\n",
              "      <th>Date</th>\n",
              "      <th>Time</th>\n",
              "      <th>Timeband</th>\n",
              "      <th>BreakType (Block type)</th>\n",
              "      <th>Title</th>\n",
              "      <th>Position Type in the block of commercials</th>\n",
              "      <th>Commercial length</th>\n",
              "      <th>GRP</th>\n",
              "      <th>actualHour</th>\n",
              "      <th>dayOfMonth</th>\n",
              "    </tr>\n",
              "  </thead>\n",
              "  <tbody>\n",
              "    <tr>\n",
              "      <th>0</th>\n",
              "      <td>TVN Pakiet Tematyczny</td>\n",
              "      <td>FoxLife</td>\n",
              "      <td>2014-11-10</td>\n",
              "      <td>06:10:25</td>\n",
              "      <td>Day</td>\n",
              "      <td>Between</td>\n",
              "      <td>ZONA DLA MILIONERA /PROG.ROZR.USA/</td>\n",
              "      <td>Middle</td>\n",
              "      <td>30</td>\n",
              "      <td>0.000000</td>\n",
              "      <td>6</td>\n",
              "      <td>10</td>\n",
              "    </tr>\n",
              "    <tr>\n",
              "      <th>1</th>\n",
              "      <td>TVP Pakiet Tematyczny</td>\n",
              "      <td>TVP Seriale</td>\n",
              "      <td>2014-11-10</td>\n",
              "      <td>06:11:50</td>\n",
              "      <td>Day</td>\n",
              "      <td>After</td>\n",
              "      <td>LOKATORZY /SER.KOM.POL./</td>\n",
              "      <td>Middle</td>\n",
              "      <td>30</td>\n",
              "      <td>0.000000</td>\n",
              "      <td>6</td>\n",
              "      <td>10</td>\n",
              "    </tr>\n",
              "    <tr>\n",
              "      <th>2</th>\n",
              "      <td>TVN Pakiet Tematyczny</td>\n",
              "      <td>Mjuzik.tv</td>\n",
              "      <td>2014-11-10</td>\n",
              "      <td>06:12:59</td>\n",
              "      <td>Day</td>\n",
              "      <td>Between</td>\n",
              "      <td>TELEDYSKI</td>\n",
              "      <td>Middle</td>\n",
              "      <td>30</td>\n",
              "      <td>0.000000</td>\n",
              "      <td>6</td>\n",
              "      <td>10</td>\n",
              "    </tr>\n",
              "    <tr>\n",
              "      <th>3</th>\n",
              "      <td>TVN Pakiet Tematyczny</td>\n",
              "      <td>MTV Polska</td>\n",
              "      <td>2014-11-10</td>\n",
              "      <td>06:19:06</td>\n",
              "      <td>Day</td>\n",
              "      <td>Between</td>\n",
              "      <td>PIMP MY RIDE</td>\n",
              "      <td>Middle</td>\n",
              "      <td>30</td>\n",
              "      <td>0.000000</td>\n",
              "      <td>6</td>\n",
              "      <td>10</td>\n",
              "    </tr>\n",
              "    <tr>\n",
              "      <th>4</th>\n",
              "      <td>TVN Pakiet Tematyczny</td>\n",
              "      <td>Comedy Central Family</td>\n",
              "      <td>2014-11-10</td>\n",
              "      <td>06:42:34</td>\n",
              "      <td>Day</td>\n",
              "      <td>Between</td>\n",
              "      <td>DALEKO JESZCZE? /SER.KOM.USA/</td>\n",
              "      <td>Middle</td>\n",
              "      <td>30</td>\n",
              "      <td>0.000000</td>\n",
              "      <td>6</td>\n",
              "      <td>10</td>\n",
              "    </tr>\n",
              "    <tr>\n",
              "      <th>...</th>\n",
              "      <td>...</td>\n",
              "      <td>...</td>\n",
              "      <td>...</td>\n",
              "      <td>...</td>\n",
              "      <td>...</td>\n",
              "      <td>...</td>\n",
              "      <td>...</td>\n",
              "      <td>...</td>\n",
              "      <td>...</td>\n",
              "      <td>...</td>\n",
              "      <td>...</td>\n",
              "      <td>...</td>\n",
              "    </tr>\n",
              "    <tr>\n",
              "      <th>2202</th>\n",
              "      <td>TVN Pakiet Tematyczny</td>\n",
              "      <td>kuchnia.tv</td>\n",
              "      <td>2014-11-23</td>\n",
              "      <td>00:32:15</td>\n",
              "      <td>Night</td>\n",
              "      <td>After</td>\n",
              "      <td>PRZEZ DZIURKE OD SERA /PROG.PORAD.POL./</td>\n",
              "      <td>Middle</td>\n",
              "      <td>30</td>\n",
              "      <td>0.000000</td>\n",
              "      <td>0</td>\n",
              "      <td>24</td>\n",
              "    </tr>\n",
              "    <tr>\n",
              "      <th>2203</th>\n",
              "      <td>TVN Pakiet Tematyczny</td>\n",
              "      <td>Comedy Central Family</td>\n",
              "      <td>2014-11-23</td>\n",
              "      <td>00:46:21</td>\n",
              "      <td>Night</td>\n",
              "      <td>Between</td>\n",
              "      <td>COUGAR TOWN MIASTO KOCIC /SER.KOM.USA/</td>\n",
              "      <td>Middle</td>\n",
              "      <td>30</td>\n",
              "      <td>0.000000</td>\n",
              "      <td>0</td>\n",
              "      <td>24</td>\n",
              "    </tr>\n",
              "    <tr>\n",
              "      <th>2204</th>\n",
              "      <td>Polsat Pakiet Tematyczny</td>\n",
              "      <td>ATM Rozrywka</td>\n",
              "      <td>2014-11-23</td>\n",
              "      <td>01:11:09</td>\n",
              "      <td>Night</td>\n",
              "      <td>Between</td>\n",
              "      <td>SYNOWIE /SER.KOM.POL./</td>\n",
              "      <td>Middle</td>\n",
              "      <td>30</td>\n",
              "      <td>0.000000</td>\n",
              "      <td>1</td>\n",
              "      <td>24</td>\n",
              "    </tr>\n",
              "    <tr>\n",
              "      <th>2205</th>\n",
              "      <td>TVN Pakiet Tematyczny</td>\n",
              "      <td>Investigation Discovery</td>\n",
              "      <td>2014-11-23</td>\n",
              "      <td>01:26:59</td>\n",
              "      <td>Night</td>\n",
              "      <td>After</td>\n",
              "      <td>ZLO W GENACH /SER.DOK.USA/</td>\n",
              "      <td>Middle</td>\n",
              "      <td>30</td>\n",
              "      <td>0.525207</td>\n",
              "      <td>1</td>\n",
              "      <td>24</td>\n",
              "    </tr>\n",
              "    <tr>\n",
              "      <th>2206</th>\n",
              "      <td>TVN</td>\n",
              "      <td>TVN</td>\n",
              "      <td>2014-11-23</td>\n",
              "      <td>01:30:24</td>\n",
              "      <td>Night</td>\n",
              "      <td>Between</td>\n",
              "      <td>KUCHENNE REWOLUCJE /REALITY SHOW POL./</td>\n",
              "      <td>Second / Penultimate</td>\n",
              "      <td>30</td>\n",
              "      <td>0.190529</td>\n",
              "      <td>1</td>\n",
              "      <td>24</td>\n",
              "    </tr>\n",
              "  </tbody>\n",
              "</table>\n",
              "<p>2207 rows × 12 columns</p>\n",
              "</div>"
            ],
            "text/plain": [
              "              Campaign Channel              AGB Channel  ... actualHour dayOfMonth\n",
              "0        TVN Pakiet Tematyczny                  FoxLife  ...          6         10\n",
              "1        TVP Pakiet Tematyczny              TVP Seriale  ...          6         10\n",
              "2        TVN Pakiet Tematyczny                Mjuzik.tv  ...          6         10\n",
              "3        TVN Pakiet Tematyczny               MTV Polska  ...          6         10\n",
              "4        TVN Pakiet Tematyczny    Comedy Central Family  ...          6         10\n",
              "...                        ...                      ...  ...        ...        ...\n",
              "2202     TVN Pakiet Tematyczny               kuchnia.tv  ...          0         24\n",
              "2203     TVN Pakiet Tematyczny    Comedy Central Family  ...          0         24\n",
              "2204  Polsat Pakiet Tematyczny             ATM Rozrywka  ...          1         24\n",
              "2205     TVN Pakiet Tematyczny  Investigation Discovery  ...          1         24\n",
              "2206                       TVN                      TVN  ...          1         24\n",
              "\n",
              "[2207 rows x 12 columns]"
            ]
          },
          "metadata": {
            "tags": []
          },
          "execution_count": 27
        }
      ]
    },
    {
      "cell_type": "markdown",
      "metadata": {
        "id": "xyWL3F22hldt"
      },
      "source": [
        "Now I will create new column in spots dataset named 'roundTime' which will consist of hours only. But to be more accurate I will ascribe to the exact time the whole hour that is the closest one. For example 01:12:23 will become 1 but 01:47:23 will become 2."
      ]
    },
    {
      "cell_type": "code",
      "metadata": {
        "id": "_c3iu4faMRCF"
      },
      "source": [
        "def roundTime(time):\n",
        "  if int(time[3:5]) < 30:\n",
        "    return int(time[:2])\n",
        "  else:\n",
        "    return int(time[:2])+1"
      ],
      "execution_count": null,
      "outputs": []
    },
    {
      "cell_type": "code",
      "metadata": {
        "id": "X9_7RovaNDo0"
      },
      "source": [
        "spots['roundTime'] = spots['Time'].apply(roundTime)"
      ],
      "execution_count": null,
      "outputs": []
    },
    {
      "cell_type": "code",
      "metadata": {
        "id": "AuqzBxYiNV9Y",
        "outputId": "b8fb7ef8-9b96-4759-b5e6-f0298cdda26a",
        "colab": {
          "base_uri": "https://localhost:8080/",
          "height": 394
        }
      },
      "source": [
        "spots.head()"
      ],
      "execution_count": null,
      "outputs": [
        {
          "output_type": "execute_result",
          "data": {
            "text/html": [
              "<div>\n",
              "<style scoped>\n",
              "    .dataframe tbody tr th:only-of-type {\n",
              "        vertical-align: middle;\n",
              "    }\n",
              "\n",
              "    .dataframe tbody tr th {\n",
              "        vertical-align: top;\n",
              "    }\n",
              "\n",
              "    .dataframe thead th {\n",
              "        text-align: right;\n",
              "    }\n",
              "</style>\n",
              "<table border=\"1\" class=\"dataframe\">\n",
              "  <thead>\n",
              "    <tr style=\"text-align: right;\">\n",
              "      <th></th>\n",
              "      <th>Campaign Channel</th>\n",
              "      <th>AGB Channel</th>\n",
              "      <th>Date</th>\n",
              "      <th>Time</th>\n",
              "      <th>Timeband</th>\n",
              "      <th>BreakType (Block type)</th>\n",
              "      <th>Title</th>\n",
              "      <th>Position Type in the block of commercials</th>\n",
              "      <th>Commercial length</th>\n",
              "      <th>GRP</th>\n",
              "      <th>actualHour</th>\n",
              "      <th>dayOfMonth</th>\n",
              "      <th>roundTime</th>\n",
              "    </tr>\n",
              "  </thead>\n",
              "  <tbody>\n",
              "    <tr>\n",
              "      <th>0</th>\n",
              "      <td>TVN Pakiet Tematyczny</td>\n",
              "      <td>FoxLife</td>\n",
              "      <td>2014-11-10</td>\n",
              "      <td>06:10:25</td>\n",
              "      <td>Day</td>\n",
              "      <td>Between</td>\n",
              "      <td>ZONA DLA MILIONERA /PROG.ROZR.USA/</td>\n",
              "      <td>Middle</td>\n",
              "      <td>30</td>\n",
              "      <td>0.0</td>\n",
              "      <td>6</td>\n",
              "      <td>10</td>\n",
              "      <td>6</td>\n",
              "    </tr>\n",
              "    <tr>\n",
              "      <th>1</th>\n",
              "      <td>TVP Pakiet Tematyczny</td>\n",
              "      <td>TVP Seriale</td>\n",
              "      <td>2014-11-10</td>\n",
              "      <td>06:11:50</td>\n",
              "      <td>Day</td>\n",
              "      <td>After</td>\n",
              "      <td>LOKATORZY /SER.KOM.POL./</td>\n",
              "      <td>Middle</td>\n",
              "      <td>30</td>\n",
              "      <td>0.0</td>\n",
              "      <td>6</td>\n",
              "      <td>10</td>\n",
              "      <td>6</td>\n",
              "    </tr>\n",
              "    <tr>\n",
              "      <th>2</th>\n",
              "      <td>TVN Pakiet Tematyczny</td>\n",
              "      <td>Mjuzik.tv</td>\n",
              "      <td>2014-11-10</td>\n",
              "      <td>06:12:59</td>\n",
              "      <td>Day</td>\n",
              "      <td>Between</td>\n",
              "      <td>TELEDYSKI</td>\n",
              "      <td>Middle</td>\n",
              "      <td>30</td>\n",
              "      <td>0.0</td>\n",
              "      <td>6</td>\n",
              "      <td>10</td>\n",
              "      <td>6</td>\n",
              "    </tr>\n",
              "    <tr>\n",
              "      <th>3</th>\n",
              "      <td>TVN Pakiet Tematyczny</td>\n",
              "      <td>MTV Polska</td>\n",
              "      <td>2014-11-10</td>\n",
              "      <td>06:19:06</td>\n",
              "      <td>Day</td>\n",
              "      <td>Between</td>\n",
              "      <td>PIMP MY RIDE</td>\n",
              "      <td>Middle</td>\n",
              "      <td>30</td>\n",
              "      <td>0.0</td>\n",
              "      <td>6</td>\n",
              "      <td>10</td>\n",
              "      <td>6</td>\n",
              "    </tr>\n",
              "    <tr>\n",
              "      <th>4</th>\n",
              "      <td>TVN Pakiet Tematyczny</td>\n",
              "      <td>Comedy Central Family</td>\n",
              "      <td>2014-11-10</td>\n",
              "      <td>06:42:34</td>\n",
              "      <td>Day</td>\n",
              "      <td>Between</td>\n",
              "      <td>DALEKO JESZCZE? /SER.KOM.USA/</td>\n",
              "      <td>Middle</td>\n",
              "      <td>30</td>\n",
              "      <td>0.0</td>\n",
              "      <td>6</td>\n",
              "      <td>10</td>\n",
              "      <td>7</td>\n",
              "    </tr>\n",
              "  </tbody>\n",
              "</table>\n",
              "</div>"
            ],
            "text/plain": [
              "        Campaign Channel            AGB Channel  ... dayOfMonth roundTime\n",
              "0  TVN Pakiet Tematyczny                FoxLife  ...         10         6\n",
              "1  TVP Pakiet Tematyczny            TVP Seriale  ...         10         6\n",
              "2  TVN Pakiet Tematyczny              Mjuzik.tv  ...         10         6\n",
              "3  TVN Pakiet Tematyczny             MTV Polska  ...         10         6\n",
              "4  TVN Pakiet Tematyczny  Comedy Central Family  ...         10         7\n",
              "\n",
              "[5 rows x 13 columns]"
            ]
          },
          "metadata": {
            "tags": []
          },
          "execution_count": 30
        }
      ]
    },
    {
      "cell_type": "markdown",
      "metadata": {
        "id": "SW1-aqiDcy7m"
      },
      "source": [
        "##Additional time reassigning"
      ]
    },
    {
      "cell_type": "markdown",
      "metadata": {
        "id": "R2klvEYonCfe"
      },
      "source": [
        "We have to remember that 23 has changed into 24 and what we need is 0."
      ]
    },
    {
      "cell_type": "code",
      "metadata": {
        "id": "_nzJEI_InO-U"
      },
      "source": [
        "spots['roundTime'] = spots['roundTime'].apply(lambda x: 0 if x == 24 else x)"
      ],
      "execution_count": null,
      "outputs": []
    },
    {
      "cell_type": "markdown",
      "metadata": {
        "id": "0lHAJ6n6c55E"
      },
      "source": [
        "##Datetime recreation"
      ]
    },
    {
      "cell_type": "markdown",
      "metadata": {
        "id": "GiIGSsZgdJr8"
      },
      "source": [
        "###Spots dataset"
      ]
    },
    {
      "cell_type": "markdown",
      "metadata": {
        "id": "GRB8ktTtqszW"
      },
      "source": [
        "Till I want to merge both datasets visit and spots by date and hour I need to recreate date column in spots data set"
      ]
    },
    {
      "cell_type": "code",
      "metadata": {
        "id": "0FcT-l5srL7f",
        "outputId": "4cdca840-b3f3-450a-f459-13417aae6aa3",
        "colab": {
          "base_uri": "https://localhost:8080/",
          "height": 445
        }
      },
      "source": [
        "spots.tail()"
      ],
      "execution_count": null,
      "outputs": [
        {
          "output_type": "execute_result",
          "data": {
            "text/html": [
              "<div>\n",
              "<style scoped>\n",
              "    .dataframe tbody tr th:only-of-type {\n",
              "        vertical-align: middle;\n",
              "    }\n",
              "\n",
              "    .dataframe tbody tr th {\n",
              "        vertical-align: top;\n",
              "    }\n",
              "\n",
              "    .dataframe thead th {\n",
              "        text-align: right;\n",
              "    }\n",
              "</style>\n",
              "<table border=\"1\" class=\"dataframe\">\n",
              "  <thead>\n",
              "    <tr style=\"text-align: right;\">\n",
              "      <th></th>\n",
              "      <th>Campaign Channel</th>\n",
              "      <th>AGB Channel</th>\n",
              "      <th>Date</th>\n",
              "      <th>Time</th>\n",
              "      <th>Timeband</th>\n",
              "      <th>BreakType (Block type)</th>\n",
              "      <th>Title</th>\n",
              "      <th>Position Type in the block of commercials</th>\n",
              "      <th>Commercial length</th>\n",
              "      <th>GRP</th>\n",
              "      <th>actualHour</th>\n",
              "      <th>dayOfMonth</th>\n",
              "      <th>roundTime</th>\n",
              "    </tr>\n",
              "  </thead>\n",
              "  <tbody>\n",
              "    <tr>\n",
              "      <th>2202</th>\n",
              "      <td>TVN Pakiet Tematyczny</td>\n",
              "      <td>kuchnia.tv</td>\n",
              "      <td>2014-11-23</td>\n",
              "      <td>00:32:15</td>\n",
              "      <td>Night</td>\n",
              "      <td>After</td>\n",
              "      <td>PRZEZ DZIURKE OD SERA /PROG.PORAD.POL./</td>\n",
              "      <td>Middle</td>\n",
              "      <td>30</td>\n",
              "      <td>0.000000</td>\n",
              "      <td>0</td>\n",
              "      <td>24</td>\n",
              "      <td>1</td>\n",
              "    </tr>\n",
              "    <tr>\n",
              "      <th>2203</th>\n",
              "      <td>TVN Pakiet Tematyczny</td>\n",
              "      <td>Comedy Central Family</td>\n",
              "      <td>2014-11-23</td>\n",
              "      <td>00:46:21</td>\n",
              "      <td>Night</td>\n",
              "      <td>Between</td>\n",
              "      <td>COUGAR TOWN MIASTO KOCIC /SER.KOM.USA/</td>\n",
              "      <td>Middle</td>\n",
              "      <td>30</td>\n",
              "      <td>0.000000</td>\n",
              "      <td>0</td>\n",
              "      <td>24</td>\n",
              "      <td>1</td>\n",
              "    </tr>\n",
              "    <tr>\n",
              "      <th>2204</th>\n",
              "      <td>Polsat Pakiet Tematyczny</td>\n",
              "      <td>ATM Rozrywka</td>\n",
              "      <td>2014-11-23</td>\n",
              "      <td>01:11:09</td>\n",
              "      <td>Night</td>\n",
              "      <td>Between</td>\n",
              "      <td>SYNOWIE /SER.KOM.POL./</td>\n",
              "      <td>Middle</td>\n",
              "      <td>30</td>\n",
              "      <td>0.000000</td>\n",
              "      <td>1</td>\n",
              "      <td>24</td>\n",
              "      <td>1</td>\n",
              "    </tr>\n",
              "    <tr>\n",
              "      <th>2205</th>\n",
              "      <td>TVN Pakiet Tematyczny</td>\n",
              "      <td>Investigation Discovery</td>\n",
              "      <td>2014-11-23</td>\n",
              "      <td>01:26:59</td>\n",
              "      <td>Night</td>\n",
              "      <td>After</td>\n",
              "      <td>ZLO W GENACH /SER.DOK.USA/</td>\n",
              "      <td>Middle</td>\n",
              "      <td>30</td>\n",
              "      <td>0.525207</td>\n",
              "      <td>1</td>\n",
              "      <td>24</td>\n",
              "      <td>1</td>\n",
              "    </tr>\n",
              "    <tr>\n",
              "      <th>2206</th>\n",
              "      <td>TVN</td>\n",
              "      <td>TVN</td>\n",
              "      <td>2014-11-23</td>\n",
              "      <td>01:30:24</td>\n",
              "      <td>Night</td>\n",
              "      <td>Between</td>\n",
              "      <td>KUCHENNE REWOLUCJE /REALITY SHOW POL./</td>\n",
              "      <td>Second / Penultimate</td>\n",
              "      <td>30</td>\n",
              "      <td>0.190529</td>\n",
              "      <td>1</td>\n",
              "      <td>24</td>\n",
              "      <td>2</td>\n",
              "    </tr>\n",
              "  </tbody>\n",
              "</table>\n",
              "</div>"
            ],
            "text/plain": [
              "              Campaign Channel              AGB Channel  ... dayOfMonth roundTime\n",
              "2202     TVN Pakiet Tematyczny               kuchnia.tv  ...         24         1\n",
              "2203     TVN Pakiet Tematyczny    Comedy Central Family  ...         24         1\n",
              "2204  Polsat Pakiet Tematyczny             ATM Rozrywka  ...         24         1\n",
              "2205     TVN Pakiet Tematyczny  Investigation Discovery  ...         24         1\n",
              "2206                       TVN                      TVN  ...         24         2\n",
              "\n",
              "[5 rows x 13 columns]"
            ]
          },
          "metadata": {
            "tags": []
          },
          "execution_count": 32
        }
      ]
    },
    {
      "cell_type": "code",
      "metadata": {
        "id": "YKlcE6KdrVSJ",
        "outputId": "c096a767-63ba-491a-de76-889629d0c104",
        "colab": {
          "base_uri": "https://localhost:8080/",
          "height": 221
        }
      },
      "source": [
        "dayOfMonth"
      ],
      "execution_count": null,
      "outputs": [
        {
          "output_type": "execute_result",
          "data": {
            "text/plain": [
              "0       10\n",
              "1       10\n",
              "2       10\n",
              "3       10\n",
              "4       10\n",
              "        ..\n",
              "2202    24\n",
              "2203    24\n",
              "2204    24\n",
              "2205    24\n",
              "2206    24\n",
              "Name: dayOfMonth, Length: 2207, dtype: int64"
            ]
          },
          "metadata": {
            "tags": []
          },
          "execution_count": 33
        }
      ]
    },
    {
      "cell_type": "code",
      "metadata": {
        "id": "xvl-J-x7r2hG",
        "outputId": "0ab858a2-48f1-4b41-e926-90c177897d02",
        "colab": {
          "base_uri": "https://localhost:8080/",
          "height": 221
        }
      },
      "source": [
        "date = spots['Date']\n",
        "date"
      ],
      "execution_count": null,
      "outputs": [
        {
          "output_type": "execute_result",
          "data": {
            "text/plain": [
              "0       2014-11-10\n",
              "1       2014-11-10\n",
              "2       2014-11-10\n",
              "3       2014-11-10\n",
              "4       2014-11-10\n",
              "           ...    \n",
              "2202    2014-11-23\n",
              "2203    2014-11-23\n",
              "2204    2014-11-23\n",
              "2205    2014-11-23\n",
              "2206    2014-11-23\n",
              "Name: Date, Length: 2207, dtype: object"
            ]
          },
          "metadata": {
            "tags": []
          },
          "execution_count": 34
        }
      ]
    },
    {
      "cell_type": "code",
      "metadata": {
        "id": "cryuIvLpykZI",
        "outputId": "815a550a-6598-4bf9-e19c-c5dfc29fb3db",
        "colab": {
          "base_uri": "https://localhost:8080/",
          "height": 37
        }
      },
      "source": [
        "date[2][:8]"
      ],
      "execution_count": null,
      "outputs": [
        {
          "output_type": "execute_result",
          "data": {
            "application/vnd.google.colaboratory.intrinsic+json": {
              "type": "string"
            },
            "text/plain": [
              "'2014-11-'"
            ]
          },
          "metadata": {
            "tags": []
          },
          "execution_count": 35
        }
      ]
    },
    {
      "cell_type": "code",
      "metadata": {
        "id": "NcEtVWoHu0lP",
        "outputId": "272b1726-96e5-4057-8436-a88c3104c75e",
        "colab": {
          "base_uri": "https://localhost:8080/",
          "height": 221
        }
      },
      "source": [
        "time = spots['roundTime']\n",
        "time"
      ],
      "execution_count": null,
      "outputs": [
        {
          "output_type": "execute_result",
          "data": {
            "text/plain": [
              "0       6\n",
              "1       6\n",
              "2       6\n",
              "3       6\n",
              "4       7\n",
              "       ..\n",
              "2202    1\n",
              "2203    1\n",
              "2204    1\n",
              "2205    1\n",
              "2206    2\n",
              "Name: roundTime, Length: 2207, dtype: int64"
            ]
          },
          "metadata": {
            "tags": []
          },
          "execution_count": 36
        }
      ]
    },
    {
      "cell_type": "markdown",
      "metadata": {
        "id": "r1mCJsUTuAgC"
      },
      "source": [
        "First I will create proper string"
      ]
    },
    {
      "cell_type": "code",
      "metadata": {
        "id": "PcBMUlM7sMQ3"
      },
      "source": [
        "dateReassigned = []\n",
        "\n",
        "for i in range(len(dayOfMonth)):\n",
        "    front = date[i][:8]\n",
        "    back = str(dayOfMonth[i])\n",
        "    yearMonthDay = '%s%s' % (front,back)\n",
        "    hour = str(time[i])\n",
        "    dateReassigned.append('%s %s:00:00' % (yearMonthDay,hour))"
      ],
      "execution_count": null,
      "outputs": []
    },
    {
      "cell_type": "code",
      "metadata": {
        "id": "4TOcLebpzcKx",
        "outputId": "3f495137-7dd1-4866-8a3d-4c7e5cf1f001",
        "colab": {
          "base_uri": "https://localhost:8080/",
          "height": 34
        }
      },
      "source": [
        "len(dateReassigned)"
      ],
      "execution_count": null,
      "outputs": [
        {
          "output_type": "execute_result",
          "data": {
            "text/plain": [
              "2207"
            ]
          },
          "metadata": {
            "tags": []
          },
          "execution_count": 38
        }
      ]
    },
    {
      "cell_type": "code",
      "metadata": {
        "id": "DqJrIr__2WMQ",
        "outputId": "62a57204-7b14-414e-db2b-b672242ec626",
        "colab": {
          "base_uri": "https://localhost:8080/",
          "height": 37
        }
      },
      "source": [
        "dateReassigned[0]"
      ],
      "execution_count": null,
      "outputs": [
        {
          "output_type": "execute_result",
          "data": {
            "application/vnd.google.colaboratory.intrinsic+json": {
              "type": "string"
            },
            "text/plain": [
              "'2014-11-10 6:00:00'"
            ]
          },
          "metadata": {
            "tags": []
          },
          "execution_count": 39
        }
      ]
    },
    {
      "cell_type": "markdown",
      "metadata": {
        "id": "34sQKy7V17Io"
      },
      "source": [
        "Finally I can change type into datetime and add column to spots datasets"
      ]
    },
    {
      "cell_type": "code",
      "metadata": {
        "id": "kTMPDgME1xeR"
      },
      "source": [
        "from datetime import datetime, timedelta\n",
        "\n",
        "dateReassigned_datetime = []\n",
        "\n",
        "for i in range(len(dateReassigned)):\n",
        "  dateReassigned_datetime.append(datetime.strptime(dateReassigned[i], '%Y-%m-%d %H:%M:%S'))\n",
        "  # datetime.strptime('Jun 1 2005  1:33PM', '%b %d %Y %I:%M%p')"
      ],
      "execution_count": null,
      "outputs": []
    },
    {
      "cell_type": "code",
      "metadata": {
        "id": "RFLYdovp33ea",
        "outputId": "c7057e4e-28c7-4a49-d5cf-0baf8ff76c5e",
        "colab": {
          "base_uri": "https://localhost:8080/",
          "height": 34
        }
      },
      "source": [
        "dateReassigned_datetime[0]"
      ],
      "execution_count": null,
      "outputs": [
        {
          "output_type": "execute_result",
          "data": {
            "text/plain": [
              "datetime.datetime(2014, 11, 10, 6, 0)"
            ]
          },
          "metadata": {
            "tags": []
          },
          "execution_count": 41
        }
      ]
    },
    {
      "cell_type": "code",
      "metadata": {
        "id": "kNZUm2PC4DgO",
        "outputId": "0f6d7764-4110-4ed7-bfa0-b6d5e0e1f90e",
        "colab": {
          "base_uri": "https://localhost:8080/",
          "height": 34
        }
      },
      "source": [
        "len(dateReassigned_datetime)"
      ],
      "execution_count": null,
      "outputs": [
        {
          "output_type": "execute_result",
          "data": {
            "text/plain": [
              "2207"
            ]
          },
          "metadata": {
            "tags": []
          },
          "execution_count": 42
        }
      ]
    },
    {
      "cell_type": "code",
      "metadata": {
        "id": "4FbevBQe4GbF"
      },
      "source": [
        "spots['dateReassigned_datetime'] = dateReassigned_datetime"
      ],
      "execution_count": null,
      "outputs": []
    },
    {
      "cell_type": "code",
      "metadata": {
        "id": "oA-bo3GH_-aD",
        "outputId": "2a816902-dd31-49f1-9004-9dad7d776521",
        "colab": {
          "base_uri": "https://localhost:8080/",
          "height": 394
        }
      },
      "source": [
        "spots.head()"
      ],
      "execution_count": null,
      "outputs": [
        {
          "output_type": "execute_result",
          "data": {
            "text/html": [
              "<div>\n",
              "<style scoped>\n",
              "    .dataframe tbody tr th:only-of-type {\n",
              "        vertical-align: middle;\n",
              "    }\n",
              "\n",
              "    .dataframe tbody tr th {\n",
              "        vertical-align: top;\n",
              "    }\n",
              "\n",
              "    .dataframe thead th {\n",
              "        text-align: right;\n",
              "    }\n",
              "</style>\n",
              "<table border=\"1\" class=\"dataframe\">\n",
              "  <thead>\n",
              "    <tr style=\"text-align: right;\">\n",
              "      <th></th>\n",
              "      <th>Campaign Channel</th>\n",
              "      <th>AGB Channel</th>\n",
              "      <th>Date</th>\n",
              "      <th>Time</th>\n",
              "      <th>Timeband</th>\n",
              "      <th>BreakType (Block type)</th>\n",
              "      <th>Title</th>\n",
              "      <th>Position Type in the block of commercials</th>\n",
              "      <th>Commercial length</th>\n",
              "      <th>GRP</th>\n",
              "      <th>actualHour</th>\n",
              "      <th>dayOfMonth</th>\n",
              "      <th>roundTime</th>\n",
              "      <th>dateReassigned_datetime</th>\n",
              "    </tr>\n",
              "  </thead>\n",
              "  <tbody>\n",
              "    <tr>\n",
              "      <th>0</th>\n",
              "      <td>TVN Pakiet Tematyczny</td>\n",
              "      <td>FoxLife</td>\n",
              "      <td>2014-11-10</td>\n",
              "      <td>06:10:25</td>\n",
              "      <td>Day</td>\n",
              "      <td>Between</td>\n",
              "      <td>ZONA DLA MILIONERA /PROG.ROZR.USA/</td>\n",
              "      <td>Middle</td>\n",
              "      <td>30</td>\n",
              "      <td>0.0</td>\n",
              "      <td>6</td>\n",
              "      <td>10</td>\n",
              "      <td>6</td>\n",
              "      <td>2014-11-10 06:00:00</td>\n",
              "    </tr>\n",
              "    <tr>\n",
              "      <th>1</th>\n",
              "      <td>TVP Pakiet Tematyczny</td>\n",
              "      <td>TVP Seriale</td>\n",
              "      <td>2014-11-10</td>\n",
              "      <td>06:11:50</td>\n",
              "      <td>Day</td>\n",
              "      <td>After</td>\n",
              "      <td>LOKATORZY /SER.KOM.POL./</td>\n",
              "      <td>Middle</td>\n",
              "      <td>30</td>\n",
              "      <td>0.0</td>\n",
              "      <td>6</td>\n",
              "      <td>10</td>\n",
              "      <td>6</td>\n",
              "      <td>2014-11-10 06:00:00</td>\n",
              "    </tr>\n",
              "    <tr>\n",
              "      <th>2</th>\n",
              "      <td>TVN Pakiet Tematyczny</td>\n",
              "      <td>Mjuzik.tv</td>\n",
              "      <td>2014-11-10</td>\n",
              "      <td>06:12:59</td>\n",
              "      <td>Day</td>\n",
              "      <td>Between</td>\n",
              "      <td>TELEDYSKI</td>\n",
              "      <td>Middle</td>\n",
              "      <td>30</td>\n",
              "      <td>0.0</td>\n",
              "      <td>6</td>\n",
              "      <td>10</td>\n",
              "      <td>6</td>\n",
              "      <td>2014-11-10 06:00:00</td>\n",
              "    </tr>\n",
              "    <tr>\n",
              "      <th>3</th>\n",
              "      <td>TVN Pakiet Tematyczny</td>\n",
              "      <td>MTV Polska</td>\n",
              "      <td>2014-11-10</td>\n",
              "      <td>06:19:06</td>\n",
              "      <td>Day</td>\n",
              "      <td>Between</td>\n",
              "      <td>PIMP MY RIDE</td>\n",
              "      <td>Middle</td>\n",
              "      <td>30</td>\n",
              "      <td>0.0</td>\n",
              "      <td>6</td>\n",
              "      <td>10</td>\n",
              "      <td>6</td>\n",
              "      <td>2014-11-10 06:00:00</td>\n",
              "    </tr>\n",
              "    <tr>\n",
              "      <th>4</th>\n",
              "      <td>TVN Pakiet Tematyczny</td>\n",
              "      <td>Comedy Central Family</td>\n",
              "      <td>2014-11-10</td>\n",
              "      <td>06:42:34</td>\n",
              "      <td>Day</td>\n",
              "      <td>Between</td>\n",
              "      <td>DALEKO JESZCZE? /SER.KOM.USA/</td>\n",
              "      <td>Middle</td>\n",
              "      <td>30</td>\n",
              "      <td>0.0</td>\n",
              "      <td>6</td>\n",
              "      <td>10</td>\n",
              "      <td>7</td>\n",
              "      <td>2014-11-10 07:00:00</td>\n",
              "    </tr>\n",
              "  </tbody>\n",
              "</table>\n",
              "</div>"
            ],
            "text/plain": [
              "        Campaign Channel  ... dateReassigned_datetime\n",
              "0  TVN Pakiet Tematyczny  ...     2014-11-10 06:00:00\n",
              "1  TVP Pakiet Tematyczny  ...     2014-11-10 06:00:00\n",
              "2  TVN Pakiet Tematyczny  ...     2014-11-10 06:00:00\n",
              "3  TVN Pakiet Tematyczny  ...     2014-11-10 06:00:00\n",
              "4  TVN Pakiet Tematyczny  ...     2014-11-10 07:00:00\n",
              "\n",
              "[5 rows x 14 columns]"
            ]
          },
          "metadata": {
            "tags": []
          },
          "execution_count": 44
        }
      ]
    },
    {
      "cell_type": "code",
      "metadata": {
        "id": "7ShyFAIz9MLk",
        "outputId": "17d30cc2-9ba8-4c36-bbe4-c230b62af7c3",
        "colab": {
          "base_uri": "https://localhost:8080/",
          "height": 34
        }
      },
      "source": [
        "spots['dateReassigned_datetime'][0]"
      ],
      "execution_count": null,
      "outputs": [
        {
          "output_type": "execute_result",
          "data": {
            "text/plain": [
              "Timestamp('2014-11-10 06:00:00')"
            ]
          },
          "metadata": {
            "tags": []
          },
          "execution_count": 45
        }
      ]
    },
    {
      "cell_type": "markdown",
      "metadata": {
        "id": "zjZUwGD3dNh2"
      },
      "source": [
        "###Visits dataset"
      ]
    },
    {
      "cell_type": "markdown",
      "metadata": {
        "id": "e0pMe5Yd4Tbt"
      },
      "source": [
        "Now I will create date_datetime column in visits dataset on the same principles as above"
      ]
    },
    {
      "cell_type": "code",
      "metadata": {
        "id": "KHvEVHzM8XMd",
        "outputId": "2497bb58-9ca5-45d9-94ff-f3358b1dfd9d",
        "colab": {
          "base_uri": "https://localhost:8080/",
          "height": 204
        }
      },
      "source": [
        "visits.head()"
      ],
      "execution_count": null,
      "outputs": [
        {
          "output_type": "execute_result",
          "data": {
            "text/html": [
              "<div>\n",
              "<style scoped>\n",
              "    .dataframe tbody tr th:only-of-type {\n",
              "        vertical-align: middle;\n",
              "    }\n",
              "\n",
              "    .dataframe tbody tr th {\n",
              "        vertical-align: top;\n",
              "    }\n",
              "\n",
              "    .dataframe thead th {\n",
              "        text-align: right;\n",
              "    }\n",
              "</style>\n",
              "<table border=\"1\" class=\"dataframe\">\n",
              "  <thead>\n",
              "    <tr style=\"text-align: right;\">\n",
              "      <th></th>\n",
              "      <th>Data</th>\n",
              "      <th>godzina</th>\n",
              "      <th>Wizyty_all</th>\n",
              "    </tr>\n",
              "  </thead>\n",
              "  <tbody>\n",
              "    <tr>\n",
              "      <th>0</th>\n",
              "      <td>2014-11-10</td>\n",
              "      <td>6</td>\n",
              "      <td>1070</td>\n",
              "    </tr>\n",
              "    <tr>\n",
              "      <th>1</th>\n",
              "      <td>2014-11-10</td>\n",
              "      <td>7</td>\n",
              "      <td>3086</td>\n",
              "    </tr>\n",
              "    <tr>\n",
              "      <th>2</th>\n",
              "      <td>2014-11-10</td>\n",
              "      <td>8</td>\n",
              "      <td>5989</td>\n",
              "    </tr>\n",
              "    <tr>\n",
              "      <th>3</th>\n",
              "      <td>2014-11-10</td>\n",
              "      <td>9</td>\n",
              "      <td>11506</td>\n",
              "    </tr>\n",
              "    <tr>\n",
              "      <th>4</th>\n",
              "      <td>2014-11-10</td>\n",
              "      <td>10</td>\n",
              "      <td>9680</td>\n",
              "    </tr>\n",
              "  </tbody>\n",
              "</table>\n",
              "</div>"
            ],
            "text/plain": [
              "        Data  godzina  Wizyty_all\n",
              "0 2014-11-10        6        1070\n",
              "1 2014-11-10        7        3086\n",
              "2 2014-11-10        8        5989\n",
              "3 2014-11-10        9       11506\n",
              "4 2014-11-10       10        9680"
            ]
          },
          "metadata": {
            "tags": []
          },
          "execution_count": 46
        }
      ]
    },
    {
      "cell_type": "code",
      "metadata": {
        "id": "_8ehL2-g8Uj9"
      },
      "source": [
        "date2 = visits['Data']\n",
        "time2 = visits['godzina']"
      ],
      "execution_count": null,
      "outputs": []
    },
    {
      "cell_type": "code",
      "metadata": {
        "id": "9U4zzASg87SI",
        "outputId": "56cb8d52-5da7-4b4a-e22a-5b01bf5c56d7",
        "colab": {
          "base_uri": "https://localhost:8080/",
          "height": 34
        }
      },
      "source": [
        "date2[0]"
      ],
      "execution_count": null,
      "outputs": [
        {
          "output_type": "execute_result",
          "data": {
            "text/plain": [
              "Timestamp('2014-11-10 00:00:00')"
            ]
          },
          "metadata": {
            "tags": []
          },
          "execution_count": 48
        }
      ]
    },
    {
      "cell_type": "code",
      "metadata": {
        "id": "-_vR7C6989lx",
        "outputId": "f99e38c0-4e1b-44ba-a8d9-842c2e5cc554",
        "colab": {
          "base_uri": "https://localhost:8080/",
          "height": 34
        }
      },
      "source": [
        "type(time2[0])"
      ],
      "execution_count": null,
      "outputs": [
        {
          "output_type": "execute_result",
          "data": {
            "text/plain": [
              "numpy.int64"
            ]
          },
          "metadata": {
            "tags": []
          },
          "execution_count": 49
        }
      ]
    },
    {
      "cell_type": "code",
      "metadata": {
        "id": "ReLbGGYa9x95"
      },
      "source": [
        "date_datetime = []\n",
        "\n",
        "for i in range(len(date2)):\n",
        "  date_datetime.append(date2[i]+timedelta(hours=int(time2[i])))"
      ],
      "execution_count": null,
      "outputs": []
    },
    {
      "cell_type": "code",
      "metadata": {
        "id": "7AEF4Z9w_Xte",
        "outputId": "842b0870-852e-4345-8803-65921a33817d",
        "colab": {
          "base_uri": "https://localhost:8080/",
          "height": 34
        }
      },
      "source": [
        "date_datetime[0]"
      ],
      "execution_count": null,
      "outputs": [
        {
          "output_type": "execute_result",
          "data": {
            "text/plain": [
              "Timestamp('2014-11-10 06:00:00')"
            ]
          },
          "metadata": {
            "tags": []
          },
          "execution_count": 51
        }
      ]
    },
    {
      "cell_type": "code",
      "metadata": {
        "id": "KVVlZrkE_k2-"
      },
      "source": [
        "visits['date_datetime'] = date_datetime"
      ],
      "execution_count": null,
      "outputs": []
    },
    {
      "cell_type": "markdown",
      "metadata": {
        "id": "UfVHy6IidU7X"
      },
      "source": [
        "##Merging datasets"
      ]
    },
    {
      "cell_type": "markdown",
      "metadata": {
        "id": "eKquiGWVYecW"
      },
      "source": [
        "I will merge both datasets on date_datetime in visits dataset and dateReassigned_datetime in spots dataset"
      ]
    },
    {
      "cell_type": "code",
      "metadata": {
        "id": "zSHL3tDqDQzC",
        "outputId": "29b62090-2d91-4d70-b356-d40e8bf31c3d",
        "colab": {
          "base_uri": "https://localhost:8080/",
          "height": 204
        }
      },
      "source": [
        "visits.head()"
      ],
      "execution_count": null,
      "outputs": [
        {
          "output_type": "execute_result",
          "data": {
            "text/html": [
              "<div>\n",
              "<style scoped>\n",
              "    .dataframe tbody tr th:only-of-type {\n",
              "        vertical-align: middle;\n",
              "    }\n",
              "\n",
              "    .dataframe tbody tr th {\n",
              "        vertical-align: top;\n",
              "    }\n",
              "\n",
              "    .dataframe thead th {\n",
              "        text-align: right;\n",
              "    }\n",
              "</style>\n",
              "<table border=\"1\" class=\"dataframe\">\n",
              "  <thead>\n",
              "    <tr style=\"text-align: right;\">\n",
              "      <th></th>\n",
              "      <th>Data</th>\n",
              "      <th>godzina</th>\n",
              "      <th>Wizyty_all</th>\n",
              "      <th>date_datetime</th>\n",
              "    </tr>\n",
              "  </thead>\n",
              "  <tbody>\n",
              "    <tr>\n",
              "      <th>0</th>\n",
              "      <td>2014-11-10</td>\n",
              "      <td>6</td>\n",
              "      <td>1070</td>\n",
              "      <td>2014-11-10 06:00:00</td>\n",
              "    </tr>\n",
              "    <tr>\n",
              "      <th>1</th>\n",
              "      <td>2014-11-10</td>\n",
              "      <td>7</td>\n",
              "      <td>3086</td>\n",
              "      <td>2014-11-10 07:00:00</td>\n",
              "    </tr>\n",
              "    <tr>\n",
              "      <th>2</th>\n",
              "      <td>2014-11-10</td>\n",
              "      <td>8</td>\n",
              "      <td>5989</td>\n",
              "      <td>2014-11-10 08:00:00</td>\n",
              "    </tr>\n",
              "    <tr>\n",
              "      <th>3</th>\n",
              "      <td>2014-11-10</td>\n",
              "      <td>9</td>\n",
              "      <td>11506</td>\n",
              "      <td>2014-11-10 09:00:00</td>\n",
              "    </tr>\n",
              "    <tr>\n",
              "      <th>4</th>\n",
              "      <td>2014-11-10</td>\n",
              "      <td>10</td>\n",
              "      <td>9680</td>\n",
              "      <td>2014-11-10 10:00:00</td>\n",
              "    </tr>\n",
              "  </tbody>\n",
              "</table>\n",
              "</div>"
            ],
            "text/plain": [
              "        Data  godzina  Wizyty_all       date_datetime\n",
              "0 2014-11-10        6        1070 2014-11-10 06:00:00\n",
              "1 2014-11-10        7        3086 2014-11-10 07:00:00\n",
              "2 2014-11-10        8        5989 2014-11-10 08:00:00\n",
              "3 2014-11-10        9       11506 2014-11-10 09:00:00\n",
              "4 2014-11-10       10        9680 2014-11-10 10:00:00"
            ]
          },
          "metadata": {
            "tags": []
          },
          "execution_count": 53
        }
      ]
    },
    {
      "cell_type": "code",
      "metadata": {
        "id": "PIqbZ8wSASQz",
        "outputId": "232ea5c3-32d1-4f16-9082-89bf0e9eee76",
        "colab": {
          "base_uri": "https://localhost:8080/",
          "height": 394
        }
      },
      "source": [
        "spots.head()"
      ],
      "execution_count": null,
      "outputs": [
        {
          "output_type": "execute_result",
          "data": {
            "text/html": [
              "<div>\n",
              "<style scoped>\n",
              "    .dataframe tbody tr th:only-of-type {\n",
              "        vertical-align: middle;\n",
              "    }\n",
              "\n",
              "    .dataframe tbody tr th {\n",
              "        vertical-align: top;\n",
              "    }\n",
              "\n",
              "    .dataframe thead th {\n",
              "        text-align: right;\n",
              "    }\n",
              "</style>\n",
              "<table border=\"1\" class=\"dataframe\">\n",
              "  <thead>\n",
              "    <tr style=\"text-align: right;\">\n",
              "      <th></th>\n",
              "      <th>Campaign Channel</th>\n",
              "      <th>AGB Channel</th>\n",
              "      <th>Date</th>\n",
              "      <th>Time</th>\n",
              "      <th>Timeband</th>\n",
              "      <th>BreakType (Block type)</th>\n",
              "      <th>Title</th>\n",
              "      <th>Position Type in the block of commercials</th>\n",
              "      <th>Commercial length</th>\n",
              "      <th>GRP</th>\n",
              "      <th>actualHour</th>\n",
              "      <th>dayOfMonth</th>\n",
              "      <th>roundTime</th>\n",
              "      <th>dateReassigned_datetime</th>\n",
              "    </tr>\n",
              "  </thead>\n",
              "  <tbody>\n",
              "    <tr>\n",
              "      <th>0</th>\n",
              "      <td>TVN Pakiet Tematyczny</td>\n",
              "      <td>FoxLife</td>\n",
              "      <td>2014-11-10</td>\n",
              "      <td>06:10:25</td>\n",
              "      <td>Day</td>\n",
              "      <td>Between</td>\n",
              "      <td>ZONA DLA MILIONERA /PROG.ROZR.USA/</td>\n",
              "      <td>Middle</td>\n",
              "      <td>30</td>\n",
              "      <td>0.0</td>\n",
              "      <td>6</td>\n",
              "      <td>10</td>\n",
              "      <td>6</td>\n",
              "      <td>2014-11-10 06:00:00</td>\n",
              "    </tr>\n",
              "    <tr>\n",
              "      <th>1</th>\n",
              "      <td>TVP Pakiet Tematyczny</td>\n",
              "      <td>TVP Seriale</td>\n",
              "      <td>2014-11-10</td>\n",
              "      <td>06:11:50</td>\n",
              "      <td>Day</td>\n",
              "      <td>After</td>\n",
              "      <td>LOKATORZY /SER.KOM.POL./</td>\n",
              "      <td>Middle</td>\n",
              "      <td>30</td>\n",
              "      <td>0.0</td>\n",
              "      <td>6</td>\n",
              "      <td>10</td>\n",
              "      <td>6</td>\n",
              "      <td>2014-11-10 06:00:00</td>\n",
              "    </tr>\n",
              "    <tr>\n",
              "      <th>2</th>\n",
              "      <td>TVN Pakiet Tematyczny</td>\n",
              "      <td>Mjuzik.tv</td>\n",
              "      <td>2014-11-10</td>\n",
              "      <td>06:12:59</td>\n",
              "      <td>Day</td>\n",
              "      <td>Between</td>\n",
              "      <td>TELEDYSKI</td>\n",
              "      <td>Middle</td>\n",
              "      <td>30</td>\n",
              "      <td>0.0</td>\n",
              "      <td>6</td>\n",
              "      <td>10</td>\n",
              "      <td>6</td>\n",
              "      <td>2014-11-10 06:00:00</td>\n",
              "    </tr>\n",
              "    <tr>\n",
              "      <th>3</th>\n",
              "      <td>TVN Pakiet Tematyczny</td>\n",
              "      <td>MTV Polska</td>\n",
              "      <td>2014-11-10</td>\n",
              "      <td>06:19:06</td>\n",
              "      <td>Day</td>\n",
              "      <td>Between</td>\n",
              "      <td>PIMP MY RIDE</td>\n",
              "      <td>Middle</td>\n",
              "      <td>30</td>\n",
              "      <td>0.0</td>\n",
              "      <td>6</td>\n",
              "      <td>10</td>\n",
              "      <td>6</td>\n",
              "      <td>2014-11-10 06:00:00</td>\n",
              "    </tr>\n",
              "    <tr>\n",
              "      <th>4</th>\n",
              "      <td>TVN Pakiet Tematyczny</td>\n",
              "      <td>Comedy Central Family</td>\n",
              "      <td>2014-11-10</td>\n",
              "      <td>06:42:34</td>\n",
              "      <td>Day</td>\n",
              "      <td>Between</td>\n",
              "      <td>DALEKO JESZCZE? /SER.KOM.USA/</td>\n",
              "      <td>Middle</td>\n",
              "      <td>30</td>\n",
              "      <td>0.0</td>\n",
              "      <td>6</td>\n",
              "      <td>10</td>\n",
              "      <td>7</td>\n",
              "      <td>2014-11-10 07:00:00</td>\n",
              "    </tr>\n",
              "  </tbody>\n",
              "</table>\n",
              "</div>"
            ],
            "text/plain": [
              "        Campaign Channel  ... dateReassigned_datetime\n",
              "0  TVN Pakiet Tematyczny  ...     2014-11-10 06:00:00\n",
              "1  TVP Pakiet Tematyczny  ...     2014-11-10 06:00:00\n",
              "2  TVN Pakiet Tematyczny  ...     2014-11-10 06:00:00\n",
              "3  TVN Pakiet Tematyczny  ...     2014-11-10 06:00:00\n",
              "4  TVN Pakiet Tematyczny  ...     2014-11-10 07:00:00\n",
              "\n",
              "[5 rows x 14 columns]"
            ]
          },
          "metadata": {
            "tags": []
          },
          "execution_count": 54
        }
      ]
    },
    {
      "cell_type": "code",
      "metadata": {
        "id": "k-5s2USZvjvi",
        "outputId": "6181ccc1-fff0-4cb8-a829-2cec2a2c4bfb",
        "colab": {
          "base_uri": "https://localhost:8080/",
          "height": 762
        }
      },
      "source": [
        "data = pd.merge(left=visits, right=spots, how='left', left_on = ['date_datetime'], right_on= ['dateReassigned_datetime'])\n",
        "data"
      ],
      "execution_count": null,
      "outputs": [
        {
          "output_type": "execute_result",
          "data": {
            "text/html": [
              "<div>\n",
              "<style scoped>\n",
              "    .dataframe tbody tr th:only-of-type {\n",
              "        vertical-align: middle;\n",
              "    }\n",
              "\n",
              "    .dataframe tbody tr th {\n",
              "        vertical-align: top;\n",
              "    }\n",
              "\n",
              "    .dataframe thead th {\n",
              "        text-align: right;\n",
              "    }\n",
              "</style>\n",
              "<table border=\"1\" class=\"dataframe\">\n",
              "  <thead>\n",
              "    <tr style=\"text-align: right;\">\n",
              "      <th></th>\n",
              "      <th>Data</th>\n",
              "      <th>godzina</th>\n",
              "      <th>Wizyty_all</th>\n",
              "      <th>date_datetime</th>\n",
              "      <th>Campaign Channel</th>\n",
              "      <th>AGB Channel</th>\n",
              "      <th>Date</th>\n",
              "      <th>Time</th>\n",
              "      <th>Timeband</th>\n",
              "      <th>BreakType (Block type)</th>\n",
              "      <th>Title</th>\n",
              "      <th>Position Type in the block of commercials</th>\n",
              "      <th>Commercial length</th>\n",
              "      <th>GRP</th>\n",
              "      <th>actualHour</th>\n",
              "      <th>dayOfMonth</th>\n",
              "      <th>roundTime</th>\n",
              "      <th>dateReassigned_datetime</th>\n",
              "    </tr>\n",
              "  </thead>\n",
              "  <tbody>\n",
              "    <tr>\n",
              "      <th>0</th>\n",
              "      <td>2014-11-10</td>\n",
              "      <td>6</td>\n",
              "      <td>1070</td>\n",
              "      <td>2014-11-10 06:00:00</td>\n",
              "      <td>TVN Pakiet Tematyczny</td>\n",
              "      <td>FoxLife</td>\n",
              "      <td>2014-11-10</td>\n",
              "      <td>06:10:25</td>\n",
              "      <td>Day</td>\n",
              "      <td>Between</td>\n",
              "      <td>ZONA DLA MILIONERA /PROG.ROZR.USA/</td>\n",
              "      <td>Middle</td>\n",
              "      <td>30.0</td>\n",
              "      <td>0.000000</td>\n",
              "      <td>6.0</td>\n",
              "      <td>10.0</td>\n",
              "      <td>6.0</td>\n",
              "      <td>2014-11-10 06:00:00</td>\n",
              "    </tr>\n",
              "    <tr>\n",
              "      <th>1</th>\n",
              "      <td>2014-11-10</td>\n",
              "      <td>6</td>\n",
              "      <td>1070</td>\n",
              "      <td>2014-11-10 06:00:00</td>\n",
              "      <td>TVP Pakiet Tematyczny</td>\n",
              "      <td>TVP Seriale</td>\n",
              "      <td>2014-11-10</td>\n",
              "      <td>06:11:50</td>\n",
              "      <td>Day</td>\n",
              "      <td>After</td>\n",
              "      <td>LOKATORZY /SER.KOM.POL./</td>\n",
              "      <td>Middle</td>\n",
              "      <td>30.0</td>\n",
              "      <td>0.000000</td>\n",
              "      <td>6.0</td>\n",
              "      <td>10.0</td>\n",
              "      <td>6.0</td>\n",
              "      <td>2014-11-10 06:00:00</td>\n",
              "    </tr>\n",
              "    <tr>\n",
              "      <th>2</th>\n",
              "      <td>2014-11-10</td>\n",
              "      <td>6</td>\n",
              "      <td>1070</td>\n",
              "      <td>2014-11-10 06:00:00</td>\n",
              "      <td>TVN Pakiet Tematyczny</td>\n",
              "      <td>Mjuzik.tv</td>\n",
              "      <td>2014-11-10</td>\n",
              "      <td>06:12:59</td>\n",
              "      <td>Day</td>\n",
              "      <td>Between</td>\n",
              "      <td>TELEDYSKI</td>\n",
              "      <td>Middle</td>\n",
              "      <td>30.0</td>\n",
              "      <td>0.000000</td>\n",
              "      <td>6.0</td>\n",
              "      <td>10.0</td>\n",
              "      <td>6.0</td>\n",
              "      <td>2014-11-10 06:00:00</td>\n",
              "    </tr>\n",
              "    <tr>\n",
              "      <th>3</th>\n",
              "      <td>2014-11-10</td>\n",
              "      <td>6</td>\n",
              "      <td>1070</td>\n",
              "      <td>2014-11-10 06:00:00</td>\n",
              "      <td>TVN Pakiet Tematyczny</td>\n",
              "      <td>MTV Polska</td>\n",
              "      <td>2014-11-10</td>\n",
              "      <td>06:19:06</td>\n",
              "      <td>Day</td>\n",
              "      <td>Between</td>\n",
              "      <td>PIMP MY RIDE</td>\n",
              "      <td>Middle</td>\n",
              "      <td>30.0</td>\n",
              "      <td>0.000000</td>\n",
              "      <td>6.0</td>\n",
              "      <td>10.0</td>\n",
              "      <td>6.0</td>\n",
              "      <td>2014-11-10 06:00:00</td>\n",
              "    </tr>\n",
              "    <tr>\n",
              "      <th>4</th>\n",
              "      <td>2014-11-10</td>\n",
              "      <td>7</td>\n",
              "      <td>3086</td>\n",
              "      <td>2014-11-10 07:00:00</td>\n",
              "      <td>TVN Pakiet Tematyczny</td>\n",
              "      <td>Comedy Central Family</td>\n",
              "      <td>2014-11-10</td>\n",
              "      <td>06:42:34</td>\n",
              "      <td>Day</td>\n",
              "      <td>Between</td>\n",
              "      <td>DALEKO JESZCZE? /SER.KOM.USA/</td>\n",
              "      <td>Middle</td>\n",
              "      <td>30.0</td>\n",
              "      <td>0.000000</td>\n",
              "      <td>6.0</td>\n",
              "      <td>10.0</td>\n",
              "      <td>7.0</td>\n",
              "      <td>2014-11-10 07:00:00</td>\n",
              "    </tr>\n",
              "    <tr>\n",
              "      <th>...</th>\n",
              "      <td>...</td>\n",
              "      <td>...</td>\n",
              "      <td>...</td>\n",
              "      <td>...</td>\n",
              "      <td>...</td>\n",
              "      <td>...</td>\n",
              "      <td>...</td>\n",
              "      <td>...</td>\n",
              "      <td>...</td>\n",
              "      <td>...</td>\n",
              "      <td>...</td>\n",
              "      <td>...</td>\n",
              "      <td>...</td>\n",
              "      <td>...</td>\n",
              "      <td>...</td>\n",
              "      <td>...</td>\n",
              "      <td>...</td>\n",
              "      <td>...</td>\n",
              "    </tr>\n",
              "    <tr>\n",
              "      <th>2073</th>\n",
              "      <td>2014-11-23</td>\n",
              "      <td>1</td>\n",
              "      <td>991</td>\n",
              "      <td>2014-11-23 01:00:00</td>\n",
              "      <td>Polsat Pakiet Tematyczny</td>\n",
              "      <td>Kino Polska</td>\n",
              "      <td>2014-11-22</td>\n",
              "      <td>00:31:57</td>\n",
              "      <td>Night</td>\n",
              "      <td>Between</td>\n",
              "      <td>07 ZGLOS SIE /SER.KRYM.POL./</td>\n",
              "      <td>Middle</td>\n",
              "      <td>30.0</td>\n",
              "      <td>0.000000</td>\n",
              "      <td>0.0</td>\n",
              "      <td>23.0</td>\n",
              "      <td>1.0</td>\n",
              "      <td>2014-11-23 01:00:00</td>\n",
              "    </tr>\n",
              "    <tr>\n",
              "      <th>2074</th>\n",
              "      <td>2014-11-23</td>\n",
              "      <td>1</td>\n",
              "      <td>991</td>\n",
              "      <td>2014-11-23 01:00:00</td>\n",
              "      <td>TVN Pakiet Tematyczny</td>\n",
              "      <td>TVN Style</td>\n",
              "      <td>2014-11-22</td>\n",
              "      <td>01:19:40</td>\n",
              "      <td>Night</td>\n",
              "      <td>Between</td>\n",
              "      <td>SEKS NA MILION SPOSOBOW /SER.DOK.FRA./</td>\n",
              "      <td>Middle</td>\n",
              "      <td>30.0</td>\n",
              "      <td>0.478713</td>\n",
              "      <td>1.0</td>\n",
              "      <td>23.0</td>\n",
              "      <td>1.0</td>\n",
              "      <td>2014-11-23 01:00:00</td>\n",
              "    </tr>\n",
              "    <tr>\n",
              "      <th>2075</th>\n",
              "      <td>2014-11-23</td>\n",
              "      <td>1</td>\n",
              "      <td>991</td>\n",
              "      <td>2014-11-23 01:00:00</td>\n",
              "      <td>TVN Pakiet Tematyczny</td>\n",
              "      <td>Domo</td>\n",
              "      <td>2014-11-22</td>\n",
              "      <td>01:24:35</td>\n",
              "      <td>Night</td>\n",
              "      <td>After</td>\n",
              "      <td>POUZYWAJMY SOBIE HISTORIA POLSKIEGO WZORNICTWA...</td>\n",
              "      <td>Middle</td>\n",
              "      <td>30.0</td>\n",
              "      <td>0.000000</td>\n",
              "      <td>1.0</td>\n",
              "      <td>23.0</td>\n",
              "      <td>1.0</td>\n",
              "      <td>2014-11-23 01:00:00</td>\n",
              "    </tr>\n",
              "    <tr>\n",
              "      <th>2076</th>\n",
              "      <td>2014-11-23</td>\n",
              "      <td>1</td>\n",
              "      <td>991</td>\n",
              "      <td>2014-11-23 01:00:00</td>\n",
              "      <td>TVN Pakiet Tematyczny</td>\n",
              "      <td>AXN</td>\n",
              "      <td>2014-11-22</td>\n",
              "      <td>01:29:18</td>\n",
              "      <td>Night</td>\n",
              "      <td>Between</td>\n",
              "      <td>PROFIL /SER.SENS.FRAN./</td>\n",
              "      <td>Middle</td>\n",
              "      <td>30.0</td>\n",
              "      <td>0.190379</td>\n",
              "      <td>1.0</td>\n",
              "      <td>23.0</td>\n",
              "      <td>1.0</td>\n",
              "      <td>2014-11-23 01:00:00</td>\n",
              "    </tr>\n",
              "    <tr>\n",
              "      <th>2077</th>\n",
              "      <td>2014-11-23</td>\n",
              "      <td>2</td>\n",
              "      <td>466</td>\n",
              "      <td>2014-11-23 02:00:00</td>\n",
              "      <td>NaN</td>\n",
              "      <td>NaN</td>\n",
              "      <td>NaN</td>\n",
              "      <td>NaN</td>\n",
              "      <td>NaN</td>\n",
              "      <td>NaN</td>\n",
              "      <td>NaN</td>\n",
              "      <td>NaN</td>\n",
              "      <td>NaN</td>\n",
              "      <td>NaN</td>\n",
              "      <td>NaN</td>\n",
              "      <td>NaN</td>\n",
              "      <td>NaN</td>\n",
              "      <td>NaT</td>\n",
              "    </tr>\n",
              "  </tbody>\n",
              "</table>\n",
              "<p>2078 rows × 18 columns</p>\n",
              "</div>"
            ],
            "text/plain": [
              "           Data  godzina  ...  roundTime dateReassigned_datetime\n",
              "0    2014-11-10        6  ...        6.0     2014-11-10 06:00:00\n",
              "1    2014-11-10        6  ...        6.0     2014-11-10 06:00:00\n",
              "2    2014-11-10        6  ...        6.0     2014-11-10 06:00:00\n",
              "3    2014-11-10        6  ...        6.0     2014-11-10 06:00:00\n",
              "4    2014-11-10        7  ...        7.0     2014-11-10 07:00:00\n",
              "...         ...      ...  ...        ...                     ...\n",
              "2073 2014-11-23        1  ...        1.0     2014-11-23 01:00:00\n",
              "2074 2014-11-23        1  ...        1.0     2014-11-23 01:00:00\n",
              "2075 2014-11-23        1  ...        1.0     2014-11-23 01:00:00\n",
              "2076 2014-11-23        1  ...        1.0     2014-11-23 01:00:00\n",
              "2077 2014-11-23        2  ...        NaN                     NaT\n",
              "\n",
              "[2078 rows x 18 columns]"
            ]
          },
          "metadata": {
            "tags": []
          },
          "execution_count": 55
        }
      ]
    },
    {
      "cell_type": "markdown",
      "metadata": {
        "id": "DqoHaFyPdZOt"
      },
      "source": [
        "##Dataset cleaning"
      ]
    },
    {
      "cell_type": "markdown",
      "metadata": {
        "id": "iQ12p9y2dj2V"
      },
      "source": [
        "###Drop NaN"
      ]
    },
    {
      "cell_type": "markdown",
      "metadata": {
        "id": "o_R0devAUeLY"
      },
      "source": [
        "Dropping NaN values"
      ]
    },
    {
      "cell_type": "code",
      "metadata": {
        "id": "c6qSOjsRysCN",
        "outputId": "a1048c09-65c8-4e13-d018-4e5779932a36",
        "colab": {
          "base_uri": "https://localhost:8080/",
          "height": 340
        }
      },
      "source": [
        "data.isnull().sum()"
      ],
      "execution_count": null,
      "outputs": [
        {
          "output_type": "execute_result",
          "data": {
            "text/plain": [
              "Data                                         0\n",
              "godzina                                      0\n",
              "Wizyty_all                                   0\n",
              "date_datetime                                0\n",
              "Campaign Channel                             8\n",
              "AGB Channel                                  8\n",
              "Date                                         8\n",
              "Time                                         8\n",
              "Timeband                                     8\n",
              "BreakType (Block type)                       8\n",
              "Title                                        8\n",
              "Position Type in the block of commercials    8\n",
              "Commercial length                            8\n",
              "GRP                                          8\n",
              "actualHour                                   8\n",
              "dayOfMonth                                   8\n",
              "roundTime                                    8\n",
              "dateReassigned_datetime                      8\n",
              "dtype: int64"
            ]
          },
          "metadata": {
            "tags": []
          },
          "execution_count": 56
        }
      ]
    },
    {
      "cell_type": "code",
      "metadata": {
        "id": "f2F8_cVxy3YO"
      },
      "source": [
        "data = data.dropna()"
      ],
      "execution_count": null,
      "outputs": []
    },
    {
      "cell_type": "markdown",
      "metadata": {
        "id": "_tdIAOPXUm-9"
      },
      "source": [
        "I have to reser indexes"
      ]
    },
    {
      "cell_type": "markdown",
      "metadata": {
        "id": "CwvrFKh6dn0N"
      },
      "source": [
        "###Reset index"
      ]
    },
    {
      "cell_type": "code",
      "metadata": {
        "id": "dExxyAqB1C1X"
      },
      "source": [
        "data = data.reset_index(drop=True)"
      ],
      "execution_count": null,
      "outputs": []
    },
    {
      "cell_type": "markdown",
      "metadata": {
        "id": "5sDVX-mdUpvY"
      },
      "source": [
        "I will extract only columns that are significant for further data processing"
      ]
    },
    {
      "cell_type": "markdown",
      "metadata": {
        "id": "UhcMOZDodto9"
      },
      "source": [
        "###Significant data"
      ]
    },
    {
      "cell_type": "code",
      "metadata": {
        "id": "bUCuPQU3vyqw"
      },
      "source": [
        "data_rt_wall = data[['date_datetime','roundTime','Wizyty_all']]"
      ],
      "execution_count": null,
      "outputs": []
    },
    {
      "cell_type": "code",
      "metadata": {
        "id": "d55xJc730nGW",
        "outputId": "45e00646-b121-402a-ebcf-bd4cafb85414",
        "colab": {
          "base_uri": "https://localhost:8080/",
          "height": 419
        }
      },
      "source": [
        "data_rt_wall"
      ],
      "execution_count": null,
      "outputs": [
        {
          "output_type": "execute_result",
          "data": {
            "text/html": [
              "<div>\n",
              "<style scoped>\n",
              "    .dataframe tbody tr th:only-of-type {\n",
              "        vertical-align: middle;\n",
              "    }\n",
              "\n",
              "    .dataframe tbody tr th {\n",
              "        vertical-align: top;\n",
              "    }\n",
              "\n",
              "    .dataframe thead th {\n",
              "        text-align: right;\n",
              "    }\n",
              "</style>\n",
              "<table border=\"1\" class=\"dataframe\">\n",
              "  <thead>\n",
              "    <tr style=\"text-align: right;\">\n",
              "      <th></th>\n",
              "      <th>date_datetime</th>\n",
              "      <th>roundTime</th>\n",
              "      <th>Wizyty_all</th>\n",
              "    </tr>\n",
              "  </thead>\n",
              "  <tbody>\n",
              "    <tr>\n",
              "      <th>0</th>\n",
              "      <td>2014-11-10 06:00:00</td>\n",
              "      <td>6.0</td>\n",
              "      <td>1070</td>\n",
              "    </tr>\n",
              "    <tr>\n",
              "      <th>1</th>\n",
              "      <td>2014-11-10 06:00:00</td>\n",
              "      <td>6.0</td>\n",
              "      <td>1070</td>\n",
              "    </tr>\n",
              "    <tr>\n",
              "      <th>2</th>\n",
              "      <td>2014-11-10 06:00:00</td>\n",
              "      <td>6.0</td>\n",
              "      <td>1070</td>\n",
              "    </tr>\n",
              "    <tr>\n",
              "      <th>3</th>\n",
              "      <td>2014-11-10 06:00:00</td>\n",
              "      <td>6.0</td>\n",
              "      <td>1070</td>\n",
              "    </tr>\n",
              "    <tr>\n",
              "      <th>4</th>\n",
              "      <td>2014-11-10 07:00:00</td>\n",
              "      <td>7.0</td>\n",
              "      <td>3086</td>\n",
              "    </tr>\n",
              "    <tr>\n",
              "      <th>...</th>\n",
              "      <td>...</td>\n",
              "      <td>...</td>\n",
              "      <td>...</td>\n",
              "    </tr>\n",
              "    <tr>\n",
              "      <th>2065</th>\n",
              "      <td>2014-11-23 00:00:00</td>\n",
              "      <td>0.0</td>\n",
              "      <td>2356</td>\n",
              "    </tr>\n",
              "    <tr>\n",
              "      <th>2066</th>\n",
              "      <td>2014-11-23 01:00:00</td>\n",
              "      <td>1.0</td>\n",
              "      <td>991</td>\n",
              "    </tr>\n",
              "    <tr>\n",
              "      <th>2067</th>\n",
              "      <td>2014-11-23 01:00:00</td>\n",
              "      <td>1.0</td>\n",
              "      <td>991</td>\n",
              "    </tr>\n",
              "    <tr>\n",
              "      <th>2068</th>\n",
              "      <td>2014-11-23 01:00:00</td>\n",
              "      <td>1.0</td>\n",
              "      <td>991</td>\n",
              "    </tr>\n",
              "    <tr>\n",
              "      <th>2069</th>\n",
              "      <td>2014-11-23 01:00:00</td>\n",
              "      <td>1.0</td>\n",
              "      <td>991</td>\n",
              "    </tr>\n",
              "  </tbody>\n",
              "</table>\n",
              "<p>2070 rows × 3 columns</p>\n",
              "</div>"
            ],
            "text/plain": [
              "           date_datetime  roundTime  Wizyty_all\n",
              "0    2014-11-10 06:00:00        6.0        1070\n",
              "1    2014-11-10 06:00:00        6.0        1070\n",
              "2    2014-11-10 06:00:00        6.0        1070\n",
              "3    2014-11-10 06:00:00        6.0        1070\n",
              "4    2014-11-10 07:00:00        7.0        3086\n",
              "...                  ...        ...         ...\n",
              "2065 2014-11-23 00:00:00        0.0        2356\n",
              "2066 2014-11-23 01:00:00        1.0         991\n",
              "2067 2014-11-23 01:00:00        1.0         991\n",
              "2068 2014-11-23 01:00:00        1.0         991\n",
              "2069 2014-11-23 01:00:00        1.0         991\n",
              "\n",
              "[2070 rows x 3 columns]"
            ]
          },
          "metadata": {
            "tags": []
          },
          "execution_count": 60
        }
      ]
    },
    {
      "cell_type": "markdown",
      "metadata": {
        "id": "2wr2empNd3pc"
      },
      "source": [
        "###Count amount of spots for each hour"
      ]
    },
    {
      "cell_type": "markdown",
      "metadata": {
        "id": "9XBMECGdUyec"
      },
      "source": [
        "Now to count repeated values lets use value_counts. Thank to that I will have each date with attached amount of spots displayed each date"
      ]
    },
    {
      "cell_type": "code",
      "metadata": {
        "id": "gGOC8zImeiZg",
        "outputId": "38e2af24-bff8-4782-9613-0e3a6f55d75b",
        "colab": {
          "base_uri": "https://localhost:8080/",
          "height": 34
        }
      },
      "source": [
        "type(data_rt_wall['date_datetime'].value_counts())"
      ],
      "execution_count": null,
      "outputs": [
        {
          "output_type": "execute_result",
          "data": {
            "text/plain": [
              "pandas.core.series.Series"
            ]
          },
          "metadata": {
            "tags": []
          },
          "execution_count": 61
        }
      ]
    },
    {
      "cell_type": "code",
      "metadata": {
        "id": "9mxOdVeTablO",
        "outputId": "7245d51b-84c9-43b1-c70d-f502f3bfb935",
        "colab": {
          "base_uri": "https://localhost:8080/",
          "height": 419
        }
      },
      "source": [
        "counts = data_rt_wall['date_datetime'].value_counts()\n",
        "counts = counts.to_frame().reset_index()\n",
        "counts.rename(columns = {'index':'DateTime','date_datetime':'spotsAmount'},inplace=True)\n",
        "counts"
      ],
      "execution_count": null,
      "outputs": [
        {
          "output_type": "execute_result",
          "data": {
            "text/html": [
              "<div>\n",
              "<style scoped>\n",
              "    .dataframe tbody tr th:only-of-type {\n",
              "        vertical-align: middle;\n",
              "    }\n",
              "\n",
              "    .dataframe tbody tr th {\n",
              "        vertical-align: top;\n",
              "    }\n",
              "\n",
              "    .dataframe thead th {\n",
              "        text-align: right;\n",
              "    }\n",
              "</style>\n",
              "<table border=\"1\" class=\"dataframe\">\n",
              "  <thead>\n",
              "    <tr style=\"text-align: right;\">\n",
              "      <th></th>\n",
              "      <th>DateTime</th>\n",
              "      <th>spotsAmount</th>\n",
              "    </tr>\n",
              "  </thead>\n",
              "  <tbody>\n",
              "    <tr>\n",
              "      <th>0</th>\n",
              "      <td>2014-11-11 08:00:00</td>\n",
              "      <td>18</td>\n",
              "    </tr>\n",
              "    <tr>\n",
              "      <th>1</th>\n",
              "      <td>2014-11-12 07:00:00</td>\n",
              "      <td>17</td>\n",
              "    </tr>\n",
              "    <tr>\n",
              "      <th>2</th>\n",
              "      <td>2014-11-10 09:00:00</td>\n",
              "      <td>16</td>\n",
              "    </tr>\n",
              "    <tr>\n",
              "      <th>3</th>\n",
              "      <td>2014-11-10 11:00:00</td>\n",
              "      <td>16</td>\n",
              "    </tr>\n",
              "    <tr>\n",
              "      <th>4</th>\n",
              "      <td>2014-11-10 08:00:00</td>\n",
              "      <td>16</td>\n",
              "    </tr>\n",
              "    <tr>\n",
              "      <th>...</th>\n",
              "      <td>...</td>\n",
              "      <td>...</td>\n",
              "    </tr>\n",
              "    <tr>\n",
              "      <th>296</th>\n",
              "      <td>2014-11-20 13:00:00</td>\n",
              "      <td>1</td>\n",
              "    </tr>\n",
              "    <tr>\n",
              "      <th>297</th>\n",
              "      <td>2014-11-21 06:00:00</td>\n",
              "      <td>1</td>\n",
              "    </tr>\n",
              "    <tr>\n",
              "      <th>298</th>\n",
              "      <td>2014-11-22 03:00:00</td>\n",
              "      <td>1</td>\n",
              "    </tr>\n",
              "    <tr>\n",
              "      <th>299</th>\n",
              "      <td>2014-11-21 13:00:00</td>\n",
              "      <td>1</td>\n",
              "    </tr>\n",
              "    <tr>\n",
              "      <th>300</th>\n",
              "      <td>2014-11-19 05:00:00</td>\n",
              "      <td>1</td>\n",
              "    </tr>\n",
              "  </tbody>\n",
              "</table>\n",
              "<p>301 rows × 2 columns</p>\n",
              "</div>"
            ],
            "text/plain": [
              "               DateTime  spotsAmount\n",
              "0   2014-11-11 08:00:00           18\n",
              "1   2014-11-12 07:00:00           17\n",
              "2   2014-11-10 09:00:00           16\n",
              "3   2014-11-10 11:00:00           16\n",
              "4   2014-11-10 08:00:00           16\n",
              "..                  ...          ...\n",
              "296 2014-11-20 13:00:00            1\n",
              "297 2014-11-21 06:00:00            1\n",
              "298 2014-11-22 03:00:00            1\n",
              "299 2014-11-21 13:00:00            1\n",
              "300 2014-11-19 05:00:00            1\n",
              "\n",
              "[301 rows x 2 columns]"
            ]
          },
          "metadata": {
            "tags": []
          },
          "execution_count": 62
        }
      ]
    },
    {
      "cell_type": "code",
      "metadata": {
        "id": "sdXBE4gvbSwY"
      },
      "source": [
        "data_rt_wall = data_rt_wall.drop_duplicates(keep='first')"
      ],
      "execution_count": null,
      "outputs": []
    },
    {
      "cell_type": "code",
      "metadata": {
        "id": "XK4EfnwGboXn",
        "outputId": "1338c19a-4e66-4c20-cc93-817e1b9f6868",
        "colab": {
          "base_uri": "https://localhost:8080/",
          "height": 419
        }
      },
      "source": [
        "data_rt_wall"
      ],
      "execution_count": null,
      "outputs": [
        {
          "output_type": "execute_result",
          "data": {
            "text/html": [
              "<div>\n",
              "<style scoped>\n",
              "    .dataframe tbody tr th:only-of-type {\n",
              "        vertical-align: middle;\n",
              "    }\n",
              "\n",
              "    .dataframe tbody tr th {\n",
              "        vertical-align: top;\n",
              "    }\n",
              "\n",
              "    .dataframe thead th {\n",
              "        text-align: right;\n",
              "    }\n",
              "</style>\n",
              "<table border=\"1\" class=\"dataframe\">\n",
              "  <thead>\n",
              "    <tr style=\"text-align: right;\">\n",
              "      <th></th>\n",
              "      <th>date_datetime</th>\n",
              "      <th>roundTime</th>\n",
              "      <th>Wizyty_all</th>\n",
              "    </tr>\n",
              "  </thead>\n",
              "  <tbody>\n",
              "    <tr>\n",
              "      <th>0</th>\n",
              "      <td>2014-11-10 06:00:00</td>\n",
              "      <td>6.0</td>\n",
              "      <td>1070</td>\n",
              "    </tr>\n",
              "    <tr>\n",
              "      <th>4</th>\n",
              "      <td>2014-11-10 07:00:00</td>\n",
              "      <td>7.0</td>\n",
              "      <td>3086</td>\n",
              "    </tr>\n",
              "    <tr>\n",
              "      <th>17</th>\n",
              "      <td>2014-11-10 08:00:00</td>\n",
              "      <td>8.0</td>\n",
              "      <td>5989</td>\n",
              "    </tr>\n",
              "    <tr>\n",
              "      <th>33</th>\n",
              "      <td>2014-11-10 09:00:00</td>\n",
              "      <td>9.0</td>\n",
              "      <td>11506</td>\n",
              "    </tr>\n",
              "    <tr>\n",
              "      <th>49</th>\n",
              "      <td>2014-11-10 10:00:00</td>\n",
              "      <td>10.0</td>\n",
              "      <td>9680</td>\n",
              "    </tr>\n",
              "    <tr>\n",
              "      <th>...</th>\n",
              "      <td>...</td>\n",
              "      <td>...</td>\n",
              "      <td>...</td>\n",
              "    </tr>\n",
              "    <tr>\n",
              "      <th>2041</th>\n",
              "      <td>2014-11-22 21:00:00</td>\n",
              "      <td>21.0</td>\n",
              "      <td>5699</td>\n",
              "    </tr>\n",
              "    <tr>\n",
              "      <th>2047</th>\n",
              "      <td>2014-11-22 22:00:00</td>\n",
              "      <td>22.0</td>\n",
              "      <td>5350</td>\n",
              "    </tr>\n",
              "    <tr>\n",
              "      <th>2058</th>\n",
              "      <td>2014-11-22 23:00:00</td>\n",
              "      <td>23.0</td>\n",
              "      <td>3989</td>\n",
              "    </tr>\n",
              "    <tr>\n",
              "      <th>2061</th>\n",
              "      <td>2014-11-23 00:00:00</td>\n",
              "      <td>0.0</td>\n",
              "      <td>2356</td>\n",
              "    </tr>\n",
              "    <tr>\n",
              "      <th>2066</th>\n",
              "      <td>2014-11-23 01:00:00</td>\n",
              "      <td>1.0</td>\n",
              "      <td>991</td>\n",
              "    </tr>\n",
              "  </tbody>\n",
              "</table>\n",
              "<p>301 rows × 3 columns</p>\n",
              "</div>"
            ],
            "text/plain": [
              "           date_datetime  roundTime  Wizyty_all\n",
              "0    2014-11-10 06:00:00        6.0        1070\n",
              "4    2014-11-10 07:00:00        7.0        3086\n",
              "17   2014-11-10 08:00:00        8.0        5989\n",
              "33   2014-11-10 09:00:00        9.0       11506\n",
              "49   2014-11-10 10:00:00       10.0        9680\n",
              "...                  ...        ...         ...\n",
              "2041 2014-11-22 21:00:00       21.0        5699\n",
              "2047 2014-11-22 22:00:00       22.0        5350\n",
              "2058 2014-11-22 23:00:00       23.0        3989\n",
              "2061 2014-11-23 00:00:00        0.0        2356\n",
              "2066 2014-11-23 01:00:00        1.0         991\n",
              "\n",
              "[301 rows x 3 columns]"
            ]
          },
          "metadata": {
            "tags": []
          },
          "execution_count": 64
        }
      ]
    },
    {
      "cell_type": "code",
      "metadata": {
        "id": "RNzHH_wqdmkt",
        "outputId": "87e15274-19cb-47a6-9926-60cb2da889c0",
        "colab": {
          "base_uri": "https://localhost:8080/",
          "height": 34
        }
      },
      "source": [
        "data_rt_wall['date_datetime'][0]"
      ],
      "execution_count": null,
      "outputs": [
        {
          "output_type": "execute_result",
          "data": {
            "text/plain": [
              "Timestamp('2014-11-10 06:00:00')"
            ]
          },
          "metadata": {
            "tags": []
          },
          "execution_count": 65
        }
      ]
    },
    {
      "cell_type": "code",
      "metadata": {
        "id": "9RLrle3wdsK9",
        "outputId": "987ceb92-995d-4cda-f714-d3de298c9940",
        "colab": {
          "base_uri": "https://localhost:8080/",
          "height": 34
        }
      },
      "source": [
        "counts['DateTime'][0]"
      ],
      "execution_count": null,
      "outputs": [
        {
          "output_type": "execute_result",
          "data": {
            "text/plain": [
              "Timestamp('2014-11-11 08:00:00')"
            ]
          },
          "metadata": {
            "tags": []
          },
          "execution_count": 66
        }
      ]
    },
    {
      "cell_type": "code",
      "metadata": {
        "id": "meYtdWMHbr6q",
        "outputId": "fb0212b3-66cd-478c-80f8-092ee10ff26d",
        "colab": {
          "base_uri": "https://localhost:8080/",
          "height": 419
        }
      },
      "source": [
        "dataset = pd.merge(left=counts,right = data_rt_wall, left_on='DateTime',right_on='date_datetime')\n",
        "dataset "
      ],
      "execution_count": null,
      "outputs": [
        {
          "output_type": "execute_result",
          "data": {
            "text/html": [
              "<div>\n",
              "<style scoped>\n",
              "    .dataframe tbody tr th:only-of-type {\n",
              "        vertical-align: middle;\n",
              "    }\n",
              "\n",
              "    .dataframe tbody tr th {\n",
              "        vertical-align: top;\n",
              "    }\n",
              "\n",
              "    .dataframe thead th {\n",
              "        text-align: right;\n",
              "    }\n",
              "</style>\n",
              "<table border=\"1\" class=\"dataframe\">\n",
              "  <thead>\n",
              "    <tr style=\"text-align: right;\">\n",
              "      <th></th>\n",
              "      <th>DateTime</th>\n",
              "      <th>spotsAmount</th>\n",
              "      <th>date_datetime</th>\n",
              "      <th>roundTime</th>\n",
              "      <th>Wizyty_all</th>\n",
              "    </tr>\n",
              "  </thead>\n",
              "  <tbody>\n",
              "    <tr>\n",
              "      <th>0</th>\n",
              "      <td>2014-11-11 08:00:00</td>\n",
              "      <td>18</td>\n",
              "      <td>2014-11-11 08:00:00</td>\n",
              "      <td>8.0</td>\n",
              "      <td>2297</td>\n",
              "    </tr>\n",
              "    <tr>\n",
              "      <th>1</th>\n",
              "      <td>2014-11-12 07:00:00</td>\n",
              "      <td>17</td>\n",
              "      <td>2014-11-12 07:00:00</td>\n",
              "      <td>7.0</td>\n",
              "      <td>6549</td>\n",
              "    </tr>\n",
              "    <tr>\n",
              "      <th>2</th>\n",
              "      <td>2014-11-10 09:00:00</td>\n",
              "      <td>16</td>\n",
              "      <td>2014-11-10 09:00:00</td>\n",
              "      <td>9.0</td>\n",
              "      <td>11506</td>\n",
              "    </tr>\n",
              "    <tr>\n",
              "      <th>3</th>\n",
              "      <td>2014-11-10 11:00:00</td>\n",
              "      <td>16</td>\n",
              "      <td>2014-11-10 11:00:00</td>\n",
              "      <td>11.0</td>\n",
              "      <td>8049</td>\n",
              "    </tr>\n",
              "    <tr>\n",
              "      <th>4</th>\n",
              "      <td>2014-11-10 08:00:00</td>\n",
              "      <td>16</td>\n",
              "      <td>2014-11-10 08:00:00</td>\n",
              "      <td>8.0</td>\n",
              "      <td>5989</td>\n",
              "    </tr>\n",
              "    <tr>\n",
              "      <th>...</th>\n",
              "      <td>...</td>\n",
              "      <td>...</td>\n",
              "      <td>...</td>\n",
              "      <td>...</td>\n",
              "      <td>...</td>\n",
              "    </tr>\n",
              "    <tr>\n",
              "      <th>296</th>\n",
              "      <td>2014-11-20 13:00:00</td>\n",
              "      <td>1</td>\n",
              "      <td>2014-11-20 13:00:00</td>\n",
              "      <td>13.0</td>\n",
              "      <td>9403</td>\n",
              "    </tr>\n",
              "    <tr>\n",
              "      <th>297</th>\n",
              "      <td>2014-11-21 06:00:00</td>\n",
              "      <td>1</td>\n",
              "      <td>2014-11-21 06:00:00</td>\n",
              "      <td>6.0</td>\n",
              "      <td>1481</td>\n",
              "    </tr>\n",
              "    <tr>\n",
              "      <th>298</th>\n",
              "      <td>2014-11-22 03:00:00</td>\n",
              "      <td>1</td>\n",
              "      <td>2014-11-22 03:00:00</td>\n",
              "      <td>3.0</td>\n",
              "      <td>226</td>\n",
              "    </tr>\n",
              "    <tr>\n",
              "      <th>299</th>\n",
              "      <td>2014-11-21 13:00:00</td>\n",
              "      <td>1</td>\n",
              "      <td>2014-11-21 13:00:00</td>\n",
              "      <td>13.0</td>\n",
              "      <td>9948</td>\n",
              "    </tr>\n",
              "    <tr>\n",
              "      <th>300</th>\n",
              "      <td>2014-11-19 05:00:00</td>\n",
              "      <td>1</td>\n",
              "      <td>2014-11-19 05:00:00</td>\n",
              "      <td>5.0</td>\n",
              "      <td>625</td>\n",
              "    </tr>\n",
              "  </tbody>\n",
              "</table>\n",
              "<p>301 rows × 5 columns</p>\n",
              "</div>"
            ],
            "text/plain": [
              "               DateTime  spotsAmount       date_datetime  roundTime  Wizyty_all\n",
              "0   2014-11-11 08:00:00           18 2014-11-11 08:00:00        8.0        2297\n",
              "1   2014-11-12 07:00:00           17 2014-11-12 07:00:00        7.0        6549\n",
              "2   2014-11-10 09:00:00           16 2014-11-10 09:00:00        9.0       11506\n",
              "3   2014-11-10 11:00:00           16 2014-11-10 11:00:00       11.0        8049\n",
              "4   2014-11-10 08:00:00           16 2014-11-10 08:00:00        8.0        5989\n",
              "..                  ...          ...                 ...        ...         ...\n",
              "296 2014-11-20 13:00:00            1 2014-11-20 13:00:00       13.0        9403\n",
              "297 2014-11-21 06:00:00            1 2014-11-21 06:00:00        6.0        1481\n",
              "298 2014-11-22 03:00:00            1 2014-11-22 03:00:00        3.0         226\n",
              "299 2014-11-21 13:00:00            1 2014-11-21 13:00:00       13.0        9948\n",
              "300 2014-11-19 05:00:00            1 2014-11-19 05:00:00        5.0         625\n",
              "\n",
              "[301 rows x 5 columns]"
            ]
          },
          "metadata": {
            "tags": []
          },
          "execution_count": 67
        }
      ]
    },
    {
      "cell_type": "code",
      "metadata": {
        "id": "6klKYbRzg29U"
      },
      "source": [
        "dataset = dataset.sort_values(by='DateTime')"
      ],
      "execution_count": null,
      "outputs": []
    },
    {
      "cell_type": "code",
      "metadata": {
        "id": "Ljk1G37Fhlnc"
      },
      "source": [
        "dataset.reset_index(drop=True, inplace=True)"
      ],
      "execution_count": null,
      "outputs": []
    },
    {
      "cell_type": "code",
      "metadata": {
        "id": "XELZHvF6h4J9"
      },
      "source": [
        "dataset.drop('date_datetime',axis=1,inplace=True)"
      ],
      "execution_count": null,
      "outputs": []
    },
    {
      "cell_type": "code",
      "metadata": {
        "id": "8ooD6yy0VUHS",
        "outputId": "43edffa9-100b-4ca5-a446-7bba5e3bb3b6",
        "colab": {
          "base_uri": "https://localhost:8080/",
          "height": 419
        }
      },
      "source": [
        "dataset"
      ],
      "execution_count": null,
      "outputs": [
        {
          "output_type": "execute_result",
          "data": {
            "text/html": [
              "<div>\n",
              "<style scoped>\n",
              "    .dataframe tbody tr th:only-of-type {\n",
              "        vertical-align: middle;\n",
              "    }\n",
              "\n",
              "    .dataframe tbody tr th {\n",
              "        vertical-align: top;\n",
              "    }\n",
              "\n",
              "    .dataframe thead th {\n",
              "        text-align: right;\n",
              "    }\n",
              "</style>\n",
              "<table border=\"1\" class=\"dataframe\">\n",
              "  <thead>\n",
              "    <tr style=\"text-align: right;\">\n",
              "      <th></th>\n",
              "      <th>DateTime</th>\n",
              "      <th>spotsAmount</th>\n",
              "      <th>roundTime</th>\n",
              "      <th>Wizyty_all</th>\n",
              "    </tr>\n",
              "  </thead>\n",
              "  <tbody>\n",
              "    <tr>\n",
              "      <th>0</th>\n",
              "      <td>2014-11-10 06:00:00</td>\n",
              "      <td>4</td>\n",
              "      <td>6.0</td>\n",
              "      <td>1070</td>\n",
              "    </tr>\n",
              "    <tr>\n",
              "      <th>1</th>\n",
              "      <td>2014-11-10 07:00:00</td>\n",
              "      <td>13</td>\n",
              "      <td>7.0</td>\n",
              "      <td>3086</td>\n",
              "    </tr>\n",
              "    <tr>\n",
              "      <th>2</th>\n",
              "      <td>2014-11-10 08:00:00</td>\n",
              "      <td>16</td>\n",
              "      <td>8.0</td>\n",
              "      <td>5989</td>\n",
              "    </tr>\n",
              "    <tr>\n",
              "      <th>3</th>\n",
              "      <td>2014-11-10 09:00:00</td>\n",
              "      <td>16</td>\n",
              "      <td>9.0</td>\n",
              "      <td>11506</td>\n",
              "    </tr>\n",
              "    <tr>\n",
              "      <th>4</th>\n",
              "      <td>2014-11-10 10:00:00</td>\n",
              "      <td>11</td>\n",
              "      <td>10.0</td>\n",
              "      <td>9680</td>\n",
              "    </tr>\n",
              "    <tr>\n",
              "      <th>...</th>\n",
              "      <td>...</td>\n",
              "      <td>...</td>\n",
              "      <td>...</td>\n",
              "      <td>...</td>\n",
              "    </tr>\n",
              "    <tr>\n",
              "      <th>296</th>\n",
              "      <td>2014-11-22 21:00:00</td>\n",
              "      <td>6</td>\n",
              "      <td>21.0</td>\n",
              "      <td>5699</td>\n",
              "    </tr>\n",
              "    <tr>\n",
              "      <th>297</th>\n",
              "      <td>2014-11-22 22:00:00</td>\n",
              "      <td>11</td>\n",
              "      <td>22.0</td>\n",
              "      <td>5350</td>\n",
              "    </tr>\n",
              "    <tr>\n",
              "      <th>298</th>\n",
              "      <td>2014-11-22 23:00:00</td>\n",
              "      <td>3</td>\n",
              "      <td>23.0</td>\n",
              "      <td>3989</td>\n",
              "    </tr>\n",
              "    <tr>\n",
              "      <th>299</th>\n",
              "      <td>2014-11-23 00:00:00</td>\n",
              "      <td>5</td>\n",
              "      <td>0.0</td>\n",
              "      <td>2356</td>\n",
              "    </tr>\n",
              "    <tr>\n",
              "      <th>300</th>\n",
              "      <td>2014-11-23 01:00:00</td>\n",
              "      <td>4</td>\n",
              "      <td>1.0</td>\n",
              "      <td>991</td>\n",
              "    </tr>\n",
              "  </tbody>\n",
              "</table>\n",
              "<p>301 rows × 4 columns</p>\n",
              "</div>"
            ],
            "text/plain": [
              "               DateTime  spotsAmount  roundTime  Wizyty_all\n",
              "0   2014-11-10 06:00:00            4        6.0        1070\n",
              "1   2014-11-10 07:00:00           13        7.0        3086\n",
              "2   2014-11-10 08:00:00           16        8.0        5989\n",
              "3   2014-11-10 09:00:00           16        9.0       11506\n",
              "4   2014-11-10 10:00:00           11       10.0        9680\n",
              "..                  ...          ...        ...         ...\n",
              "296 2014-11-22 21:00:00            6       21.0        5699\n",
              "297 2014-11-22 22:00:00           11       22.0        5350\n",
              "298 2014-11-22 23:00:00            3       23.0        3989\n",
              "299 2014-11-23 00:00:00            5        0.0        2356\n",
              "300 2014-11-23 01:00:00            4        1.0         991\n",
              "\n",
              "[301 rows x 4 columns]"
            ]
          },
          "metadata": {
            "tags": []
          },
          "execution_count": 71
        }
      ]
    },
    {
      "cell_type": "markdown",
      "metadata": {
        "id": "BOyKUIGFeDzn"
      },
      "source": [
        "###Add GRP column"
      ]
    },
    {
      "cell_type": "markdown",
      "metadata": {
        "id": "AHE274iwBDyN"
      },
      "source": [
        "Additionally I will add GRP coulmn"
      ]
    },
    {
      "cell_type": "code",
      "metadata": {
        "id": "qd6Or3-fS65T",
        "outputId": "1a5f5f0c-308e-4ee0-f389-128be7047e10",
        "colab": {
          "base_uri": "https://localhost:8080/",
          "height": 450
        }
      },
      "source": [
        "data_grp = data[['date_datetime','GRP']]\n",
        "grp = data_grp.groupby(by=['date_datetime']).mean()\n",
        "grp"
      ],
      "execution_count": null,
      "outputs": [
        {
          "output_type": "execute_result",
          "data": {
            "text/html": [
              "<div>\n",
              "<style scoped>\n",
              "    .dataframe tbody tr th:only-of-type {\n",
              "        vertical-align: middle;\n",
              "    }\n",
              "\n",
              "    .dataframe tbody tr th {\n",
              "        vertical-align: top;\n",
              "    }\n",
              "\n",
              "    .dataframe thead th {\n",
              "        text-align: right;\n",
              "    }\n",
              "</style>\n",
              "<table border=\"1\" class=\"dataframe\">\n",
              "  <thead>\n",
              "    <tr style=\"text-align: right;\">\n",
              "      <th></th>\n",
              "      <th>GRP</th>\n",
              "    </tr>\n",
              "    <tr>\n",
              "      <th>date_datetime</th>\n",
              "      <th></th>\n",
              "    </tr>\n",
              "  </thead>\n",
              "  <tbody>\n",
              "    <tr>\n",
              "      <th>2014-11-10 06:00:00</th>\n",
              "      <td>0.000000</td>\n",
              "    </tr>\n",
              "    <tr>\n",
              "      <th>2014-11-10 07:00:00</th>\n",
              "      <td>0.000000</td>\n",
              "    </tr>\n",
              "    <tr>\n",
              "      <th>2014-11-10 08:00:00</th>\n",
              "      <td>0.000000</td>\n",
              "    </tr>\n",
              "    <tr>\n",
              "      <th>2014-11-10 09:00:00</th>\n",
              "      <td>0.325756</td>\n",
              "    </tr>\n",
              "    <tr>\n",
              "      <th>2014-11-10 10:00:00</th>\n",
              "      <td>0.000000</td>\n",
              "    </tr>\n",
              "    <tr>\n",
              "      <th>...</th>\n",
              "      <td>...</td>\n",
              "    </tr>\n",
              "    <tr>\n",
              "      <th>2014-11-22 21:00:00</th>\n",
              "      <td>0.000000</td>\n",
              "    </tr>\n",
              "    <tr>\n",
              "      <th>2014-11-22 22:00:00</th>\n",
              "      <td>0.062157</td>\n",
              "    </tr>\n",
              "    <tr>\n",
              "      <th>2014-11-22 23:00:00</th>\n",
              "      <td>2.264192</td>\n",
              "    </tr>\n",
              "    <tr>\n",
              "      <th>2014-11-23 00:00:00</th>\n",
              "      <td>0.000000</td>\n",
              "    </tr>\n",
              "    <tr>\n",
              "      <th>2014-11-23 01:00:00</th>\n",
              "      <td>0.167273</td>\n",
              "    </tr>\n",
              "  </tbody>\n",
              "</table>\n",
              "<p>301 rows × 1 columns</p>\n",
              "</div>"
            ],
            "text/plain": [
              "                          GRP\n",
              "date_datetime                \n",
              "2014-11-10 06:00:00  0.000000\n",
              "2014-11-10 07:00:00  0.000000\n",
              "2014-11-10 08:00:00  0.000000\n",
              "2014-11-10 09:00:00  0.325756\n",
              "2014-11-10 10:00:00  0.000000\n",
              "...                       ...\n",
              "2014-11-22 21:00:00  0.000000\n",
              "2014-11-22 22:00:00  0.062157\n",
              "2014-11-22 23:00:00  2.264192\n",
              "2014-11-23 00:00:00  0.000000\n",
              "2014-11-23 01:00:00  0.167273\n",
              "\n",
              "[301 rows x 1 columns]"
            ]
          },
          "metadata": {
            "tags": []
          },
          "execution_count": 72
        }
      ]
    },
    {
      "cell_type": "code",
      "metadata": {
        "id": "a60vswpBWrx9"
      },
      "source": [
        "grp.reset_index(drop = True,inplace=True)"
      ],
      "execution_count": null,
      "outputs": []
    },
    {
      "cell_type": "code",
      "metadata": {
        "id": "Ui77fkQjH3sJ",
        "outputId": "cffa6883-3f54-442b-e158-735da8ac582c",
        "colab": {
          "base_uri": "https://localhost:8080/",
          "height": 204
        }
      },
      "source": [
        "dataset['avg_GRP'] = grp\n",
        "dataset.tail()"
      ],
      "execution_count": null,
      "outputs": [
        {
          "output_type": "execute_result",
          "data": {
            "text/html": [
              "<div>\n",
              "<style scoped>\n",
              "    .dataframe tbody tr th:only-of-type {\n",
              "        vertical-align: middle;\n",
              "    }\n",
              "\n",
              "    .dataframe tbody tr th {\n",
              "        vertical-align: top;\n",
              "    }\n",
              "\n",
              "    .dataframe thead th {\n",
              "        text-align: right;\n",
              "    }\n",
              "</style>\n",
              "<table border=\"1\" class=\"dataframe\">\n",
              "  <thead>\n",
              "    <tr style=\"text-align: right;\">\n",
              "      <th></th>\n",
              "      <th>DateTime</th>\n",
              "      <th>spotsAmount</th>\n",
              "      <th>roundTime</th>\n",
              "      <th>Wizyty_all</th>\n",
              "      <th>avg_GRP</th>\n",
              "    </tr>\n",
              "  </thead>\n",
              "  <tbody>\n",
              "    <tr>\n",
              "      <th>296</th>\n",
              "      <td>2014-11-22 21:00:00</td>\n",
              "      <td>6</td>\n",
              "      <td>21.0</td>\n",
              "      <td>5699</td>\n",
              "      <td>0.000000</td>\n",
              "    </tr>\n",
              "    <tr>\n",
              "      <th>297</th>\n",
              "      <td>2014-11-22 22:00:00</td>\n",
              "      <td>11</td>\n",
              "      <td>22.0</td>\n",
              "      <td>5350</td>\n",
              "      <td>0.062157</td>\n",
              "    </tr>\n",
              "    <tr>\n",
              "      <th>298</th>\n",
              "      <td>2014-11-22 23:00:00</td>\n",
              "      <td>3</td>\n",
              "      <td>23.0</td>\n",
              "      <td>3989</td>\n",
              "      <td>2.264192</td>\n",
              "    </tr>\n",
              "    <tr>\n",
              "      <th>299</th>\n",
              "      <td>2014-11-23 00:00:00</td>\n",
              "      <td>5</td>\n",
              "      <td>0.0</td>\n",
              "      <td>2356</td>\n",
              "      <td>0.000000</td>\n",
              "    </tr>\n",
              "    <tr>\n",
              "      <th>300</th>\n",
              "      <td>2014-11-23 01:00:00</td>\n",
              "      <td>4</td>\n",
              "      <td>1.0</td>\n",
              "      <td>991</td>\n",
              "      <td>0.167273</td>\n",
              "    </tr>\n",
              "  </tbody>\n",
              "</table>\n",
              "</div>"
            ],
            "text/plain": [
              "               DateTime  spotsAmount  roundTime  Wizyty_all   avg_GRP\n",
              "296 2014-11-22 21:00:00            6       21.0        5699  0.000000\n",
              "297 2014-11-22 22:00:00           11       22.0        5350  0.062157\n",
              "298 2014-11-22 23:00:00            3       23.0        3989  2.264192\n",
              "299 2014-11-23 00:00:00            5        0.0        2356  0.000000\n",
              "300 2014-11-23 01:00:00            4        1.0         991  0.167273"
            ]
          },
          "metadata": {
            "tags": []
          },
          "execution_count": 74
        }
      ]
    },
    {
      "cell_type": "markdown",
      "metadata": {
        "id": "EXYCVrN8eRyi"
      },
      "source": [
        "##Final dataset"
      ]
    },
    {
      "cell_type": "code",
      "metadata": {
        "id": "SvGB3bDNYocr"
      },
      "source": [
        "dataset.set_index('DateTime',inplace = True)"
      ],
      "execution_count": null,
      "outputs": []
    },
    {
      "cell_type": "code",
      "metadata": {
        "id": "dKenqjOUaJIY",
        "outputId": "7abdae82-2856-4ca3-8af8-6c8eaf6158e4",
        "colab": {
          "base_uri": "https://localhost:8080/",
          "height": 450
        }
      },
      "source": [
        "dataset"
      ],
      "execution_count": null,
      "outputs": [
        {
          "output_type": "execute_result",
          "data": {
            "text/html": [
              "<div>\n",
              "<style scoped>\n",
              "    .dataframe tbody tr th:only-of-type {\n",
              "        vertical-align: middle;\n",
              "    }\n",
              "\n",
              "    .dataframe tbody tr th {\n",
              "        vertical-align: top;\n",
              "    }\n",
              "\n",
              "    .dataframe thead th {\n",
              "        text-align: right;\n",
              "    }\n",
              "</style>\n",
              "<table border=\"1\" class=\"dataframe\">\n",
              "  <thead>\n",
              "    <tr style=\"text-align: right;\">\n",
              "      <th></th>\n",
              "      <th>spotsAmount</th>\n",
              "      <th>roundTime</th>\n",
              "      <th>Wizyty_all</th>\n",
              "      <th>avg_GRP</th>\n",
              "    </tr>\n",
              "    <tr>\n",
              "      <th>DateTime</th>\n",
              "      <th></th>\n",
              "      <th></th>\n",
              "      <th></th>\n",
              "      <th></th>\n",
              "    </tr>\n",
              "  </thead>\n",
              "  <tbody>\n",
              "    <tr>\n",
              "      <th>2014-11-10 06:00:00</th>\n",
              "      <td>4</td>\n",
              "      <td>6.0</td>\n",
              "      <td>1070</td>\n",
              "      <td>0.000000</td>\n",
              "    </tr>\n",
              "    <tr>\n",
              "      <th>2014-11-10 07:00:00</th>\n",
              "      <td>13</td>\n",
              "      <td>7.0</td>\n",
              "      <td>3086</td>\n",
              "      <td>0.000000</td>\n",
              "    </tr>\n",
              "    <tr>\n",
              "      <th>2014-11-10 08:00:00</th>\n",
              "      <td>16</td>\n",
              "      <td>8.0</td>\n",
              "      <td>5989</td>\n",
              "      <td>0.000000</td>\n",
              "    </tr>\n",
              "    <tr>\n",
              "      <th>2014-11-10 09:00:00</th>\n",
              "      <td>16</td>\n",
              "      <td>9.0</td>\n",
              "      <td>11506</td>\n",
              "      <td>0.325756</td>\n",
              "    </tr>\n",
              "    <tr>\n",
              "      <th>2014-11-10 10:00:00</th>\n",
              "      <td>11</td>\n",
              "      <td>10.0</td>\n",
              "      <td>9680</td>\n",
              "      <td>0.000000</td>\n",
              "    </tr>\n",
              "    <tr>\n",
              "      <th>...</th>\n",
              "      <td>...</td>\n",
              "      <td>...</td>\n",
              "      <td>...</td>\n",
              "      <td>...</td>\n",
              "    </tr>\n",
              "    <tr>\n",
              "      <th>2014-11-22 21:00:00</th>\n",
              "      <td>6</td>\n",
              "      <td>21.0</td>\n",
              "      <td>5699</td>\n",
              "      <td>0.000000</td>\n",
              "    </tr>\n",
              "    <tr>\n",
              "      <th>2014-11-22 22:00:00</th>\n",
              "      <td>11</td>\n",
              "      <td>22.0</td>\n",
              "      <td>5350</td>\n",
              "      <td>0.062157</td>\n",
              "    </tr>\n",
              "    <tr>\n",
              "      <th>2014-11-22 23:00:00</th>\n",
              "      <td>3</td>\n",
              "      <td>23.0</td>\n",
              "      <td>3989</td>\n",
              "      <td>2.264192</td>\n",
              "    </tr>\n",
              "    <tr>\n",
              "      <th>2014-11-23 00:00:00</th>\n",
              "      <td>5</td>\n",
              "      <td>0.0</td>\n",
              "      <td>2356</td>\n",
              "      <td>0.000000</td>\n",
              "    </tr>\n",
              "    <tr>\n",
              "      <th>2014-11-23 01:00:00</th>\n",
              "      <td>4</td>\n",
              "      <td>1.0</td>\n",
              "      <td>991</td>\n",
              "      <td>0.167273</td>\n",
              "    </tr>\n",
              "  </tbody>\n",
              "</table>\n",
              "<p>301 rows × 4 columns</p>\n",
              "</div>"
            ],
            "text/plain": [
              "                     spotsAmount  roundTime  Wizyty_all   avg_GRP\n",
              "DateTime                                                         \n",
              "2014-11-10 06:00:00            4        6.0        1070  0.000000\n",
              "2014-11-10 07:00:00           13        7.0        3086  0.000000\n",
              "2014-11-10 08:00:00           16        8.0        5989  0.000000\n",
              "2014-11-10 09:00:00           16        9.0       11506  0.325756\n",
              "2014-11-10 10:00:00           11       10.0        9680  0.000000\n",
              "...                          ...        ...         ...       ...\n",
              "2014-11-22 21:00:00            6       21.0        5699  0.000000\n",
              "2014-11-22 22:00:00           11       22.0        5350  0.062157\n",
              "2014-11-22 23:00:00            3       23.0        3989  2.264192\n",
              "2014-11-23 00:00:00            5        0.0        2356  0.000000\n",
              "2014-11-23 01:00:00            4        1.0         991  0.167273\n",
              "\n",
              "[301 rows x 4 columns]"
            ]
          },
          "metadata": {
            "tags": []
          },
          "execution_count": 76
        }
      ]
    },
    {
      "cell_type": "markdown",
      "metadata": {
        "id": "H6F02SDOqB-z"
      },
      "source": [
        "#Exploratory data analysis"
      ]
    },
    {
      "cell_type": "code",
      "metadata": {
        "id": "ts4wEjfvYpQk",
        "outputId": "8c55ce99-5c73-445c-806b-ee77824af069",
        "colab": {
          "base_uri": "https://localhost:8080/",
          "height": 623
        }
      },
      "source": [
        "fig = plt.figure(figsize=(10,10))\n",
        "sns.kdeplot(dataset['spotsAmount'],dataset['Wizyty_all'],n_levels=20)"
      ],
      "execution_count": null,
      "outputs": [
        {
          "output_type": "execute_result",
          "data": {
            "text/plain": [
              "<matplotlib.axes._subplots.AxesSubplot at 0x7ff308228358>"
            ]
          },
          "metadata": {
            "tags": []
          },
          "execution_count": 77
        },
        {
          "output_type": "display_data",
          "data": {
            "image/png": "[encoded data removed]",
            "text/plain": [
              "<Figure size 720x720 with 1 Axes>"
            ]
          },
          "metadata": {
            "tags": [],
            "needs_background": "light"
          }
        }
      ]
    },
    {
      "cell_type": "code",
      "metadata": {
        "id": "J3H2xrplaMlc",
        "outputId": "84a85afd-997d-4563-8825-56418030d227",
        "colab": {
          "base_uri": "https://localhost:8080/",
          "height": 764
        }
      },
      "source": [
        "sns.pairplot(dataset)"
      ],
      "execution_count": null,
      "outputs": [
        {
          "output_type": "execute_result",
          "data": {
            "text/plain": [
              "<seaborn.axisgrid.PairGrid at 0x7ff307f50518>"
            ]
          },
          "metadata": {
            "tags": []
          },
          "execution_count": 78
        },
        {
          "output_type": "display_data",
          "data": {
            "image/png": "[encoded data removed]",
            "text/plain": [
              "<Figure size 720x720 with 20 Axes>"
            ]
          },
          "metadata": {
            "tags": [],
            "needs_background": "light"
          }
        }
      ]
    },
    {
      "cell_type": "code",
      "metadata": {
        "id": "Spd-2LhdqcIz",
        "outputId": "1bc8a007-00bf-4ad9-d399-5cde3bbd2b2a",
        "colab": {
          "base_uri": "https://localhost:8080/",
          "height": 450
        }
      },
      "source": [
        "dataset"
      ],
      "execution_count": null,
      "outputs": [
        {
          "output_type": "execute_result",
          "data": {
            "text/html": [
              "<div>\n",
              "<style scoped>\n",
              "    .dataframe tbody tr th:only-of-type {\n",
              "        vertical-align: middle;\n",
              "    }\n",
              "\n",
              "    .dataframe tbody tr th {\n",
              "        vertical-align: top;\n",
              "    }\n",
              "\n",
              "    .dataframe thead th {\n",
              "        text-align: right;\n",
              "    }\n",
              "</style>\n",
              "<table border=\"1\" class=\"dataframe\">\n",
              "  <thead>\n",
              "    <tr style=\"text-align: right;\">\n",
              "      <th></th>\n",
              "      <th>spotsAmount</th>\n",
              "      <th>roundTime</th>\n",
              "      <th>Wizyty_all</th>\n",
              "      <th>avg_GRP</th>\n",
              "    </tr>\n",
              "    <tr>\n",
              "      <th>DateTime</th>\n",
              "      <th></th>\n",
              "      <th></th>\n",
              "      <th></th>\n",
              "      <th></th>\n",
              "    </tr>\n",
              "  </thead>\n",
              "  <tbody>\n",
              "    <tr>\n",
              "      <th>2014-11-10 06:00:00</th>\n",
              "      <td>4</td>\n",
              "      <td>6.0</td>\n",
              "      <td>1070</td>\n",
              "      <td>0.000000</td>\n",
              "    </tr>\n",
              "    <tr>\n",
              "      <th>2014-11-10 07:00:00</th>\n",
              "      <td>13</td>\n",
              "      <td>7.0</td>\n",
              "      <td>3086</td>\n",
              "      <td>0.000000</td>\n",
              "    </tr>\n",
              "    <tr>\n",
              "      <th>2014-11-10 08:00:00</th>\n",
              "      <td>16</td>\n",
              "      <td>8.0</td>\n",
              "      <td>5989</td>\n",
              "      <td>0.000000</td>\n",
              "    </tr>\n",
              "    <tr>\n",
              "      <th>2014-11-10 09:00:00</th>\n",
              "      <td>16</td>\n",
              "      <td>9.0</td>\n",
              "      <td>11506</td>\n",
              "      <td>0.325756</td>\n",
              "    </tr>\n",
              "    <tr>\n",
              "      <th>2014-11-10 10:00:00</th>\n",
              "      <td>11</td>\n",
              "      <td>10.0</td>\n",
              "      <td>9680</td>\n",
              "      <td>0.000000</td>\n",
              "    </tr>\n",
              "    <tr>\n",
              "      <th>...</th>\n",
              "      <td>...</td>\n",
              "      <td>...</td>\n",
              "      <td>...</td>\n",
              "      <td>...</td>\n",
              "    </tr>\n",
              "    <tr>\n",
              "      <th>2014-11-22 21:00:00</th>\n",
              "      <td>6</td>\n",
              "      <td>21.0</td>\n",
              "      <td>5699</td>\n",
              "      <td>0.000000</td>\n",
              "    </tr>\n",
              "    <tr>\n",
              "      <th>2014-11-22 22:00:00</th>\n",
              "      <td>11</td>\n",
              "      <td>22.0</td>\n",
              "      <td>5350</td>\n",
              "      <td>0.062157</td>\n",
              "    </tr>\n",
              "    <tr>\n",
              "      <th>2014-11-22 23:00:00</th>\n",
              "      <td>3</td>\n",
              "      <td>23.0</td>\n",
              "      <td>3989</td>\n",
              "      <td>2.264192</td>\n",
              "    </tr>\n",
              "    <tr>\n",
              "      <th>2014-11-23 00:00:00</th>\n",
              "      <td>5</td>\n",
              "      <td>0.0</td>\n",
              "      <td>2356</td>\n",
              "      <td>0.000000</td>\n",
              "    </tr>\n",
              "    <tr>\n",
              "      <th>2014-11-23 01:00:00</th>\n",
              "      <td>4</td>\n",
              "      <td>1.0</td>\n",
              "      <td>991</td>\n",
              "      <td>0.167273</td>\n",
              "    </tr>\n",
              "  </tbody>\n",
              "</table>\n",
              "<p>301 rows × 4 columns</p>\n",
              "</div>"
            ],
            "text/plain": [
              "                     spotsAmount  roundTime  Wizyty_all   avg_GRP\n",
              "DateTime                                                         \n",
              "2014-11-10 06:00:00            4        6.0        1070  0.000000\n",
              "2014-11-10 07:00:00           13        7.0        3086  0.000000\n",
              "2014-11-10 08:00:00           16        8.0        5989  0.000000\n",
              "2014-11-10 09:00:00           16        9.0       11506  0.325756\n",
              "2014-11-10 10:00:00           11       10.0        9680  0.000000\n",
              "...                          ...        ...         ...       ...\n",
              "2014-11-22 21:00:00            6       21.0        5699  0.000000\n",
              "2014-11-22 22:00:00           11       22.0        5350  0.062157\n",
              "2014-11-22 23:00:00            3       23.0        3989  2.264192\n",
              "2014-11-23 00:00:00            5        0.0        2356  0.000000\n",
              "2014-11-23 01:00:00            4        1.0         991  0.167273\n",
              "\n",
              "[301 rows x 4 columns]"
            ]
          },
          "metadata": {
            "tags": []
          },
          "execution_count": 79
        }
      ]
    },
    {
      "cell_type": "code",
      "metadata": {
        "id": "_2RJ9mRMqRFw",
        "outputId": "25e9a908-395c-4f37-fee3-a0163c3d6a14",
        "colab": {
          "base_uri": "https://localhost:8080/",
          "height": 437
        }
      },
      "source": [
        "fig = plt.figure(figsize = (15,8))\n",
        "\n",
        "plt.xlabel('Date')\n",
        "plt.ylabel('Visits')\n",
        "\n",
        "plt.plot(dataset[['Wizyty_all']],color = 'red')"
      ],
      "execution_count": null,
      "outputs": [
        {
          "output_type": "execute_result",
          "data": {
            "text/plain": [
              "[<matplotlib.lines.Line2D at 0x7ff303766278>]"
            ]
          },
          "metadata": {
            "tags": []
          },
          "execution_count": 80
        },
        {
          "output_type": "display_data",
          "data": {
            "image/png": "[encoded data removed]",
            "text/plain": [
              "<Figure size 1080x576 with 1 Axes>"
            ]
          },
          "metadata": {
            "tags": [],
            "needs_background": "light"
          }
        }
      ]
    },
    {
      "cell_type": "markdown",
      "metadata": {
        "id": "EUMaWT_fsU55"
      },
      "source": [
        "As we can see people tend to visit website more times during workdays."
      ]
    },
    {
      "cell_type": "code",
      "metadata": {
        "id": "aUD01b8yrqCB",
        "outputId": "77d7af49-4356-4015-ecb6-86a997e69888",
        "colab": {
          "base_uri": "https://localhost:8080/",
          "height": 442
        }
      },
      "source": [
        "fig = plt.figure(figsize = (15,8))\n",
        "\n",
        "plt.xlabel('Date')\n",
        "plt.ylabel('Spots Amount')\n",
        "\n",
        "plt.plot(dataset[['spotsAmount']],color = 'blue')"
      ],
      "execution_count": null,
      "outputs": [
        {
          "output_type": "execute_result",
          "data": {
            "text/plain": [
              "[<matplotlib.lines.Line2D at 0x7ff303906dd8>]"
            ]
          },
          "metadata": {
            "tags": []
          },
          "execution_count": 81
        },
        {
          "output_type": "display_data",
          "data": {
            "image/png": "[encoded data removed]",
            "text/plain": [
              "<Figure size 1080x576 with 1 Axes>"
            ]
          },
          "metadata": {
            "tags": [],
            "needs_background": "light"
          }
        }
      ]
    },
    {
      "cell_type": "code",
      "metadata": {
        "id": "FfY76qWafB8n",
        "outputId": "036ec38e-79af-43dd-a1c3-037dae211b58",
        "colab": {
          "base_uri": "https://localhost:8080/",
          "height": 173
        }
      },
      "source": [
        "dataset.corr()"
      ],
      "execution_count": null,
      "outputs": [
        {
          "output_type": "execute_result",
          "data": {
            "text/html": [
              "<div>\n",
              "<style scoped>\n",
              "    .dataframe tbody tr th:only-of-type {\n",
              "        vertical-align: middle;\n",
              "    }\n",
              "\n",
              "    .dataframe tbody tr th {\n",
              "        vertical-align: top;\n",
              "    }\n",
              "\n",
              "    .dataframe thead th {\n",
              "        text-align: right;\n",
              "    }\n",
              "</style>\n",
              "<table border=\"1\" class=\"dataframe\">\n",
              "  <thead>\n",
              "    <tr style=\"text-align: right;\">\n",
              "      <th></th>\n",
              "      <th>spotsAmount</th>\n",
              "      <th>roundTime</th>\n",
              "      <th>Wizyty_all</th>\n",
              "      <th>avg_GRP</th>\n",
              "    </tr>\n",
              "  </thead>\n",
              "  <tbody>\n",
              "    <tr>\n",
              "      <th>spotsAmount</th>\n",
              "      <td>1.000000</td>\n",
              "      <td>0.199981</td>\n",
              "      <td>0.124710</td>\n",
              "      <td>0.087090</td>\n",
              "    </tr>\n",
              "    <tr>\n",
              "      <th>roundTime</th>\n",
              "      <td>0.199981</td>\n",
              "      <td>1.000000</td>\n",
              "      <td>0.500102</td>\n",
              "      <td>0.400439</td>\n",
              "    </tr>\n",
              "    <tr>\n",
              "      <th>Wizyty_all</th>\n",
              "      <td>0.124710</td>\n",
              "      <td>0.500102</td>\n",
              "      <td>1.000000</td>\n",
              "      <td>0.223743</td>\n",
              "    </tr>\n",
              "    <tr>\n",
              "      <th>avg_GRP</th>\n",
              "      <td>0.087090</td>\n",
              "      <td>0.400439</td>\n",
              "      <td>0.223743</td>\n",
              "      <td>1.000000</td>\n",
              "    </tr>\n",
              "  </tbody>\n",
              "</table>\n",
              "</div>"
            ],
            "text/plain": [
              "             spotsAmount  roundTime  Wizyty_all   avg_GRP\n",
              "spotsAmount     1.000000   0.199981    0.124710  0.087090\n",
              "roundTime       0.199981   1.000000    0.500102  0.400439\n",
              "Wizyty_all      0.124710   0.500102    1.000000  0.223743\n",
              "avg_GRP         0.087090   0.400439    0.223743  1.000000"
            ]
          },
          "metadata": {
            "tags": []
          },
          "execution_count": 82
        }
      ]
    },
    {
      "cell_type": "markdown",
      "metadata": {
        "id": "CiZhlfmcYdBl"
      },
      "source": [
        "#Data processing"
      ]
    },
    {
      "cell_type": "markdown",
      "metadata": {
        "id": "q19SLeb38eQs"
      },
      "source": [
        "##Correlation between spots amount on visits in general"
      ]
    },
    {
      "cell_type": "code",
      "metadata": {
        "id": "er72UlZukgt3"
      },
      "source": [
        "from scipy.stats import spearmanr"
      ],
      "execution_count": null,
      "outputs": []
    },
    {
      "cell_type": "markdown",
      "metadata": {
        "id": "vSC3MUGjedm0"
      },
      "source": [
        "### For full dataset"
      ]
    },
    {
      "cell_type": "markdown",
      "metadata": {
        "id": "F2XkKSp73yID"
      },
      "source": [
        "Whether is any correlation between spots amount and visists on website in general"
      ]
    },
    {
      "cell_type": "code",
      "metadata": {
        "id": "CB_d4sWDxiya",
        "outputId": "234618f1-ec95-4dba-d60c-7f0e45a5ba9f",
        "colab": {
          "base_uri": "https://localhost:8080/",
          "height": 419
        }
      },
      "source": [
        "whether = dataset[['spotsAmount','Wizyty_all']].reset_index(drop=True)\n",
        "whether"
      ],
      "execution_count": null,
      "outputs": [
        {
          "output_type": "execute_result",
          "data": {
            "text/html": [
              "<div>\n",
              "<style scoped>\n",
              "    .dataframe tbody tr th:only-of-type {\n",
              "        vertical-align: middle;\n",
              "    }\n",
              "\n",
              "    .dataframe tbody tr th {\n",
              "        vertical-align: top;\n",
              "    }\n",
              "\n",
              "    .dataframe thead th {\n",
              "        text-align: right;\n",
              "    }\n",
              "</style>\n",
              "<table border=\"1\" class=\"dataframe\">\n",
              "  <thead>\n",
              "    <tr style=\"text-align: right;\">\n",
              "      <th></th>\n",
              "      <th>spotsAmount</th>\n",
              "      <th>Wizyty_all</th>\n",
              "    </tr>\n",
              "  </thead>\n",
              "  <tbody>\n",
              "    <tr>\n",
              "      <th>0</th>\n",
              "      <td>4</td>\n",
              "      <td>1070</td>\n",
              "    </tr>\n",
              "    <tr>\n",
              "      <th>1</th>\n",
              "      <td>13</td>\n",
              "      <td>3086</td>\n",
              "    </tr>\n",
              "    <tr>\n",
              "      <th>2</th>\n",
              "      <td>16</td>\n",
              "      <td>5989</td>\n",
              "    </tr>\n",
              "    <tr>\n",
              "      <th>3</th>\n",
              "      <td>16</td>\n",
              "      <td>11506</td>\n",
              "    </tr>\n",
              "    <tr>\n",
              "      <th>4</th>\n",
              "      <td>11</td>\n",
              "      <td>9680</td>\n",
              "    </tr>\n",
              "    <tr>\n",
              "      <th>...</th>\n",
              "      <td>...</td>\n",
              "      <td>...</td>\n",
              "    </tr>\n",
              "    <tr>\n",
              "      <th>296</th>\n",
              "      <td>6</td>\n",
              "      <td>5699</td>\n",
              "    </tr>\n",
              "    <tr>\n",
              "      <th>297</th>\n",
              "      <td>11</td>\n",
              "      <td>5350</td>\n",
              "    </tr>\n",
              "    <tr>\n",
              "      <th>298</th>\n",
              "      <td>3</td>\n",
              "      <td>3989</td>\n",
              "    </tr>\n",
              "    <tr>\n",
              "      <th>299</th>\n",
              "      <td>5</td>\n",
              "      <td>2356</td>\n",
              "    </tr>\n",
              "    <tr>\n",
              "      <th>300</th>\n",
              "      <td>4</td>\n",
              "      <td>991</td>\n",
              "    </tr>\n",
              "  </tbody>\n",
              "</table>\n",
              "<p>301 rows × 2 columns</p>\n",
              "</div>"
            ],
            "text/plain": [
              "     spotsAmount  Wizyty_all\n",
              "0              4        1070\n",
              "1             13        3086\n",
              "2             16        5989\n",
              "3             16       11506\n",
              "4             11        9680\n",
              "..           ...         ...\n",
              "296            6        5699\n",
              "297           11        5350\n",
              "298            3        3989\n",
              "299            5        2356\n",
              "300            4         991\n",
              "\n",
              "[301 rows x 2 columns]"
            ]
          },
          "metadata": {
            "tags": []
          },
          "execution_count": 84
        }
      ]
    },
    {
      "cell_type": "code",
      "metadata": {
        "id": "VMT2W0r8whbJ",
        "outputId": "b208ab55-8d13-492c-ba11-c9940ac3deb6",
        "colab": {
          "base_uri": "https://localhost:8080/",
          "height": 51
        }
      },
      "source": [
        "print('Pearson\\'s correlation index = ', 100*round(whether['spotsAmount'].corr(whether['Wizyty_all']),3),'%')\n",
        "spearmanr(whether['spotsAmount'], whether['Wizyty_all'])"
      ],
      "execution_count": null,
      "outputs": [
        {
          "output_type": "stream",
          "text": [
            "Pearson's correlation index =  12.5 %\n"
          ],
          "name": "stdout"
        },
        {
          "output_type": "execute_result",
          "data": {
            "text/plain": [
              "SpearmanrResult(correlation=0.18834509636103747, pvalue=0.0010252509840333525)"
            ]
          },
          "metadata": {
            "tags": []
          },
          "execution_count": 85
        }
      ]
    },
    {
      "cell_type": "markdown",
      "metadata": {
        "id": "p3TcbSRL2V1Y"
      },
      "source": [
        "In theory correlation between amount of spots and visits on website is additional, what means if spots amount rises visits on website also rises. Hovewer Pearson's and Spearman's correlation index's are so insignificant that we can't say that there is any linear correlation between both instances."
      ]
    },
    {
      "cell_type": "markdown",
      "metadata": {
        "id": "pr9DWTjtenhL"
      },
      "source": [
        "###For GRP greater than 0"
      ]
    },
    {
      "cell_type": "markdown",
      "metadata": {
        "id": "pbLuBncm37xu"
      },
      "source": [
        "whether is any correlation between viewed spots amount and visits on website? GRP stands for Gross Rating Point. The index presents potential audience of each spot. Since we've got a lot of spots with GRP 0.00 I will leave only those instances with GRP greater than 0.00."
      ]
    },
    {
      "cell_type": "code",
      "metadata": {
        "id": "ltXxIf5l5W3V",
        "outputId": "c19286fc-e249-41a8-c983-57af71d92b19",
        "colab": {
          "base_uri": "https://localhost:8080/",
          "height": 450
        }
      },
      "source": [
        "whether_grp = dataset[['spotsAmount', 'Wizyty_all', 'avg_GRP']]\n",
        "whether_grp = whether_grp[whether_grp['avg_GRP']!=0]\n",
        "whether_grp"
      ],
      "execution_count": null,
      "outputs": [
        {
          "output_type": "execute_result",
          "data": {
            "text/html": [
              "<div>\n",
              "<style scoped>\n",
              "    .dataframe tbody tr th:only-of-type {\n",
              "        vertical-align: middle;\n",
              "    }\n",
              "\n",
              "    .dataframe tbody tr th {\n",
              "        vertical-align: top;\n",
              "    }\n",
              "\n",
              "    .dataframe thead th {\n",
              "        text-align: right;\n",
              "    }\n",
              "</style>\n",
              "<table border=\"1\" class=\"dataframe\">\n",
              "  <thead>\n",
              "    <tr style=\"text-align: right;\">\n",
              "      <th></th>\n",
              "      <th>spotsAmount</th>\n",
              "      <th>Wizyty_all</th>\n",
              "      <th>avg_GRP</th>\n",
              "    </tr>\n",
              "    <tr>\n",
              "      <th>DateTime</th>\n",
              "      <th></th>\n",
              "      <th></th>\n",
              "      <th></th>\n",
              "    </tr>\n",
              "  </thead>\n",
              "  <tbody>\n",
              "    <tr>\n",
              "      <th>2014-11-10 09:00:00</th>\n",
              "      <td>16</td>\n",
              "      <td>11506</td>\n",
              "      <td>0.325756</td>\n",
              "    </tr>\n",
              "    <tr>\n",
              "      <th>2014-11-10 11:00:00</th>\n",
              "      <td>16</td>\n",
              "      <td>8049</td>\n",
              "      <td>0.073194</td>\n",
              "    </tr>\n",
              "    <tr>\n",
              "      <th>2014-11-10 12:00:00</th>\n",
              "      <td>8</td>\n",
              "      <td>7516</td>\n",
              "      <td>0.032165</td>\n",
              "    </tr>\n",
              "    <tr>\n",
              "      <th>2014-11-10 13:00:00</th>\n",
              "      <td>8</td>\n",
              "      <td>7198</td>\n",
              "      <td>0.082028</td>\n",
              "    </tr>\n",
              "    <tr>\n",
              "      <th>2014-11-10 14:00:00</th>\n",
              "      <td>12</td>\n",
              "      <td>7389</td>\n",
              "      <td>0.060103</td>\n",
              "    </tr>\n",
              "    <tr>\n",
              "      <th>...</th>\n",
              "      <td>...</td>\n",
              "      <td>...</td>\n",
              "      <td>...</td>\n",
              "    </tr>\n",
              "    <tr>\n",
              "      <th>2014-11-22 18:00:00</th>\n",
              "      <td>6</td>\n",
              "      <td>5451</td>\n",
              "      <td>0.751368</td>\n",
              "    </tr>\n",
              "    <tr>\n",
              "      <th>2014-11-22 19:00:00</th>\n",
              "      <td>9</td>\n",
              "      <td>5513</td>\n",
              "      <td>0.065635</td>\n",
              "    </tr>\n",
              "    <tr>\n",
              "      <th>2014-11-22 22:00:00</th>\n",
              "      <td>11</td>\n",
              "      <td>5350</td>\n",
              "      <td>0.062157</td>\n",
              "    </tr>\n",
              "    <tr>\n",
              "      <th>2014-11-22 23:00:00</th>\n",
              "      <td>3</td>\n",
              "      <td>3989</td>\n",
              "      <td>2.264192</td>\n",
              "    </tr>\n",
              "    <tr>\n",
              "      <th>2014-11-23 01:00:00</th>\n",
              "      <td>4</td>\n",
              "      <td>991</td>\n",
              "      <td>0.167273</td>\n",
              "    </tr>\n",
              "  </tbody>\n",
              "</table>\n",
              "<p>193 rows × 3 columns</p>\n",
              "</div>"
            ],
            "text/plain": [
              "                     spotsAmount  Wizyty_all   avg_GRP\n",
              "DateTime                                              \n",
              "2014-11-10 09:00:00           16       11506  0.325756\n",
              "2014-11-10 11:00:00           16        8049  0.073194\n",
              "2014-11-10 12:00:00            8        7516  0.032165\n",
              "2014-11-10 13:00:00            8        7198  0.082028\n",
              "2014-11-10 14:00:00           12        7389  0.060103\n",
              "...                          ...         ...       ...\n",
              "2014-11-22 18:00:00            6        5451  0.751368\n",
              "2014-11-22 19:00:00            9        5513  0.065635\n",
              "2014-11-22 22:00:00           11        5350  0.062157\n",
              "2014-11-22 23:00:00            3        3989  2.264192\n",
              "2014-11-23 01:00:00            4         991  0.167273\n",
              "\n",
              "[193 rows x 3 columns]"
            ]
          },
          "metadata": {
            "tags": []
          },
          "execution_count": 86
        }
      ]
    },
    {
      "cell_type": "code",
      "metadata": {
        "id": "XwRGcdL5nk5T",
        "outputId": "95a104e5-6e5e-48bd-9606-d25cf6dd5e62",
        "colab": {
          "base_uri": "https://localhost:8080/",
          "height": 142
        }
      },
      "source": [
        "whether_grp.corr()"
      ],
      "execution_count": null,
      "outputs": [
        {
          "output_type": "execute_result",
          "data": {
            "text/html": [
              "<div>\n",
              "<style scoped>\n",
              "    .dataframe tbody tr th:only-of-type {\n",
              "        vertical-align: middle;\n",
              "    }\n",
              "\n",
              "    .dataframe tbody tr th {\n",
              "        vertical-align: top;\n",
              "    }\n",
              "\n",
              "    .dataframe thead th {\n",
              "        text-align: right;\n",
              "    }\n",
              "</style>\n",
              "<table border=\"1\" class=\"dataframe\">\n",
              "  <thead>\n",
              "    <tr style=\"text-align: right;\">\n",
              "      <th></th>\n",
              "      <th>spotsAmount</th>\n",
              "      <th>Wizyty_all</th>\n",
              "      <th>avg_GRP</th>\n",
              "    </tr>\n",
              "  </thead>\n",
              "  <tbody>\n",
              "    <tr>\n",
              "      <th>spotsAmount</th>\n",
              "      <td>1.000000</td>\n",
              "      <td>-0.051854</td>\n",
              "      <td>-0.143401</td>\n",
              "    </tr>\n",
              "    <tr>\n",
              "      <th>Wizyty_all</th>\n",
              "      <td>-0.051854</td>\n",
              "      <td>1.000000</td>\n",
              "      <td>0.178698</td>\n",
              "    </tr>\n",
              "    <tr>\n",
              "      <th>avg_GRP</th>\n",
              "      <td>-0.143401</td>\n",
              "      <td>0.178698</td>\n",
              "      <td>1.000000</td>\n",
              "    </tr>\n",
              "  </tbody>\n",
              "</table>\n",
              "</div>"
            ],
            "text/plain": [
              "             spotsAmount  Wizyty_all   avg_GRP\n",
              "spotsAmount     1.000000   -0.051854 -0.143401\n",
              "Wizyty_all     -0.051854    1.000000  0.178698\n",
              "avg_GRP        -0.143401    0.178698  1.000000"
            ]
          },
          "metadata": {
            "tags": []
          },
          "execution_count": 87
        }
      ]
    },
    {
      "cell_type": "code",
      "metadata": {
        "id": "XuqVj0_Ew3ii",
        "outputId": "afe89287-ddd0-42c0-c4b5-b39b80b015ce",
        "colab": {
          "base_uri": "https://localhost:8080/",
          "height": 51
        }
      },
      "source": [
        "print('Pearson\\'s correlation index = ', 100*round(whether_grp['spotsAmount'].corr(whether_grp['Wizyty_all']),3),'%')\n",
        "spearmanr(whether['spotsAmount'], whether['Wizyty_all'])"
      ],
      "execution_count": null,
      "outputs": [
        {
          "output_type": "stream",
          "text": [
            "Pearson's correlation index =  -5.2 %\n"
          ],
          "name": "stdout"
        },
        {
          "output_type": "execute_result",
          "data": {
            "text/plain": [
              "SpearmanrResult(correlation=0.18834509636103747, pvalue=0.0010252509840333525)"
            ]
          },
          "metadata": {
            "tags": []
          },
          "execution_count": 88
        }
      ]
    },
    {
      "cell_type": "markdown",
      "metadata": {
        "id": "3gp6OItd6W62"
      },
      "source": [
        "The correlation index's are so small that we can't say that there is any correlation between two variables"
      ]
    },
    {
      "cell_type": "markdown",
      "metadata": {
        "id": "LsJfj3vB-DFn"
      },
      "source": [
        "##Separate dataset for weekdays and for weekends"
      ]
    },
    {
      "cell_type": "code",
      "metadata": {
        "id": "LOvEA0gyahGK",
        "outputId": "28f3ce4e-b9df-4f67-e50f-e68434406cb8",
        "colab": {
          "base_uri": "https://localhost:8080/",
          "height": 450
        }
      },
      "source": [
        "dataset"
      ],
      "execution_count": null,
      "outputs": [
        {
          "output_type": "execute_result",
          "data": {
            "text/html": [
              "<div>\n",
              "<style scoped>\n",
              "    .dataframe tbody tr th:only-of-type {\n",
              "        vertical-align: middle;\n",
              "    }\n",
              "\n",
              "    .dataframe tbody tr th {\n",
              "        vertical-align: top;\n",
              "    }\n",
              "\n",
              "    .dataframe thead th {\n",
              "        text-align: right;\n",
              "    }\n",
              "</style>\n",
              "<table border=\"1\" class=\"dataframe\">\n",
              "  <thead>\n",
              "    <tr style=\"text-align: right;\">\n",
              "      <th></th>\n",
              "      <th>spotsAmount</th>\n",
              "      <th>roundTime</th>\n",
              "      <th>Wizyty_all</th>\n",
              "      <th>avg_GRP</th>\n",
              "    </tr>\n",
              "    <tr>\n",
              "      <th>DateTime</th>\n",
              "      <th></th>\n",
              "      <th></th>\n",
              "      <th></th>\n",
              "      <th></th>\n",
              "    </tr>\n",
              "  </thead>\n",
              "  <tbody>\n",
              "    <tr>\n",
              "      <th>2014-11-10 06:00:00</th>\n",
              "      <td>4</td>\n",
              "      <td>6.0</td>\n",
              "      <td>1070</td>\n",
              "      <td>0.000000</td>\n",
              "    </tr>\n",
              "    <tr>\n",
              "      <th>2014-11-10 07:00:00</th>\n",
              "      <td>13</td>\n",
              "      <td>7.0</td>\n",
              "      <td>3086</td>\n",
              "      <td>0.000000</td>\n",
              "    </tr>\n",
              "    <tr>\n",
              "      <th>2014-11-10 08:00:00</th>\n",
              "      <td>16</td>\n",
              "      <td>8.0</td>\n",
              "      <td>5989</td>\n",
              "      <td>0.000000</td>\n",
              "    </tr>\n",
              "    <tr>\n",
              "      <th>2014-11-10 09:00:00</th>\n",
              "      <td>16</td>\n",
              "      <td>9.0</td>\n",
              "      <td>11506</td>\n",
              "      <td>0.325756</td>\n",
              "    </tr>\n",
              "    <tr>\n",
              "      <th>2014-11-10 10:00:00</th>\n",
              "      <td>11</td>\n",
              "      <td>10.0</td>\n",
              "      <td>9680</td>\n",
              "      <td>0.000000</td>\n",
              "    </tr>\n",
              "    <tr>\n",
              "      <th>...</th>\n",
              "      <td>...</td>\n",
              "      <td>...</td>\n",
              "      <td>...</td>\n",
              "      <td>...</td>\n",
              "    </tr>\n",
              "    <tr>\n",
              "      <th>2014-11-22 21:00:00</th>\n",
              "      <td>6</td>\n",
              "      <td>21.0</td>\n",
              "      <td>5699</td>\n",
              "      <td>0.000000</td>\n",
              "    </tr>\n",
              "    <tr>\n",
              "      <th>2014-11-22 22:00:00</th>\n",
              "      <td>11</td>\n",
              "      <td>22.0</td>\n",
              "      <td>5350</td>\n",
              "      <td>0.062157</td>\n",
              "    </tr>\n",
              "    <tr>\n",
              "      <th>2014-11-22 23:00:00</th>\n",
              "      <td>3</td>\n",
              "      <td>23.0</td>\n",
              "      <td>3989</td>\n",
              "      <td>2.264192</td>\n",
              "    </tr>\n",
              "    <tr>\n",
              "      <th>2014-11-23 00:00:00</th>\n",
              "      <td>5</td>\n",
              "      <td>0.0</td>\n",
              "      <td>2356</td>\n",
              "      <td>0.000000</td>\n",
              "    </tr>\n",
              "    <tr>\n",
              "      <th>2014-11-23 01:00:00</th>\n",
              "      <td>4</td>\n",
              "      <td>1.0</td>\n",
              "      <td>991</td>\n",
              "      <td>0.167273</td>\n",
              "    </tr>\n",
              "  </tbody>\n",
              "</table>\n",
              "<p>301 rows × 4 columns</p>\n",
              "</div>"
            ],
            "text/plain": [
              "                     spotsAmount  roundTime  Wizyty_all   avg_GRP\n",
              "DateTime                                                         \n",
              "2014-11-10 06:00:00            4        6.0        1070  0.000000\n",
              "2014-11-10 07:00:00           13        7.0        3086  0.000000\n",
              "2014-11-10 08:00:00           16        8.0        5989  0.000000\n",
              "2014-11-10 09:00:00           16        9.0       11506  0.325756\n",
              "2014-11-10 10:00:00           11       10.0        9680  0.000000\n",
              "...                          ...        ...         ...       ...\n",
              "2014-11-22 21:00:00            6       21.0        5699  0.000000\n",
              "2014-11-22 22:00:00           11       22.0        5350  0.062157\n",
              "2014-11-22 23:00:00            3       23.0        3989  2.264192\n",
              "2014-11-23 00:00:00            5        0.0        2356  0.000000\n",
              "2014-11-23 01:00:00            4        1.0         991  0.167273\n",
              "\n",
              "[301 rows x 4 columns]"
            ]
          },
          "metadata": {
            "tags": []
          },
          "execution_count": 89
        }
      ]
    },
    {
      "cell_type": "code",
      "metadata": {
        "id": "oCN6x3wdbJRi"
      },
      "source": [
        "weekd_weeknd = dataset"
      ],
      "execution_count": null,
      "outputs": []
    },
    {
      "cell_type": "code",
      "metadata": {
        "id": "UEFwGRfBbQuh"
      },
      "source": [
        "weekd_weeknd['DateTime'] = weekd_weeknd.index"
      ],
      "execution_count": null,
      "outputs": []
    },
    {
      "cell_type": "code",
      "metadata": {
        "id": "BBuLABpAbYU9"
      },
      "source": [
        "weekd_weeknd.reset_index(drop=True,inplace=True)"
      ],
      "execution_count": null,
      "outputs": []
    },
    {
      "cell_type": "code",
      "metadata": {
        "id": "29YfAt83bfx5",
        "outputId": "3221bdbc-8ff0-44ce-adca-5ed5966fcb73",
        "colab": {
          "base_uri": "https://localhost:8080/",
          "height": 419
        }
      },
      "source": [
        "weekd_weeknd"
      ],
      "execution_count": null,
      "outputs": [
        {
          "output_type": "execute_result",
          "data": {
            "text/html": [
              "<div>\n",
              "<style scoped>\n",
              "    .dataframe tbody tr th:only-of-type {\n",
              "        vertical-align: middle;\n",
              "    }\n",
              "\n",
              "    .dataframe tbody tr th {\n",
              "        vertical-align: top;\n",
              "    }\n",
              "\n",
              "    .dataframe thead th {\n",
              "        text-align: right;\n",
              "    }\n",
              "</style>\n",
              "<table border=\"1\" class=\"dataframe\">\n",
              "  <thead>\n",
              "    <tr style=\"text-align: right;\">\n",
              "      <th></th>\n",
              "      <th>spotsAmount</th>\n",
              "      <th>roundTime</th>\n",
              "      <th>Wizyty_all</th>\n",
              "      <th>avg_GRP</th>\n",
              "      <th>DateTime</th>\n",
              "    </tr>\n",
              "  </thead>\n",
              "  <tbody>\n",
              "    <tr>\n",
              "      <th>0</th>\n",
              "      <td>4</td>\n",
              "      <td>6.0</td>\n",
              "      <td>1070</td>\n",
              "      <td>0.000000</td>\n",
              "      <td>2014-11-10 06:00:00</td>\n",
              "    </tr>\n",
              "    <tr>\n",
              "      <th>1</th>\n",
              "      <td>13</td>\n",
              "      <td>7.0</td>\n",
              "      <td>3086</td>\n",
              "      <td>0.000000</td>\n",
              "      <td>2014-11-10 07:00:00</td>\n",
              "    </tr>\n",
              "    <tr>\n",
              "      <th>2</th>\n",
              "      <td>16</td>\n",
              "      <td>8.0</td>\n",
              "      <td>5989</td>\n",
              "      <td>0.000000</td>\n",
              "      <td>2014-11-10 08:00:00</td>\n",
              "    </tr>\n",
              "    <tr>\n",
              "      <th>3</th>\n",
              "      <td>16</td>\n",
              "      <td>9.0</td>\n",
              "      <td>11506</td>\n",
              "      <td>0.325756</td>\n",
              "      <td>2014-11-10 09:00:00</td>\n",
              "    </tr>\n",
              "    <tr>\n",
              "      <th>4</th>\n",
              "      <td>11</td>\n",
              "      <td>10.0</td>\n",
              "      <td>9680</td>\n",
              "      <td>0.000000</td>\n",
              "      <td>2014-11-10 10:00:00</td>\n",
              "    </tr>\n",
              "    <tr>\n",
              "      <th>...</th>\n",
              "      <td>...</td>\n",
              "      <td>...</td>\n",
              "      <td>...</td>\n",
              "      <td>...</td>\n",
              "      <td>...</td>\n",
              "    </tr>\n",
              "    <tr>\n",
              "      <th>296</th>\n",
              "      <td>6</td>\n",
              "      <td>21.0</td>\n",
              "      <td>5699</td>\n",
              "      <td>0.000000</td>\n",
              "      <td>2014-11-22 21:00:00</td>\n",
              "    </tr>\n",
              "    <tr>\n",
              "      <th>297</th>\n",
              "      <td>11</td>\n",
              "      <td>22.0</td>\n",
              "      <td>5350</td>\n",
              "      <td>0.062157</td>\n",
              "      <td>2014-11-22 22:00:00</td>\n",
              "    </tr>\n",
              "    <tr>\n",
              "      <th>298</th>\n",
              "      <td>3</td>\n",
              "      <td>23.0</td>\n",
              "      <td>3989</td>\n",
              "      <td>2.264192</td>\n",
              "      <td>2014-11-22 23:00:00</td>\n",
              "    </tr>\n",
              "    <tr>\n",
              "      <th>299</th>\n",
              "      <td>5</td>\n",
              "      <td>0.0</td>\n",
              "      <td>2356</td>\n",
              "      <td>0.000000</td>\n",
              "      <td>2014-11-23 00:00:00</td>\n",
              "    </tr>\n",
              "    <tr>\n",
              "      <th>300</th>\n",
              "      <td>4</td>\n",
              "      <td>1.0</td>\n",
              "      <td>991</td>\n",
              "      <td>0.167273</td>\n",
              "      <td>2014-11-23 01:00:00</td>\n",
              "    </tr>\n",
              "  </tbody>\n",
              "</table>\n",
              "<p>301 rows × 5 columns</p>\n",
              "</div>"
            ],
            "text/plain": [
              "     spotsAmount  roundTime  Wizyty_all   avg_GRP            DateTime\n",
              "0              4        6.0        1070  0.000000 2014-11-10 06:00:00\n",
              "1             13        7.0        3086  0.000000 2014-11-10 07:00:00\n",
              "2             16        8.0        5989  0.000000 2014-11-10 08:00:00\n",
              "3             16        9.0       11506  0.325756 2014-11-10 09:00:00\n",
              "4             11       10.0        9680  0.000000 2014-11-10 10:00:00\n",
              "..           ...        ...         ...       ...                 ...\n",
              "296            6       21.0        5699  0.000000 2014-11-22 21:00:00\n",
              "297           11       22.0        5350  0.062157 2014-11-22 22:00:00\n",
              "298            3       23.0        3989  2.264192 2014-11-22 23:00:00\n",
              "299            5        0.0        2356  0.000000 2014-11-23 00:00:00\n",
              "300            4        1.0         991  0.167273 2014-11-23 01:00:00\n",
              "\n",
              "[301 rows x 5 columns]"
            ]
          },
          "metadata": {
            "tags": []
          },
          "execution_count": 93
        }
      ]
    },
    {
      "cell_type": "code",
      "metadata": {
        "id": "ZV0rfyyAbky8"
      },
      "source": [
        "weekd_weeknd['isWeekend'] = weekd_weeknd['DateTime'].apply(lambda x: 0 if x.weekday()<5 else 1)"
      ],
      "execution_count": null,
      "outputs": []
    },
    {
      "cell_type": "code",
      "metadata": {
        "id": "7UZojlMycCvL",
        "outputId": "e0a39c7f-4a93-4bc3-fc83-fc49e82a9800",
        "colab": {
          "base_uri": "https://localhost:8080/",
          "height": 419
        }
      },
      "source": [
        "weekd_weeknd"
      ],
      "execution_count": null,
      "outputs": [
        {
          "output_type": "execute_result",
          "data": {
            "text/html": [
              "<div>\n",
              "<style scoped>\n",
              "    .dataframe tbody tr th:only-of-type {\n",
              "        vertical-align: middle;\n",
              "    }\n",
              "\n",
              "    .dataframe tbody tr th {\n",
              "        vertical-align: top;\n",
              "    }\n",
              "\n",
              "    .dataframe thead th {\n",
              "        text-align: right;\n",
              "    }\n",
              "</style>\n",
              "<table border=\"1\" class=\"dataframe\">\n",
              "  <thead>\n",
              "    <tr style=\"text-align: right;\">\n",
              "      <th></th>\n",
              "      <th>spotsAmount</th>\n",
              "      <th>roundTime</th>\n",
              "      <th>Wizyty_all</th>\n",
              "      <th>avg_GRP</th>\n",
              "      <th>DateTime</th>\n",
              "      <th>isWeekend</th>\n",
              "    </tr>\n",
              "  </thead>\n",
              "  <tbody>\n",
              "    <tr>\n",
              "      <th>0</th>\n",
              "      <td>4</td>\n",
              "      <td>6.0</td>\n",
              "      <td>1070</td>\n",
              "      <td>0.000000</td>\n",
              "      <td>2014-11-10 06:00:00</td>\n",
              "      <td>0</td>\n",
              "    </tr>\n",
              "    <tr>\n",
              "      <th>1</th>\n",
              "      <td>13</td>\n",
              "      <td>7.0</td>\n",
              "      <td>3086</td>\n",
              "      <td>0.000000</td>\n",
              "      <td>2014-11-10 07:00:00</td>\n",
              "      <td>0</td>\n",
              "    </tr>\n",
              "    <tr>\n",
              "      <th>2</th>\n",
              "      <td>16</td>\n",
              "      <td>8.0</td>\n",
              "      <td>5989</td>\n",
              "      <td>0.000000</td>\n",
              "      <td>2014-11-10 08:00:00</td>\n",
              "      <td>0</td>\n",
              "    </tr>\n",
              "    <tr>\n",
              "      <th>3</th>\n",
              "      <td>16</td>\n",
              "      <td>9.0</td>\n",
              "      <td>11506</td>\n",
              "      <td>0.325756</td>\n",
              "      <td>2014-11-10 09:00:00</td>\n",
              "      <td>0</td>\n",
              "    </tr>\n",
              "    <tr>\n",
              "      <th>4</th>\n",
              "      <td>11</td>\n",
              "      <td>10.0</td>\n",
              "      <td>9680</td>\n",
              "      <td>0.000000</td>\n",
              "      <td>2014-11-10 10:00:00</td>\n",
              "      <td>0</td>\n",
              "    </tr>\n",
              "    <tr>\n",
              "      <th>...</th>\n",
              "      <td>...</td>\n",
              "      <td>...</td>\n",
              "      <td>...</td>\n",
              "      <td>...</td>\n",
              "      <td>...</td>\n",
              "      <td>...</td>\n",
              "    </tr>\n",
              "    <tr>\n",
              "      <th>296</th>\n",
              "      <td>6</td>\n",
              "      <td>21.0</td>\n",
              "      <td>5699</td>\n",
              "      <td>0.000000</td>\n",
              "      <td>2014-11-22 21:00:00</td>\n",
              "      <td>1</td>\n",
              "    </tr>\n",
              "    <tr>\n",
              "      <th>297</th>\n",
              "      <td>11</td>\n",
              "      <td>22.0</td>\n",
              "      <td>5350</td>\n",
              "      <td>0.062157</td>\n",
              "      <td>2014-11-22 22:00:00</td>\n",
              "      <td>1</td>\n",
              "    </tr>\n",
              "    <tr>\n",
              "      <th>298</th>\n",
              "      <td>3</td>\n",
              "      <td>23.0</td>\n",
              "      <td>3989</td>\n",
              "      <td>2.264192</td>\n",
              "      <td>2014-11-22 23:00:00</td>\n",
              "      <td>1</td>\n",
              "    </tr>\n",
              "    <tr>\n",
              "      <th>299</th>\n",
              "      <td>5</td>\n",
              "      <td>0.0</td>\n",
              "      <td>2356</td>\n",
              "      <td>0.000000</td>\n",
              "      <td>2014-11-23 00:00:00</td>\n",
              "      <td>1</td>\n",
              "    </tr>\n",
              "    <tr>\n",
              "      <th>300</th>\n",
              "      <td>4</td>\n",
              "      <td>1.0</td>\n",
              "      <td>991</td>\n",
              "      <td>0.167273</td>\n",
              "      <td>2014-11-23 01:00:00</td>\n",
              "      <td>1</td>\n",
              "    </tr>\n",
              "  </tbody>\n",
              "</table>\n",
              "<p>301 rows × 6 columns</p>\n",
              "</div>"
            ],
            "text/plain": [
              "     spotsAmount  roundTime  ...            DateTime  isWeekend\n",
              "0              4        6.0  ... 2014-11-10 06:00:00          0\n",
              "1             13        7.0  ... 2014-11-10 07:00:00          0\n",
              "2             16        8.0  ... 2014-11-10 08:00:00          0\n",
              "3             16        9.0  ... 2014-11-10 09:00:00          0\n",
              "4             11       10.0  ... 2014-11-10 10:00:00          0\n",
              "..           ...        ...  ...                 ...        ...\n",
              "296            6       21.0  ... 2014-11-22 21:00:00          1\n",
              "297           11       22.0  ... 2014-11-22 22:00:00          1\n",
              "298            3       23.0  ... 2014-11-22 23:00:00          1\n",
              "299            5        0.0  ... 2014-11-23 00:00:00          1\n",
              "300            4        1.0  ... 2014-11-23 01:00:00          1\n",
              "\n",
              "[301 rows x 6 columns]"
            ]
          },
          "metadata": {
            "tags": []
          },
          "execution_count": 95
        }
      ]
    },
    {
      "cell_type": "code",
      "metadata": {
        "id": "LL_AAqrwfHZi"
      },
      "source": [
        "weekd = weekd_weeknd[weekd_weeknd['isWeekend'] == 0]\n",
        "weeknd = weekd_weeknd[weekd_weeknd['isWeekend'] == 1]"
      ],
      "execution_count": null,
      "outputs": []
    },
    {
      "cell_type": "markdown",
      "metadata": {
        "id": "tN7_2fOBxiVt"
      },
      "source": [
        "###Correlation in weekdays"
      ]
    },
    {
      "cell_type": "code",
      "metadata": {
        "id": "ZhRf1_R4jKii",
        "outputId": "29454097-bb1c-4a8b-8229-13009f5b2e40",
        "colab": {
          "base_uri": "https://localhost:8080/",
          "height": 204
        }
      },
      "source": [
        "weekd.corr()"
      ],
      "execution_count": null,
      "outputs": [
        {
          "output_type": "execute_result",
          "data": {
            "text/html": [
              "<div>\n",
              "<style scoped>\n",
              "    .dataframe tbody tr th:only-of-type {\n",
              "        vertical-align: middle;\n",
              "    }\n",
              "\n",
              "    .dataframe tbody tr th {\n",
              "        vertical-align: top;\n",
              "    }\n",
              "\n",
              "    .dataframe thead th {\n",
              "        text-align: right;\n",
              "    }\n",
              "</style>\n",
              "<table border=\"1\" class=\"dataframe\">\n",
              "  <thead>\n",
              "    <tr style=\"text-align: right;\">\n",
              "      <th></th>\n",
              "      <th>spotsAmount</th>\n",
              "      <th>roundTime</th>\n",
              "      <th>Wizyty_all</th>\n",
              "      <th>avg_GRP</th>\n",
              "      <th>isWeekend</th>\n",
              "    </tr>\n",
              "  </thead>\n",
              "  <tbody>\n",
              "    <tr>\n",
              "      <th>spotsAmount</th>\n",
              "      <td>1.000000</td>\n",
              "      <td>0.179864</td>\n",
              "      <td>0.090511</td>\n",
              "      <td>0.092688</td>\n",
              "      <td>NaN</td>\n",
              "    </tr>\n",
              "    <tr>\n",
              "      <th>roundTime</th>\n",
              "      <td>0.179864</td>\n",
              "      <td>1.000000</td>\n",
              "      <td>0.468910</td>\n",
              "      <td>0.411254</td>\n",
              "      <td>NaN</td>\n",
              "    </tr>\n",
              "    <tr>\n",
              "      <th>Wizyty_all</th>\n",
              "      <td>0.090511</td>\n",
              "      <td>0.468910</td>\n",
              "      <td>1.000000</td>\n",
              "      <td>0.260921</td>\n",
              "      <td>NaN</td>\n",
              "    </tr>\n",
              "    <tr>\n",
              "      <th>avg_GRP</th>\n",
              "      <td>0.092688</td>\n",
              "      <td>0.411254</td>\n",
              "      <td>0.260921</td>\n",
              "      <td>1.000000</td>\n",
              "      <td>NaN</td>\n",
              "    </tr>\n",
              "    <tr>\n",
              "      <th>isWeekend</th>\n",
              "      <td>NaN</td>\n",
              "      <td>NaN</td>\n",
              "      <td>NaN</td>\n",
              "      <td>NaN</td>\n",
              "      <td>NaN</td>\n",
              "    </tr>\n",
              "  </tbody>\n",
              "</table>\n",
              "</div>"
            ],
            "text/plain": [
              "             spotsAmount  roundTime  Wizyty_all   avg_GRP  isWeekend\n",
              "spotsAmount     1.000000   0.179864    0.090511  0.092688        NaN\n",
              "roundTime       0.179864   1.000000    0.468910  0.411254        NaN\n",
              "Wizyty_all      0.090511   0.468910    1.000000  0.260921        NaN\n",
              "avg_GRP         0.092688   0.411254    0.260921  1.000000        NaN\n",
              "isWeekend            NaN        NaN         NaN       NaN        NaN"
            ]
          },
          "metadata": {
            "tags": []
          },
          "execution_count": 97
        }
      ]
    },
    {
      "cell_type": "markdown",
      "metadata": {
        "id": "YRYoMgyYxNle"
      },
      "source": [
        "Insignifficant correlation between spots amount and visits"
      ]
    },
    {
      "cell_type": "markdown",
      "metadata": {
        "id": "wMiyy4V2xrMe"
      },
      "source": [
        "###Correlation in weekends"
      ]
    },
    {
      "cell_type": "code",
      "metadata": {
        "id": "aGVX5CEq0EAB",
        "outputId": "1bddaad8-eddd-4ae2-98a7-3c8039c0dfa8",
        "colab": {
          "base_uri": "https://localhost:8080/",
          "height": 419
        }
      },
      "source": [
        "weeknd"
      ],
      "execution_count": null,
      "outputs": [
        {
          "output_type": "execute_result",
          "data": {
            "text/html": [
              "<div>\n",
              "<style scoped>\n",
              "    .dataframe tbody tr th:only-of-type {\n",
              "        vertical-align: middle;\n",
              "    }\n",
              "\n",
              "    .dataframe tbody tr th {\n",
              "        vertical-align: top;\n",
              "    }\n",
              "\n",
              "    .dataframe thead th {\n",
              "        text-align: right;\n",
              "    }\n",
              "</style>\n",
              "<table border=\"1\" class=\"dataframe\">\n",
              "  <thead>\n",
              "    <tr style=\"text-align: right;\">\n",
              "      <th></th>\n",
              "      <th>spotsAmount</th>\n",
              "      <th>roundTime</th>\n",
              "      <th>Wizyty_all</th>\n",
              "      <th>avg_GRP</th>\n",
              "      <th>DateTime</th>\n",
              "      <th>isWeekend</th>\n",
              "    </tr>\n",
              "  </thead>\n",
              "  <tbody>\n",
              "    <tr>\n",
              "      <th>114</th>\n",
              "      <td>2</td>\n",
              "      <td>0.0</td>\n",
              "      <td>2490</td>\n",
              "      <td>0.000000</td>\n",
              "      <td>2014-11-15 00:00:00</td>\n",
              "      <td>1</td>\n",
              "    </tr>\n",
              "    <tr>\n",
              "      <th>115</th>\n",
              "      <td>6</td>\n",
              "      <td>1.0</td>\n",
              "      <td>883</td>\n",
              "      <td>0.162133</td>\n",
              "      <td>2014-11-15 01:00:00</td>\n",
              "      <td>1</td>\n",
              "    </tr>\n",
              "    <tr>\n",
              "      <th>116</th>\n",
              "      <td>7</td>\n",
              "      <td>2.0</td>\n",
              "      <td>345</td>\n",
              "      <td>0.129395</td>\n",
              "      <td>2014-11-15 02:00:00</td>\n",
              "      <td>1</td>\n",
              "    </tr>\n",
              "    <tr>\n",
              "      <th>117</th>\n",
              "      <td>4</td>\n",
              "      <td>3.0</td>\n",
              "      <td>217</td>\n",
              "      <td>0.000000</td>\n",
              "      <td>2014-11-15 03:00:00</td>\n",
              "      <td>1</td>\n",
              "    </tr>\n",
              "    <tr>\n",
              "      <th>118</th>\n",
              "      <td>4</td>\n",
              "      <td>4.0</td>\n",
              "      <td>216</td>\n",
              "      <td>0.000000</td>\n",
              "      <td>2014-11-15 04:00:00</td>\n",
              "      <td>1</td>\n",
              "    </tr>\n",
              "    <tr>\n",
              "      <th>...</th>\n",
              "      <td>...</td>\n",
              "      <td>...</td>\n",
              "      <td>...</td>\n",
              "      <td>...</td>\n",
              "      <td>...</td>\n",
              "      <td>...</td>\n",
              "    </tr>\n",
              "    <tr>\n",
              "      <th>296</th>\n",
              "      <td>6</td>\n",
              "      <td>21.0</td>\n",
              "      <td>5699</td>\n",
              "      <td>0.000000</td>\n",
              "      <td>2014-11-22 21:00:00</td>\n",
              "      <td>1</td>\n",
              "    </tr>\n",
              "    <tr>\n",
              "      <th>297</th>\n",
              "      <td>11</td>\n",
              "      <td>22.0</td>\n",
              "      <td>5350</td>\n",
              "      <td>0.062157</td>\n",
              "      <td>2014-11-22 22:00:00</td>\n",
              "      <td>1</td>\n",
              "    </tr>\n",
              "    <tr>\n",
              "      <th>298</th>\n",
              "      <td>3</td>\n",
              "      <td>23.0</td>\n",
              "      <td>3989</td>\n",
              "      <td>2.264192</td>\n",
              "      <td>2014-11-22 23:00:00</td>\n",
              "      <td>1</td>\n",
              "    </tr>\n",
              "    <tr>\n",
              "      <th>299</th>\n",
              "      <td>5</td>\n",
              "      <td>0.0</td>\n",
              "      <td>2356</td>\n",
              "      <td>0.000000</td>\n",
              "      <td>2014-11-23 00:00:00</td>\n",
              "      <td>1</td>\n",
              "    </tr>\n",
              "    <tr>\n",
              "      <th>300</th>\n",
              "      <td>4</td>\n",
              "      <td>1.0</td>\n",
              "      <td>991</td>\n",
              "      <td>0.167273</td>\n",
              "      <td>2014-11-23 01:00:00</td>\n",
              "      <td>1</td>\n",
              "    </tr>\n",
              "  </tbody>\n",
              "</table>\n",
              "<p>72 rows × 6 columns</p>\n",
              "</div>"
            ],
            "text/plain": [
              "     spotsAmount  roundTime  ...            DateTime  isWeekend\n",
              "114            2        0.0  ... 2014-11-15 00:00:00          1\n",
              "115            6        1.0  ... 2014-11-15 01:00:00          1\n",
              "116            7        2.0  ... 2014-11-15 02:00:00          1\n",
              "117            4        3.0  ... 2014-11-15 03:00:00          1\n",
              "118            4        4.0  ... 2014-11-15 04:00:00          1\n",
              "..           ...        ...  ...                 ...        ...\n",
              "296            6       21.0  ... 2014-11-22 21:00:00          1\n",
              "297           11       22.0  ... 2014-11-22 22:00:00          1\n",
              "298            3       23.0  ... 2014-11-22 23:00:00          1\n",
              "299            5        0.0  ... 2014-11-23 00:00:00          1\n",
              "300            4        1.0  ... 2014-11-23 01:00:00          1\n",
              "\n",
              "[72 rows x 6 columns]"
            ]
          },
          "metadata": {
            "tags": []
          },
          "execution_count": 98
        }
      ]
    },
    {
      "cell_type": "code",
      "metadata": {
        "id": "201XbFJuiV9z",
        "outputId": "7479f437-9ad3-47b4-aa6c-f5f365716091",
        "colab": {
          "base_uri": "https://localhost:8080/",
          "height": 204
        }
      },
      "source": [
        "weeknd.corr()"
      ],
      "execution_count": null,
      "outputs": [
        {
          "output_type": "execute_result",
          "data": {
            "text/html": [
              "<div>\n",
              "<style scoped>\n",
              "    .dataframe tbody tr th:only-of-type {\n",
              "        vertical-align: middle;\n",
              "    }\n",
              "\n",
              "    .dataframe tbody tr th {\n",
              "        vertical-align: top;\n",
              "    }\n",
              "\n",
              "    .dataframe thead th {\n",
              "        text-align: right;\n",
              "    }\n",
              "</style>\n",
              "<table border=\"1\" class=\"dataframe\">\n",
              "  <thead>\n",
              "    <tr style=\"text-align: right;\">\n",
              "      <th></th>\n",
              "      <th>spotsAmount</th>\n",
              "      <th>roundTime</th>\n",
              "      <th>Wizyty_all</th>\n",
              "      <th>avg_GRP</th>\n",
              "      <th>isWeekend</th>\n",
              "    </tr>\n",
              "  </thead>\n",
              "  <tbody>\n",
              "    <tr>\n",
              "      <th>spotsAmount</th>\n",
              "      <td>1.000000</td>\n",
              "      <td>0.261625</td>\n",
              "      <td>0.327088</td>\n",
              "      <td>0.072807</td>\n",
              "      <td>NaN</td>\n",
              "    </tr>\n",
              "    <tr>\n",
              "      <th>roundTime</th>\n",
              "      <td>0.261625</td>\n",
              "      <td>1.000000</td>\n",
              "      <td>0.814086</td>\n",
              "      <td>0.374228</td>\n",
              "      <td>NaN</td>\n",
              "    </tr>\n",
              "    <tr>\n",
              "      <th>Wizyty_all</th>\n",
              "      <td>0.327088</td>\n",
              "      <td>0.814086</td>\n",
              "      <td>1.000000</td>\n",
              "      <td>0.165414</td>\n",
              "      <td>NaN</td>\n",
              "    </tr>\n",
              "    <tr>\n",
              "      <th>avg_GRP</th>\n",
              "      <td>0.072807</td>\n",
              "      <td>0.374228</td>\n",
              "      <td>0.165414</td>\n",
              "      <td>1.000000</td>\n",
              "      <td>NaN</td>\n",
              "    </tr>\n",
              "    <tr>\n",
              "      <th>isWeekend</th>\n",
              "      <td>NaN</td>\n",
              "      <td>NaN</td>\n",
              "      <td>NaN</td>\n",
              "      <td>NaN</td>\n",
              "      <td>NaN</td>\n",
              "    </tr>\n",
              "  </tbody>\n",
              "</table>\n",
              "</div>"
            ],
            "text/plain": [
              "             spotsAmount  roundTime  Wizyty_all   avg_GRP  isWeekend\n",
              "spotsAmount     1.000000   0.261625    0.327088  0.072807        NaN\n",
              "roundTime       0.261625   1.000000    0.814086  0.374228        NaN\n",
              "Wizyty_all      0.327088   0.814086    1.000000  0.165414        NaN\n",
              "avg_GRP         0.072807   0.374228    0.165414  1.000000        NaN\n",
              "isWeekend            NaN        NaN         NaN       NaN        NaN"
            ]
          },
          "metadata": {
            "tags": []
          },
          "execution_count": 99
        }
      ]
    },
    {
      "cell_type": "markdown",
      "metadata": {
        "id": "HTtBvN47x4jr"
      },
      "source": [
        "Here in weekends we've got low positive correlation between spots amount and visits on website and high positive correlation between visits and time. Let's work on this data just a little bit more"
      ]
    },
    {
      "cell_type": "markdown",
      "metadata": {
        "id": "zRYaBxAfoeiD"
      },
      "source": [
        "####Scatterplot visits and spots"
      ]
    },
    {
      "cell_type": "code",
      "metadata": {
        "id": "cPpvvbtizIYD",
        "outputId": "ee23ebe1-3c40-4523-82ca-3d123c33ad83",
        "colab": {
          "base_uri": "https://localhost:8080/",
          "height": 514
        }
      },
      "source": [
        "fig = plt.figure(figsize = (8,8))\n",
        "\n",
        "plt.xlabel('')\n",
        "plt.ylabel('')\n",
        "\n",
        "sns.scatterplot(data = weeknd, x=weeknd['spotsAmount'], y = weeknd['Wizyty_all'],hue='roundTime')"
      ],
      "execution_count": null,
      "outputs": [
        {
          "output_type": "execute_result",
          "data": {
            "text/plain": [
              "<matplotlib.axes._subplots.AxesSubplot at 0x7ff3037a6278>"
            ]
          },
          "metadata": {
            "tags": []
          },
          "execution_count": 100
        },
        {
          "output_type": "display_data",
          "data": {
            "image/png": "[encoded data removed]",
            "text/plain": [
              "<Figure size 576x576 with 1 Axes>"
            ]
          },
          "metadata": {
            "tags": [],
            "needs_background": "light"
          }
        }
      ]
    },
    {
      "cell_type": "markdown",
      "metadata": {
        "id": "_m0R2A27ooan"
      },
      "source": [
        "####Weekends dataset by hours"
      ]
    },
    {
      "cell_type": "markdown",
      "metadata": {
        "id": "Vc-O_M4JyLi-"
      },
      "source": [
        "I will group by dataset by round time"
      ]
    },
    {
      "cell_type": "code",
      "metadata": {
        "id": "pq4RhcxUyWOQ",
        "outputId": "50c948dc-6556-4b58-b2f1-7dead09cfce6",
        "colab": {
          "base_uri": "https://localhost:8080/",
          "height": 793
        }
      },
      "source": [
        "weeknd_grouped = weeknd[['spotsAmount','Wizyty_all','roundTime']]\n",
        "weeknd_grouped = weeknd_grouped.groupby(by=['roundTime']).sum()\n",
        "weeknd_grouped.reset_index(drop=True,inplace=True)\n",
        "weeknd_grouped"
      ],
      "execution_count": null,
      "outputs": [
        {
          "output_type": "execute_result",
          "data": {
            "text/html": [
              "<div>\n",
              "<style scoped>\n",
              "    .dataframe tbody tr th:only-of-type {\n",
              "        vertical-align: middle;\n",
              "    }\n",
              "\n",
              "    .dataframe tbody tr th {\n",
              "        vertical-align: top;\n",
              "    }\n",
              "\n",
              "    .dataframe thead th {\n",
              "        text-align: right;\n",
              "    }\n",
              "</style>\n",
              "<table border=\"1\" class=\"dataframe\">\n",
              "  <thead>\n",
              "    <tr style=\"text-align: right;\">\n",
              "      <th></th>\n",
              "      <th>spotsAmount</th>\n",
              "      <th>Wizyty_all</th>\n",
              "    </tr>\n",
              "  </thead>\n",
              "  <tbody>\n",
              "    <tr>\n",
              "      <th>0</th>\n",
              "      <td>17</td>\n",
              "      <td>9352</td>\n",
              "    </tr>\n",
              "    <tr>\n",
              "      <th>1</th>\n",
              "      <td>24</td>\n",
              "      <td>3595</td>\n",
              "    </tr>\n",
              "    <tr>\n",
              "      <th>2</th>\n",
              "      <td>15</td>\n",
              "      <td>1064</td>\n",
              "    </tr>\n",
              "    <tr>\n",
              "      <th>3</th>\n",
              "      <td>8</td>\n",
              "      <td>631</td>\n",
              "    </tr>\n",
              "    <tr>\n",
              "      <th>4</th>\n",
              "      <td>11</td>\n",
              "      <td>570</td>\n",
              "    </tr>\n",
              "    <tr>\n",
              "      <th>5</th>\n",
              "      <td>7</td>\n",
              "      <td>550</td>\n",
              "    </tr>\n",
              "    <tr>\n",
              "      <th>6</th>\n",
              "      <td>15</td>\n",
              "      <td>1717</td>\n",
              "    </tr>\n",
              "    <tr>\n",
              "      <th>7</th>\n",
              "      <td>15</td>\n",
              "      <td>2801</td>\n",
              "    </tr>\n",
              "    <tr>\n",
              "      <th>8</th>\n",
              "      <td>29</td>\n",
              "      <td>7920</td>\n",
              "    </tr>\n",
              "    <tr>\n",
              "      <th>9</th>\n",
              "      <td>27</td>\n",
              "      <td>10874</td>\n",
              "    </tr>\n",
              "    <tr>\n",
              "      <th>10</th>\n",
              "      <td>29</td>\n",
              "      <td>12805</td>\n",
              "    </tr>\n",
              "    <tr>\n",
              "      <th>11</th>\n",
              "      <td>24</td>\n",
              "      <td>13979</td>\n",
              "    </tr>\n",
              "    <tr>\n",
              "      <th>12</th>\n",
              "      <td>18</td>\n",
              "      <td>13780</td>\n",
              "    </tr>\n",
              "    <tr>\n",
              "      <th>13</th>\n",
              "      <td>28</td>\n",
              "      <td>14120</td>\n",
              "    </tr>\n",
              "    <tr>\n",
              "      <th>14</th>\n",
              "      <td>25</td>\n",
              "      <td>13405</td>\n",
              "    </tr>\n",
              "    <tr>\n",
              "      <th>15</th>\n",
              "      <td>28</td>\n",
              "      <td>14123</td>\n",
              "    </tr>\n",
              "    <tr>\n",
              "      <th>16</th>\n",
              "      <td>14</td>\n",
              "      <td>16009</td>\n",
              "    </tr>\n",
              "    <tr>\n",
              "      <th>17</th>\n",
              "      <td>24</td>\n",
              "      <td>18022</td>\n",
              "    </tr>\n",
              "    <tr>\n",
              "      <th>18</th>\n",
              "      <td>20</td>\n",
              "      <td>20643</td>\n",
              "    </tr>\n",
              "    <tr>\n",
              "      <th>19</th>\n",
              "      <td>22</td>\n",
              "      <td>26203</td>\n",
              "    </tr>\n",
              "    <tr>\n",
              "      <th>20</th>\n",
              "      <td>23</td>\n",
              "      <td>24581</td>\n",
              "    </tr>\n",
              "    <tr>\n",
              "      <th>21</th>\n",
              "      <td>14</td>\n",
              "      <td>24244</td>\n",
              "    </tr>\n",
              "    <tr>\n",
              "      <th>22</th>\n",
              "      <td>32</td>\n",
              "      <td>21583</td>\n",
              "    </tr>\n",
              "    <tr>\n",
              "      <th>23</th>\n",
              "      <td>15</td>\n",
              "      <td>14444</td>\n",
              "    </tr>\n",
              "  </tbody>\n",
              "</table>\n",
              "</div>"
            ],
            "text/plain": [
              "    spotsAmount  Wizyty_all\n",
              "0            17        9352\n",
              "1            24        3595\n",
              "2            15        1064\n",
              "3             8         631\n",
              "4            11         570\n",
              "5             7         550\n",
              "6            15        1717\n",
              "7            15        2801\n",
              "8            29        7920\n",
              "9            27       10874\n",
              "10           29       12805\n",
              "11           24       13979\n",
              "12           18       13780\n",
              "13           28       14120\n",
              "14           25       13405\n",
              "15           28       14123\n",
              "16           14       16009\n",
              "17           24       18022\n",
              "18           20       20643\n",
              "19           22       26203\n",
              "20           23       24581\n",
              "21           14       24244\n",
              "22           32       21583\n",
              "23           15       14444"
            ]
          },
          "metadata": {
            "tags": []
          },
          "execution_count": 101
        }
      ]
    },
    {
      "cell_type": "markdown",
      "metadata": {
        "id": "dFfIKkkyo5bi"
      },
      "source": [
        "####Correlation"
      ]
    },
    {
      "cell_type": "code",
      "metadata": {
        "id": "al5UsRn705m8",
        "outputId": "eb14a503-3204-4cee-9ef6-8b869d50fa96",
        "colab": {
          "base_uri": "https://localhost:8080/",
          "height": 51
        }
      },
      "source": [
        "print(weeknd_grouped['spotsAmount'].corr(weeknd_grouped['Wizyty_all']))\n",
        "spearmanr(weeknd_grouped['spotsAmount'],weeknd_grouped['Wizyty_all'])"
      ],
      "execution_count": null,
      "outputs": [
        {
          "output_type": "stream",
          "text": [
            "0.4635703535813985\n"
          ],
          "name": "stdout"
        },
        {
          "output_type": "execute_result",
          "data": {
            "text/plain": [
              "SpearmanrResult(correlation=0.3517370914588508, pvalue=0.09188906427209022)"
            ]
          },
          "metadata": {
            "tags": []
          },
          "execution_count": 102
        }
      ]
    },
    {
      "cell_type": "code",
      "metadata": {
        "id": "x2ymucSjS-vB",
        "outputId": "9e71c36e-0504-4932-f1f5-63bf2bf97f0c",
        "colab": {
          "base_uri": "https://localhost:8080/",
          "height": 111
        }
      },
      "source": [
        "weeknd_grouped.corr()"
      ],
      "execution_count": null,
      "outputs": [
        {
          "output_type": "execute_result",
          "data": {
            "text/html": [
              "<div>\n",
              "<style scoped>\n",
              "    .dataframe tbody tr th:only-of-type {\n",
              "        vertical-align: middle;\n",
              "    }\n",
              "\n",
              "    .dataframe tbody tr th {\n",
              "        vertical-align: top;\n",
              "    }\n",
              "\n",
              "    .dataframe thead th {\n",
              "        text-align: right;\n",
              "    }\n",
              "</style>\n",
              "<table border=\"1\" class=\"dataframe\">\n",
              "  <thead>\n",
              "    <tr style=\"text-align: right;\">\n",
              "      <th></th>\n",
              "      <th>spotsAmount</th>\n",
              "      <th>Wizyty_all</th>\n",
              "    </tr>\n",
              "  </thead>\n",
              "  <tbody>\n",
              "    <tr>\n",
              "      <th>spotsAmount</th>\n",
              "      <td>1.00000</td>\n",
              "      <td>0.46357</td>\n",
              "    </tr>\n",
              "    <tr>\n",
              "      <th>Wizyty_all</th>\n",
              "      <td>0.46357</td>\n",
              "      <td>1.00000</td>\n",
              "    </tr>\n",
              "  </tbody>\n",
              "</table>\n",
              "</div>"
            ],
            "text/plain": [
              "             spotsAmount  Wizyty_all\n",
              "spotsAmount      1.00000     0.46357\n",
              "Wizyty_all       0.46357     1.00000"
            ]
          },
          "metadata": {
            "tags": []
          },
          "execution_count": 103
        }
      ]
    },
    {
      "cell_type": "markdown",
      "metadata": {
        "id": "mz7ErOp3o8PO"
      },
      "source": [
        "####Scatterplot in grouped weeknd dataset"
      ]
    },
    {
      "cell_type": "code",
      "metadata": {
        "id": "J9XGa84B1oC1",
        "outputId": "33fcd04c-ec19-417f-d3ea-8e56639edeeb",
        "colab": {
          "base_uri": "https://localhost:8080/",
          "height": 621
        }
      },
      "source": [
        "fig = plt.figure(figsize = (10,10))\n",
        "\n",
        "x = weeknd_grouped['spotsAmount']\n",
        "y = weeknd_grouped['Wizyty_all']\n",
        "\n",
        "\n",
        "m, b = np.polyfit(weeknd_grouped['spotsAmount'], weeknd_grouped['Wizyty_all'], 1)\n",
        "plt.plot(x, m*x + b)\n",
        "\n",
        "sns.scatterplot(data = weeknd_grouped, x='spotsAmount', y = 'Wizyty_all',)\n",
        "plt.xlabel('Spots amount in a single hour')\n",
        "plt.ylabel('Visits on website in a single hour')\n",
        "plt.title('Spots and views relation on weekends')\n",
        "plt.savefig('spots_vs_views_weekends')\n",
        "plt.show()"
      ],
      "execution_count": null,
      "outputs": [
        {
          "output_type": "display_data",
          "data": {
            "image/png": "[encoded data removed]",
            "text/plain": [
              "<Figure size 720x720 with 1 Axes>"
            ]
          },
          "metadata": {
            "tags": [],
            "needs_background": "light"
          }
        }
      ]
    },
    {
      "cell_type": "code",
      "metadata": {
        "id": "LttXZQn95KRr"
      },
      "source": [
        ""
      ],
      "execution_count": null,
      "outputs": []
    },
    {
      "cell_type": "markdown",
      "metadata": {
        "id": "Xyqqid_IBnFc"
      },
      "source": [
        "As you can see, there is a significant tendency to increase the number of visitors as the number of spots on the weekend increases"
      ]
    },
    {
      "cell_type": "markdown",
      "metadata": {
        "id": "YUM8vnm09atY"
      },
      "source": [
        "####Simple Linear model for spots and visits"
      ]
    },
    {
      "cell_type": "code",
      "metadata": {
        "id": "JOI1gGxZel-K"
      },
      "source": [
        "spots_weeknd = pd.DataFrame(weeknd_grouped['spotsAmount'].values)\n",
        "visits_weeknd = pd.DataFrame(weeknd_grouped['Wizyty_all'].values)"
      ],
      "execution_count": null,
      "outputs": []
    },
    {
      "cell_type": "code",
      "metadata": {
        "id": "kxxj4ZEymbwd"
      },
      "source": [
        "spots_weeknd.rename(columns={0:'spotsAmount'}, inplace=True)"
      ],
      "execution_count": null,
      "outputs": []
    },
    {
      "cell_type": "code",
      "metadata": {
        "id": "kwu_cs8GC4V6",
        "outputId": "be6b3af6-0235-44ce-db75-1fab71317879",
        "colab": {
          "base_uri": "https://localhost:8080/",
          "height": 34
        }
      },
      "source": [
        "from sklearn.linear_model import LinearRegression\n",
        "\n",
        "lm = LinearRegression()\n",
        "lm.fit(spots_weeknd,visits_weeknd)"
      ],
      "execution_count": null,
      "outputs": [
        {
          "output_type": "execute_result",
          "data": {
            "text/plain": [
              "LinearRegression(copy_X=True, fit_intercept=True, n_jobs=None, normalize=False)"
            ]
          },
          "metadata": {
            "tags": []
          },
          "execution_count": 107
        }
      ]
    },
    {
      "cell_type": "code",
      "metadata": {
        "id": "0IWm9OYbe0vw",
        "outputId": "699dadb9-7b42-4ea0-c328-8dc69ea38014",
        "colab": {
          "base_uri": "https://localhost:8080/",
          "height": 34
        }
      },
      "source": [
        "lm.coef_"
      ],
      "execution_count": null,
      "outputs": [
        {
          "output_type": "execute_result",
          "data": {
            "text/plain": [
              "array([[538.80520046]])"
            ]
          },
          "metadata": {
            "tags": []
          },
          "execution_count": 108
        }
      ]
    },
    {
      "cell_type": "code",
      "metadata": {
        "id": "myCPzm5bkXwk",
        "outputId": "04e0ba6d-ff5d-41bc-a043-6917759d034a",
        "colab": {
          "base_uri": "https://localhost:8080/",
          "height": 80
        }
      },
      "source": [
        "cdf = pd.DataFrame(lm.coef_,spots_weeknd.columns,columns=['Coeff'])\n",
        "cdf"
      ],
      "execution_count": null,
      "outputs": [
        {
          "output_type": "execute_result",
          "data": {
            "text/html": [
              "<div>\n",
              "<style scoped>\n",
              "    .dataframe tbody tr th:only-of-type {\n",
              "        vertical-align: middle;\n",
              "    }\n",
              "\n",
              "    .dataframe tbody tr th {\n",
              "        vertical-align: top;\n",
              "    }\n",
              "\n",
              "    .dataframe thead th {\n",
              "        text-align: right;\n",
              "    }\n",
              "</style>\n",
              "<table border=\"1\" class=\"dataframe\">\n",
              "  <thead>\n",
              "    <tr style=\"text-align: right;\">\n",
              "      <th></th>\n",
              "      <th>Coeff</th>\n",
              "    </tr>\n",
              "  </thead>\n",
              "  <tbody>\n",
              "    <tr>\n",
              "      <th>spotsAmount</th>\n",
              "      <td>538.8052</td>\n",
              "    </tr>\n",
              "  </tbody>\n",
              "</table>\n",
              "</div>"
            ],
            "text/plain": [
              "                Coeff\n",
              "spotsAmount  538.8052"
            ]
          },
          "metadata": {
            "tags": []
          },
          "execution_count": 109
        }
      ]
    },
    {
      "cell_type": "code",
      "metadata": {
        "id": "LS-aC8w6A6nn",
        "outputId": "4cc47628-d83e-4149-f909-2b50ab31e512",
        "colab": {
          "base_uri": "https://localhost:8080/",
          "height": 793
        }
      },
      "source": [
        "weeknd_grouped"
      ],
      "execution_count": null,
      "outputs": [
        {
          "output_type": "execute_result",
          "data": {
            "text/html": [
              "<div>\n",
              "<style scoped>\n",
              "    .dataframe tbody tr th:only-of-type {\n",
              "        vertical-align: middle;\n",
              "    }\n",
              "\n",
              "    .dataframe tbody tr th {\n",
              "        vertical-align: top;\n",
              "    }\n",
              "\n",
              "    .dataframe thead th {\n",
              "        text-align: right;\n",
              "    }\n",
              "</style>\n",
              "<table border=\"1\" class=\"dataframe\">\n",
              "  <thead>\n",
              "    <tr style=\"text-align: right;\">\n",
              "      <th></th>\n",
              "      <th>spotsAmount</th>\n",
              "      <th>Wizyty_all</th>\n",
              "    </tr>\n",
              "  </thead>\n",
              "  <tbody>\n",
              "    <tr>\n",
              "      <th>0</th>\n",
              "      <td>17</td>\n",
              "      <td>9352</td>\n",
              "    </tr>\n",
              "    <tr>\n",
              "      <th>1</th>\n",
              "      <td>24</td>\n",
              "      <td>3595</td>\n",
              "    </tr>\n",
              "    <tr>\n",
              "      <th>2</th>\n",
              "      <td>15</td>\n",
              "      <td>1064</td>\n",
              "    </tr>\n",
              "    <tr>\n",
              "      <th>3</th>\n",
              "      <td>8</td>\n",
              "      <td>631</td>\n",
              "    </tr>\n",
              "    <tr>\n",
              "      <th>4</th>\n",
              "      <td>11</td>\n",
              "      <td>570</td>\n",
              "    </tr>\n",
              "    <tr>\n",
              "      <th>5</th>\n",
              "      <td>7</td>\n",
              "      <td>550</td>\n",
              "    </tr>\n",
              "    <tr>\n",
              "      <th>6</th>\n",
              "      <td>15</td>\n",
              "      <td>1717</td>\n",
              "    </tr>\n",
              "    <tr>\n",
              "      <th>7</th>\n",
              "      <td>15</td>\n",
              "      <td>2801</td>\n",
              "    </tr>\n",
              "    <tr>\n",
              "      <th>8</th>\n",
              "      <td>29</td>\n",
              "      <td>7920</td>\n",
              "    </tr>\n",
              "    <tr>\n",
              "      <th>9</th>\n",
              "      <td>27</td>\n",
              "      <td>10874</td>\n",
              "    </tr>\n",
              "    <tr>\n",
              "      <th>10</th>\n",
              "      <td>29</td>\n",
              "      <td>12805</td>\n",
              "    </tr>\n",
              "    <tr>\n",
              "      <th>11</th>\n",
              "      <td>24</td>\n",
              "      <td>13979</td>\n",
              "    </tr>\n",
              "    <tr>\n",
              "      <th>12</th>\n",
              "      <td>18</td>\n",
              "      <td>13780</td>\n",
              "    </tr>\n",
              "    <tr>\n",
              "      <th>13</th>\n",
              "      <td>28</td>\n",
              "      <td>14120</td>\n",
              "    </tr>\n",
              "    <tr>\n",
              "      <th>14</th>\n",
              "      <td>25</td>\n",
              "      <td>13405</td>\n",
              "    </tr>\n",
              "    <tr>\n",
              "      <th>15</th>\n",
              "      <td>28</td>\n",
              "      <td>14123</td>\n",
              "    </tr>\n",
              "    <tr>\n",
              "      <th>16</th>\n",
              "      <td>14</td>\n",
              "      <td>16009</td>\n",
              "    </tr>\n",
              "    <tr>\n",
              "      <th>17</th>\n",
              "      <td>24</td>\n",
              "      <td>18022</td>\n",
              "    </tr>\n",
              "    <tr>\n",
              "      <th>18</th>\n",
              "      <td>20</td>\n",
              "      <td>20643</td>\n",
              "    </tr>\n",
              "    <tr>\n",
              "      <th>19</th>\n",
              "      <td>22</td>\n",
              "      <td>26203</td>\n",
              "    </tr>\n",
              "    <tr>\n",
              "      <th>20</th>\n",
              "      <td>23</td>\n",
              "      <td>24581</td>\n",
              "    </tr>\n",
              "    <tr>\n",
              "      <th>21</th>\n",
              "      <td>14</td>\n",
              "      <td>24244</td>\n",
              "    </tr>\n",
              "    <tr>\n",
              "      <th>22</th>\n",
              "      <td>32</td>\n",
              "      <td>21583</td>\n",
              "    </tr>\n",
              "    <tr>\n",
              "      <th>23</th>\n",
              "      <td>15</td>\n",
              "      <td>14444</td>\n",
              "    </tr>\n",
              "  </tbody>\n",
              "</table>\n",
              "</div>"
            ],
            "text/plain": [
              "    spotsAmount  Wizyty_all\n",
              "0            17        9352\n",
              "1            24        3595\n",
              "2            15        1064\n",
              "3             8         631\n",
              "4            11         570\n",
              "5             7         550\n",
              "6            15        1717\n",
              "7            15        2801\n",
              "8            29        7920\n",
              "9            27       10874\n",
              "10           29       12805\n",
              "11           24       13979\n",
              "12           18       13780\n",
              "13           28       14120\n",
              "14           25       13405\n",
              "15           28       14123\n",
              "16           14       16009\n",
              "17           24       18022\n",
              "18           20       20643\n",
              "19           22       26203\n",
              "20           23       24581\n",
              "21           14       24244\n",
              "22           32       21583\n",
              "23           15       14444"
            ]
          },
          "metadata": {
            "tags": []
          },
          "execution_count": 110
        }
      ]
    },
    {
      "cell_type": "markdown",
      "metadata": {
        "id": "lIw9Qo9rm5gL"
      },
      "source": [
        "Increase amount of spots on weends by one unit is associated with increase of views on website by 534 views. Thus in weekends with higher amount of spots we can be ready for higher amount of visits on website."
      ]
    },
    {
      "cell_type": "markdown",
      "metadata": {
        "id": "LGCclL_m9rnf"
      },
      "source": [
        "####Multiple Linear Regression for spots, time and visits"
      ]
    },
    {
      "cell_type": "code",
      "metadata": {
        "id": "_bOQTs6ZtQEB",
        "outputId": "428ec430-554d-4b50-fd57-c836e36450fc",
        "colab": {
          "base_uri": "https://localhost:8080/",
          "height": 204
        }
      },
      "source": [
        "weeknd.corr()"
      ],
      "execution_count": null,
      "outputs": [
        {
          "output_type": "execute_result",
          "data": {
            "text/html": [
              "<div>\n",
              "<style scoped>\n",
              "    .dataframe tbody tr th:only-of-type {\n",
              "        vertical-align: middle;\n",
              "    }\n",
              "\n",
              "    .dataframe tbody tr th {\n",
              "        vertical-align: top;\n",
              "    }\n",
              "\n",
              "    .dataframe thead th {\n",
              "        text-align: right;\n",
              "    }\n",
              "</style>\n",
              "<table border=\"1\" class=\"dataframe\">\n",
              "  <thead>\n",
              "    <tr style=\"text-align: right;\">\n",
              "      <th></th>\n",
              "      <th>spotsAmount</th>\n",
              "      <th>roundTime</th>\n",
              "      <th>Wizyty_all</th>\n",
              "      <th>avg_GRP</th>\n",
              "      <th>isWeekend</th>\n",
              "    </tr>\n",
              "  </thead>\n",
              "  <tbody>\n",
              "    <tr>\n",
              "      <th>spotsAmount</th>\n",
              "      <td>1.000000</td>\n",
              "      <td>0.261625</td>\n",
              "      <td>0.327088</td>\n",
              "      <td>0.072807</td>\n",
              "      <td>NaN</td>\n",
              "    </tr>\n",
              "    <tr>\n",
              "      <th>roundTime</th>\n",
              "      <td>0.261625</td>\n",
              "      <td>1.000000</td>\n",
              "      <td>0.814086</td>\n",
              "      <td>0.374228</td>\n",
              "      <td>NaN</td>\n",
              "    </tr>\n",
              "    <tr>\n",
              "      <th>Wizyty_all</th>\n",
              "      <td>0.327088</td>\n",
              "      <td>0.814086</td>\n",
              "      <td>1.000000</td>\n",
              "      <td>0.165414</td>\n",
              "      <td>NaN</td>\n",
              "    </tr>\n",
              "    <tr>\n",
              "      <th>avg_GRP</th>\n",
              "      <td>0.072807</td>\n",
              "      <td>0.374228</td>\n",
              "      <td>0.165414</td>\n",
              "      <td>1.000000</td>\n",
              "      <td>NaN</td>\n",
              "    </tr>\n",
              "    <tr>\n",
              "      <th>isWeekend</th>\n",
              "      <td>NaN</td>\n",
              "      <td>NaN</td>\n",
              "      <td>NaN</td>\n",
              "      <td>NaN</td>\n",
              "      <td>NaN</td>\n",
              "    </tr>\n",
              "  </tbody>\n",
              "</table>\n",
              "</div>"
            ],
            "text/plain": [
              "             spotsAmount  roundTime  Wizyty_all   avg_GRP  isWeekend\n",
              "spotsAmount     1.000000   0.261625    0.327088  0.072807        NaN\n",
              "roundTime       0.261625   1.000000    0.814086  0.374228        NaN\n",
              "Wizyty_all      0.327088   0.814086    1.000000  0.165414        NaN\n",
              "avg_GRP         0.072807   0.374228    0.165414  1.000000        NaN\n",
              "isWeekend            NaN        NaN         NaN       NaN        NaN"
            ]
          },
          "metadata": {
            "tags": []
          },
          "execution_count": 111
        }
      ]
    },
    {
      "cell_type": "markdown",
      "metadata": {
        "id": "_zIci-gRtPld"
      },
      "source": [
        "We have to be aware also that there is high correlation berween time and visits. "
      ]
    },
    {
      "cell_type": "code",
      "metadata": {
        "id": "XmDsqBB7tfe1"
      },
      "source": [
        "weeknd_rt_vis_spo = weeknd[['roundTime','spotsAmount','Wizyty_all']]"
      ],
      "execution_count": null,
      "outputs": []
    },
    {
      "cell_type": "code",
      "metadata": {
        "id": "sqSIT6Q3t1v7",
        "outputId": "68ff0934-9b8d-4bad-ca60-a8ae698e4202",
        "colab": {
          "base_uri": "https://localhost:8080/",
          "height": 584
        }
      },
      "source": [
        "sns.pairplot(weeknd_rt_vis_spo)"
      ],
      "execution_count": null,
      "outputs": [
        {
          "output_type": "execute_result",
          "data": {
            "text/plain": [
              "<seaborn.axisgrid.PairGrid at 0x7ff2ffc5f828>"
            ]
          },
          "metadata": {
            "tags": []
          },
          "execution_count": 113
        },
        {
          "output_type": "display_data",
          "data": {
            "image/png": "[encoded data removed]",
            "text/plain": [
              "<Figure size 540x540 with 12 Axes>"
            ]
          },
          "metadata": {
            "tags": [],
            "needs_background": "light"
          }
        }
      ]
    },
    {
      "cell_type": "code",
      "metadata": {
        "id": "0JAgoougu6Fr",
        "outputId": "ab9a28e4-24a2-43e4-ec8a-cdfe7897668e",
        "colab": {
          "base_uri": "https://localhost:8080/",
          "height": 34
        }
      },
      "source": [
        "lm2 = LinearRegression()\n",
        "lm2.fit(weeknd_rt_vis_spo[['roundTime','spotsAmount']],weeknd_rt_vis_spo['Wizyty_all'])"
      ],
      "execution_count": null,
      "outputs": [
        {
          "output_type": "execute_result",
          "data": {
            "text/plain": [
              "LinearRegression(copy_X=True, fit_intercept=True, n_jobs=None, normalize=False)"
            ]
          },
          "metadata": {
            "tags": []
          },
          "execution_count": 114
        }
      ]
    },
    {
      "cell_type": "code",
      "metadata": {
        "id": "Xt2Vqsz_vO2V",
        "outputId": "dd059944-7002-4d9e-c92c-b1624f5728cf",
        "colab": {
          "base_uri": "https://localhost:8080/",
          "height": 34
        }
      },
      "source": [
        "lm2.coef_"
      ],
      "execution_count": null,
      "outputs": [
        {
          "output_type": "execute_result",
          "data": {
            "text/plain": [
              "array([322.19859391, 105.99442303])"
            ]
          },
          "metadata": {
            "tags": []
          },
          "execution_count": 115
        }
      ]
    },
    {
      "cell_type": "markdown",
      "metadata": {
        "id": "MiRklDrtv52d"
      },
      "source": [
        "cdf = pd.DataFrame(lm.coef_,spots_weeknd.columns,columns=['Coeff'])\n",
        "cdf\n"
      ]
    },
    {
      "cell_type": "code",
      "metadata": {
        "id": "iUl6yaYDuv-T",
        "outputId": "304f8af1-fe40-467f-f964-928d62c706af",
        "colab": {
          "base_uri": "https://localhost:8080/",
          "height": 111
        }
      },
      "source": [
        "cdf2 = pd.DataFrame(lm2.coef_,weeknd_rt_vis_spo.columns[:2],columns=['Coeff'])\n",
        "cdf2"
      ],
      "execution_count": null,
      "outputs": [
        {
          "output_type": "execute_result",
          "data": {
            "text/html": [
              "<div>\n",
              "<style scoped>\n",
              "    .dataframe tbody tr th:only-of-type {\n",
              "        vertical-align: middle;\n",
              "    }\n",
              "\n",
              "    .dataframe tbody tr th {\n",
              "        vertical-align: top;\n",
              "    }\n",
              "\n",
              "    .dataframe thead th {\n",
              "        text-align: right;\n",
              "    }\n",
              "</style>\n",
              "<table border=\"1\" class=\"dataframe\">\n",
              "  <thead>\n",
              "    <tr style=\"text-align: right;\">\n",
              "      <th></th>\n",
              "      <th>Coeff</th>\n",
              "    </tr>\n",
              "  </thead>\n",
              "  <tbody>\n",
              "    <tr>\n",
              "      <th>roundTime</th>\n",
              "      <td>322.198594</td>\n",
              "    </tr>\n",
              "    <tr>\n",
              "      <th>spotsAmount</th>\n",
              "      <td>105.994423</td>\n",
              "    </tr>\n",
              "  </tbody>\n",
              "</table>\n",
              "</div>"
            ],
            "text/plain": [
              "                  Coeff\n",
              "roundTime    322.198594\n",
              "spotsAmount  105.994423"
            ]
          },
          "metadata": {
            "tags": []
          },
          "execution_count": 116
        }
      ]
    },
    {
      "cell_type": "markdown",
      "metadata": {
        "id": "ZUhuGyTVzNwR"
      },
      "source": [
        "*   Increase of time by one hour on weekends Ceteris Paribus is associated with increase of visits amount by 322\n",
        "*   Increase of spots amount by one on weekends Ceteris Paribus is associated with increase of visits amount by 106\n"
      ]
    },
    {
      "cell_type": "markdown",
      "metadata": {
        "id": "zlKS5I1591yD"
      },
      "source": [
        "#####Exemplary linear regression plot"
      ]
    },
    {
      "cell_type": "markdown",
      "metadata": {
        "id": "_BNMt2uu3kwr"
      },
      "source": [
        "Let's present this model in more suitable form"
      ]
    },
    {
      "cell_type": "code",
      "metadata": {
        "id": "mKos37xX3crg",
        "outputId": "0f97086b-10ba-4b99-eb68-098f896c9cbd",
        "colab": {
          "base_uri": "https://localhost:8080/",
          "height": 34
        }
      },
      "source": [
        "dataset['spotsAmount'].max()"
      ],
      "execution_count": null,
      "outputs": [
        {
          "output_type": "execute_result",
          "data": {
            "text/plain": [
              "18"
            ]
          },
          "metadata": {
            "tags": []
          },
          "execution_count": 117
        }
      ]
    },
    {
      "cell_type": "markdown",
      "metadata": {
        "id": "bERlvxIW3l6E"
      },
      "source": [
        "We had maximum of 18 spots displayed and minimum of 1 spots in a single hour. Let's create prediciton plot"
      ]
    },
    {
      "cell_type": "code",
      "metadata": {
        "id": "ViZGL49r36qT"
      },
      "source": [
        "h = []\n",
        "s = []\n",
        "for i in range(1,25):\n",
        "  h.append(i)\n",
        "  s.append(i)"
      ],
      "execution_count": null,
      "outputs": []
    },
    {
      "cell_type": "code",
      "metadata": {
        "id": "UzdCFTV74nog"
      },
      "source": [
        "d = {'time':h,'spots':s}\n",
        "exmpl = pd.DataFrame(data = {'time':h,'spots':s})"
      ],
      "execution_count": null,
      "outputs": []
    },
    {
      "cell_type": "code",
      "metadata": {
        "id": "B5ugoGNu4XY9"
      },
      "source": [
        "predictions = lm2.predict(exmpl)"
      ],
      "execution_count": null,
      "outputs": []
    },
    {
      "cell_type": "code",
      "metadata": {
        "id": "H3aRpOo85xEt"
      },
      "source": [
        "exmpl['predicted_views'] = predictions"
      ],
      "execution_count": null,
      "outputs": []
    },
    {
      "cell_type": "code",
      "metadata": {
        "id": "pg0x3Mzc5_gf",
        "outputId": "a4ea7dc4-a7ba-4a8b-ba0b-fd363692279b",
        "colab": {
          "base_uri": "https://localhost:8080/",
          "height": 621
        }
      },
      "source": [
        "fig = plt.figure(figsize=(10,10))\n",
        "plt.title('Views depending on spots amount and time on weekends')\n",
        "plt.xlabel('Time')\n",
        "plt.ylabel('Spots')\n",
        "sns.scatterplot(x = exmpl['time'],y=exmpl['spots'],hue=exmpl['predicted_views'])\n",
        "plt.savefig('views_spots_time.png')"
      ],
      "execution_count": null,
      "outputs": [
        {
          "output_type": "display_data",
          "data": {
            "image/png": "[encoded data removed]",
            "text/plain": [
              "<Figure size 720x720 with 1 Axes>"
            ]
          },
          "metadata": {
            "tags": [],
            "needs_background": "light"
          }
        }
      ]
    },
    {
      "cell_type": "markdown",
      "metadata": {
        "id": "ByhjVlol7qL8"
      },
      "source": [
        "Therefore if we want to optimize our spots distribution we should focus on displaying most views as late as it is possible on weekends. "
      ]
    },
    {
      "cell_type": "code",
      "metadata": {
        "id": "D0K4-TMD70GW"
      },
      "source": [
        "d = {'time':23,'spots_no':20}\n",
        "arr = pd.DataFrame(np.array([[23,20]]), columns = ['time','spots_on'])\n",
        "prediction = lm2.predict(arr)"
      ],
      "execution_count": null,
      "outputs": []
    },
    {
      "cell_type": "code",
      "metadata": {
        "id": "TZ4132e88CtH",
        "outputId": "a5a91b6a-f776-475a-9f4d-f30bd877a3ea",
        "colab": {
          "base_uri": "https://localhost:8080/",
          "height": 34
        }
      },
      "source": [
        "print(prediction)"
      ],
      "execution_count": null,
      "outputs": [
        {
          "output_type": "stream",
          "text": [
            "[9148.19845427]\n"
          ],
          "name": "stdout"
        }
      ]
    },
    {
      "cell_type": "markdown",
      "metadata": {
        "id": "pH3WICAm8G9q"
      },
      "source": [
        "As we can see at 23 p.m. on Saturday or Sunday with 20 spots displayed at that time our views amount should increase by 9148 views according to ours model"
      ]
    },
    {
      "cell_type": "code",
      "metadata": {
        "id": "TsIirYl0B-Ft"
      },
      "source": [
        "max = dataset['Wizyty_all'].max()"
      ],
      "execution_count": null,
      "outputs": []
    },
    {
      "cell_type": "markdown",
      "metadata": {
        "id": "Cxfh-pw25Gfb"
      },
      "source": [
        ""
      ]
    },
    {
      "cell_type": "markdown",
      "metadata": {
        "id": "0hFa0C0t5Fn-"
      },
      "source": [
        "###Correlation table for all variables on weekend (dummied)"
      ]
    },
    {
      "cell_type": "code",
      "metadata": {
        "id": "KvebCgr75Hjw",
        "outputId": "44493115-b51c-45f8-ec7d-94c6d90325f1",
        "colab": {
          "base_uri": "https://localhost:8080/",
          "height": 779
        }
      },
      "source": [
        "data"
      ],
      "execution_count": null,
      "outputs": [
        {
          "output_type": "execute_result",
          "data": {
            "text/html": [
              "<div>\n",
              "<style scoped>\n",
              "    .dataframe tbody tr th:only-of-type {\n",
              "        vertical-align: middle;\n",
              "    }\n",
              "\n",
              "    .dataframe tbody tr th {\n",
              "        vertical-align: top;\n",
              "    }\n",
              "\n",
              "    .dataframe thead th {\n",
              "        text-align: right;\n",
              "    }\n",
              "</style>\n",
              "<table border=\"1\" class=\"dataframe\">\n",
              "  <thead>\n",
              "    <tr style=\"text-align: right;\">\n",
              "      <th></th>\n",
              "      <th>Data</th>\n",
              "      <th>godzina</th>\n",
              "      <th>Wizyty_all</th>\n",
              "      <th>date_datetime</th>\n",
              "      <th>Campaign Channel</th>\n",
              "      <th>AGB Channel</th>\n",
              "      <th>Date</th>\n",
              "      <th>Time</th>\n",
              "      <th>Timeband</th>\n",
              "      <th>BreakType (Block type)</th>\n",
              "      <th>Title</th>\n",
              "      <th>Position Type in the block of commercials</th>\n",
              "      <th>Commercial length</th>\n",
              "      <th>GRP</th>\n",
              "      <th>actualHour</th>\n",
              "      <th>dayOfMonth</th>\n",
              "      <th>roundTime</th>\n",
              "      <th>dateReassigned_datetime</th>\n",
              "    </tr>\n",
              "  </thead>\n",
              "  <tbody>\n",
              "    <tr>\n",
              "      <th>0</th>\n",
              "      <td>2014-11-10</td>\n",
              "      <td>6</td>\n",
              "      <td>1070</td>\n",
              "      <td>2014-11-10 06:00:00</td>\n",
              "      <td>TVN Pakiet Tematyczny</td>\n",
              "      <td>FoxLife</td>\n",
              "      <td>2014-11-10</td>\n",
              "      <td>06:10:25</td>\n",
              "      <td>Day</td>\n",
              "      <td>Between</td>\n",
              "      <td>ZONA DLA MILIONERA /PROG.ROZR.USA/</td>\n",
              "      <td>Middle</td>\n",
              "      <td>30.0</td>\n",
              "      <td>0.000000</td>\n",
              "      <td>6.0</td>\n",
              "      <td>10.0</td>\n",
              "      <td>6.0</td>\n",
              "      <td>2014-11-10 06:00:00</td>\n",
              "    </tr>\n",
              "    <tr>\n",
              "      <th>1</th>\n",
              "      <td>2014-11-10</td>\n",
              "      <td>6</td>\n",
              "      <td>1070</td>\n",
              "      <td>2014-11-10 06:00:00</td>\n",
              "      <td>TVP Pakiet Tematyczny</td>\n",
              "      <td>TVP Seriale</td>\n",
              "      <td>2014-11-10</td>\n",
              "      <td>06:11:50</td>\n",
              "      <td>Day</td>\n",
              "      <td>After</td>\n",
              "      <td>LOKATORZY /SER.KOM.POL./</td>\n",
              "      <td>Middle</td>\n",
              "      <td>30.0</td>\n",
              "      <td>0.000000</td>\n",
              "      <td>6.0</td>\n",
              "      <td>10.0</td>\n",
              "      <td>6.0</td>\n",
              "      <td>2014-11-10 06:00:00</td>\n",
              "    </tr>\n",
              "    <tr>\n",
              "      <th>2</th>\n",
              "      <td>2014-11-10</td>\n",
              "      <td>6</td>\n",
              "      <td>1070</td>\n",
              "      <td>2014-11-10 06:00:00</td>\n",
              "      <td>TVN Pakiet Tematyczny</td>\n",
              "      <td>Mjuzik.tv</td>\n",
              "      <td>2014-11-10</td>\n",
              "      <td>06:12:59</td>\n",
              "      <td>Day</td>\n",
              "      <td>Between</td>\n",
              "      <td>TELEDYSKI</td>\n",
              "      <td>Middle</td>\n",
              "      <td>30.0</td>\n",
              "      <td>0.000000</td>\n",
              "      <td>6.0</td>\n",
              "      <td>10.0</td>\n",
              "      <td>6.0</td>\n",
              "      <td>2014-11-10 06:00:00</td>\n",
              "    </tr>\n",
              "    <tr>\n",
              "      <th>3</th>\n",
              "      <td>2014-11-10</td>\n",
              "      <td>6</td>\n",
              "      <td>1070</td>\n",
              "      <td>2014-11-10 06:00:00</td>\n",
              "      <td>TVN Pakiet Tematyczny</td>\n",
              "      <td>MTV Polska</td>\n",
              "      <td>2014-11-10</td>\n",
              "      <td>06:19:06</td>\n",
              "      <td>Day</td>\n",
              "      <td>Between</td>\n",
              "      <td>PIMP MY RIDE</td>\n",
              "      <td>Middle</td>\n",
              "      <td>30.0</td>\n",
              "      <td>0.000000</td>\n",
              "      <td>6.0</td>\n",
              "      <td>10.0</td>\n",
              "      <td>6.0</td>\n",
              "      <td>2014-11-10 06:00:00</td>\n",
              "    </tr>\n",
              "    <tr>\n",
              "      <th>4</th>\n",
              "      <td>2014-11-10</td>\n",
              "      <td>7</td>\n",
              "      <td>3086</td>\n",
              "      <td>2014-11-10 07:00:00</td>\n",
              "      <td>TVN Pakiet Tematyczny</td>\n",
              "      <td>Comedy Central Family</td>\n",
              "      <td>2014-11-10</td>\n",
              "      <td>06:42:34</td>\n",
              "      <td>Day</td>\n",
              "      <td>Between</td>\n",
              "      <td>DALEKO JESZCZE? /SER.KOM.USA/</td>\n",
              "      <td>Middle</td>\n",
              "      <td>30.0</td>\n",
              "      <td>0.000000</td>\n",
              "      <td>6.0</td>\n",
              "      <td>10.0</td>\n",
              "      <td>7.0</td>\n",
              "      <td>2014-11-10 07:00:00</td>\n",
              "    </tr>\n",
              "    <tr>\n",
              "      <th>...</th>\n",
              "      <td>...</td>\n",
              "      <td>...</td>\n",
              "      <td>...</td>\n",
              "      <td>...</td>\n",
              "      <td>...</td>\n",
              "      <td>...</td>\n",
              "      <td>...</td>\n",
              "      <td>...</td>\n",
              "      <td>...</td>\n",
              "      <td>...</td>\n",
              "      <td>...</td>\n",
              "      <td>...</td>\n",
              "      <td>...</td>\n",
              "      <td>...</td>\n",
              "      <td>...</td>\n",
              "      <td>...</td>\n",
              "      <td>...</td>\n",
              "      <td>...</td>\n",
              "    </tr>\n",
              "    <tr>\n",
              "      <th>2065</th>\n",
              "      <td>2014-11-23</td>\n",
              "      <td>0</td>\n",
              "      <td>2356</td>\n",
              "      <td>2014-11-23 00:00:00</td>\n",
              "      <td>TVN Pakiet Tematyczny</td>\n",
              "      <td>FoxLife</td>\n",
              "      <td>2014-11-23</td>\n",
              "      <td>23:47:53</td>\n",
              "      <td>Night</td>\n",
              "      <td>Before</td>\n",
              "      <td>POKOJOWKI Z BEVERLY HILLS /SER.OBYCZ.USA/</td>\n",
              "      <td>Middle</td>\n",
              "      <td>30.0</td>\n",
              "      <td>0.000000</td>\n",
              "      <td>23.0</td>\n",
              "      <td>23.0</td>\n",
              "      <td>0.0</td>\n",
              "      <td>2014-11-23 00:00:00</td>\n",
              "    </tr>\n",
              "    <tr>\n",
              "      <th>2066</th>\n",
              "      <td>2014-11-23</td>\n",
              "      <td>1</td>\n",
              "      <td>991</td>\n",
              "      <td>2014-11-23 01:00:00</td>\n",
              "      <td>Polsat Pakiet Tematyczny</td>\n",
              "      <td>Kino Polska</td>\n",
              "      <td>2014-11-22</td>\n",
              "      <td>00:31:57</td>\n",
              "      <td>Night</td>\n",
              "      <td>Between</td>\n",
              "      <td>07 ZGLOS SIE /SER.KRYM.POL./</td>\n",
              "      <td>Middle</td>\n",
              "      <td>30.0</td>\n",
              "      <td>0.000000</td>\n",
              "      <td>0.0</td>\n",
              "      <td>23.0</td>\n",
              "      <td>1.0</td>\n",
              "      <td>2014-11-23 01:00:00</td>\n",
              "    </tr>\n",
              "    <tr>\n",
              "      <th>2067</th>\n",
              "      <td>2014-11-23</td>\n",
              "      <td>1</td>\n",
              "      <td>991</td>\n",
              "      <td>2014-11-23 01:00:00</td>\n",
              "      <td>TVN Pakiet Tematyczny</td>\n",
              "      <td>TVN Style</td>\n",
              "      <td>2014-11-22</td>\n",
              "      <td>01:19:40</td>\n",
              "      <td>Night</td>\n",
              "      <td>Between</td>\n",
              "      <td>SEKS NA MILION SPOSOBOW /SER.DOK.FRA./</td>\n",
              "      <td>Middle</td>\n",
              "      <td>30.0</td>\n",
              "      <td>0.478713</td>\n",
              "      <td>1.0</td>\n",
              "      <td>23.0</td>\n",
              "      <td>1.0</td>\n",
              "      <td>2014-11-23 01:00:00</td>\n",
              "    </tr>\n",
              "    <tr>\n",
              "      <th>2068</th>\n",
              "      <td>2014-11-23</td>\n",
              "      <td>1</td>\n",
              "      <td>991</td>\n",
              "      <td>2014-11-23 01:00:00</td>\n",
              "      <td>TVN Pakiet Tematyczny</td>\n",
              "      <td>Domo</td>\n",
              "      <td>2014-11-22</td>\n",
              "      <td>01:24:35</td>\n",
              "      <td>Night</td>\n",
              "      <td>After</td>\n",
              "      <td>POUZYWAJMY SOBIE HISTORIA POLSKIEGO WZORNICTWA...</td>\n",
              "      <td>Middle</td>\n",
              "      <td>30.0</td>\n",
              "      <td>0.000000</td>\n",
              "      <td>1.0</td>\n",
              "      <td>23.0</td>\n",
              "      <td>1.0</td>\n",
              "      <td>2014-11-23 01:00:00</td>\n",
              "    </tr>\n",
              "    <tr>\n",
              "      <th>2069</th>\n",
              "      <td>2014-11-23</td>\n",
              "      <td>1</td>\n",
              "      <td>991</td>\n",
              "      <td>2014-11-23 01:00:00</td>\n",
              "      <td>TVN Pakiet Tematyczny</td>\n",
              "      <td>AXN</td>\n",
              "      <td>2014-11-22</td>\n",
              "      <td>01:29:18</td>\n",
              "      <td>Night</td>\n",
              "      <td>Between</td>\n",
              "      <td>PROFIL /SER.SENS.FRAN./</td>\n",
              "      <td>Middle</td>\n",
              "      <td>30.0</td>\n",
              "      <td>0.190379</td>\n",
              "      <td>1.0</td>\n",
              "      <td>23.0</td>\n",
              "      <td>1.0</td>\n",
              "      <td>2014-11-23 01:00:00</td>\n",
              "    </tr>\n",
              "  </tbody>\n",
              "</table>\n",
              "<p>2070 rows × 18 columns</p>\n",
              "</div>"
            ],
            "text/plain": [
              "           Data  godzina  ...  roundTime dateReassigned_datetime\n",
              "0    2014-11-10        6  ...        6.0     2014-11-10 06:00:00\n",
              "1    2014-11-10        6  ...        6.0     2014-11-10 06:00:00\n",
              "2    2014-11-10        6  ...        6.0     2014-11-10 06:00:00\n",
              "3    2014-11-10        6  ...        6.0     2014-11-10 06:00:00\n",
              "4    2014-11-10        7  ...        7.0     2014-11-10 07:00:00\n",
              "...         ...      ...  ...        ...                     ...\n",
              "2065 2014-11-23        0  ...        0.0     2014-11-23 00:00:00\n",
              "2066 2014-11-23        1  ...        1.0     2014-11-23 01:00:00\n",
              "2067 2014-11-23        1  ...        1.0     2014-11-23 01:00:00\n",
              "2068 2014-11-23        1  ...        1.0     2014-11-23 01:00:00\n",
              "2069 2014-11-23        1  ...        1.0     2014-11-23 01:00:00\n",
              "\n",
              "[2070 rows x 18 columns]"
            ]
          },
          "metadata": {
            "tags": []
          },
          "execution_count": 126
        }
      ]
    },
    {
      "cell_type": "code",
      "metadata": {
        "id": "feFX9SQk6HKk",
        "outputId": "b412dc38-59b0-4985-beda-cfcaa1635c5b",
        "colab": {
          "base_uri": "https://localhost:8080/",
          "height": 694
        }
      },
      "source": [
        "data_dummies = pd.get_dummies(data)\n",
        "data_dummies"
      ],
      "execution_count": null,
      "outputs": [
        {
          "output_type": "execute_result",
          "data": {
            "text/html": [
              "<div>\n",
              "<style scoped>\n",
              "    .dataframe tbody tr th:only-of-type {\n",
              "        vertical-align: middle;\n",
              "    }\n",
              "\n",
              "    .dataframe tbody tr th {\n",
              "        vertical-align: top;\n",
              "    }\n",
              "\n",
              "    .dataframe thead th {\n",
              "        text-align: right;\n",
              "    }\n",
              "</style>\n",
              "<table border=\"1\" class=\"dataframe\">\n",
              "  <thead>\n",
              "    <tr style=\"text-align: right;\">\n",
              "      <th></th>\n",
              "      <th>Data</th>\n",
              "      <th>godzina</th>\n",
              "      <th>Wizyty_all</th>\n",
              "      <th>date_datetime</th>\n",
              "      <th>Commercial length</th>\n",
              "      <th>GRP</th>\n",
              "      <th>actualHour</th>\n",
              "      <th>dayOfMonth</th>\n",
              "      <th>roundTime</th>\n",
              "      <th>dateReassigned_datetime</th>\n",
              "      <th>Campaign Channel_Polsat</th>\n",
              "      <th>Campaign Channel_Polsat Pakiet Tematyczny</th>\n",
              "      <th>Campaign Channel_TVN</th>\n",
              "      <th>Campaign Channel_TVN Pakiet Tematyczny</th>\n",
              "      <th>Campaign Channel_TVP Pakiet Tematyczny</th>\n",
              "      <th>Campaign Channel_TVP1</th>\n",
              "      <th>Campaign Channel_TVP2</th>\n",
              "      <th>AGB Channel_13th Street Universal</th>\n",
              "      <th>AGB Channel_ATM Rozrywka</th>\n",
              "      <th>AGB Channel_AXN</th>\n",
              "      <th>AGB Channel_AXN White</th>\n",
              "      <th>AGB Channel_Ale Kino</th>\n",
              "      <th>AGB Channel_Animal HD</th>\n",
              "      <th>AGB Channel_Animal Planet</th>\n",
              "      <th>AGB Channel_BBC Knowledge</th>\n",
              "      <th>AGB Channel_CBS Drama</th>\n",
              "      <th>AGB Channel_CBS Europa</th>\n",
              "      <th>AGB Channel_CBS Reality</th>\n",
              "      <th>AGB Channel_Comedy Central Family</th>\n",
              "      <th>AGB Channel_Disco Polo Music</th>\n",
              "      <th>AGB Channel_Domo</th>\n",
              "      <th>AGB Channel_E!Entertainment</th>\n",
              "      <th>AGB Channel_Extreme Sports</th>\n",
              "      <th>AGB Channel_FoxLife</th>\n",
              "      <th>AGB Channel_History</th>\n",
              "      <th>AGB Channel_Investigation Discovery</th>\n",
              "      <th>AGB Channel_Kino Polska</th>\n",
              "      <th>AGB Channel_Kino Polska Muzyka</th>\n",
              "      <th>AGB Channel_MTV Polska</th>\n",
              "      <th>AGB Channel_Mjuzik.tv</th>\n",
              "      <th>...</th>\n",
              "      <th>Title_ZAKLINACZ PSOW /DOK.W.BRYT./</th>\n",
              "      <th>Title_ZAKLINACZ WEZY /FILM DOK.AUSTRALIA/</th>\n",
              "      <th>Title_ZAKLINACZE KONI /SER.DRA.KAN./</th>\n",
              "      <th>Title_ZAKOCHANA ZLOSNICA /FILM KOM.USA/</th>\n",
              "      <th>Title_ZAKOCHANY ANIOL /FILM KOM.POL./</th>\n",
              "      <th>Title_ZALOGA G /FILM FAM.USA/</th>\n",
              "      <th>Title_ZAPISKI LAZEGI /REP.POL./</th>\n",
              "      <th>Title_ZAPOMNIANA MELODIA /FILM ARCH.POL./</th>\n",
              "      <th>Title_ZAPOMNIANE POWSTANIE /FILM DOK.POL./</th>\n",
              "      <th>Title_ZAPOMNIANY GENERAL TADEUSZ JORDAN ROZWADOWSKI /FILM DOK.POL./</th>\n",
              "      <th>Title_ZATOPIENI /FILM SENS.BULG.-W.BRYT/</th>\n",
              "      <th>Title_ZBRODNIE KTORE WSTRZASNELY AMERYKA /SER.DOK.USA/</th>\n",
              "      <th>Title_ZBRODNIE PALM GLADE /SER.SENS.USA/</th>\n",
              "      <th>Title_ZDOBYWCY KRABY KAMCZACKIE /SER.DOK.FR./</th>\n",
              "      <th>Title_ZE SMIERCIA JEJ DO TWARZY /FILM FAB.USA/</th>\n",
              "      <th>Title_ZE WSCHODU NA ZACHOD /FILM DOK.WIELK.BRYT./</th>\n",
              "      <th>Title_ZEMSTA /SER.OBYCZ.USA/</th>\n",
              "      <th>Title_ZIARNO /PROG.RELIG.DLA DZIECI/</th>\n",
              "      <th>Title_ZJAWISKA PARANORMALNE /SER.DOK.USA/</th>\n",
              "      <th>Title_ZLO W GENACH /SER.DOK.USA/</th>\n",
              "      <th>Title_ZLO W MOIM DOMU /SER.DOK.USA/</th>\n",
              "      <th>Title_ZLOTE PRZEBOJE /TELEDYSKI/</th>\n",
              "      <th>Title_ZLOTO DEZERTEROW /FILM KOM.POL./</th>\n",
              "      <th>Title_ZOLNIERSKA NUTA... /FILM DOK.POL./</th>\n",
              "      <th>Title_ZONA DLA MILIONERA /PROG.ROZR.USA/</th>\n",
              "      <th>Title_ZOO /SER.DOK.N.ZEL./</th>\n",
              "      <th>Title_ZROBMY SOBIE DOM /REALITY SHOW/</th>\n",
              "      <th>Title_ZROSNIETE BLIZNIAKI /FILM DOK.WIEL.BRYT./</th>\n",
              "      <th>Title_ZUS DLA CIEBIE /PROG.INFOR./</th>\n",
              "      <th>Title_ZWIAZKI INNE NIZ WSZYSTKIE /PROG.DOK.USA/</th>\n",
              "      <th>Title_ZWIERZECE LOVE STORY /SER.DOK W.BRYT./</th>\n",
              "      <th>Title_ZWIERZECY ARMAGEDDON /MINISER.DOK.USA/</th>\n",
              "      <th>Title_ZYCIE /SER.DOK.W.BRYT/</th>\n",
              "      <th>Title_ZYCIE BEZ WSTYDU /REALITY SHOW POL./</th>\n",
              "      <th>Title_ZYCIE MOJE SKRETAMI BIEZY /FILM DOK.POL./</th>\n",
              "      <th>Title_ZYCIE PISANE PODROZA /FILM DOK.POL./</th>\n",
              "      <th>Title_ZYCIE ZA ZYCIE /FILM DRAM.NIEM.USA/</th>\n",
              "      <th>Position Type in the block of commercials_First / Last</th>\n",
              "      <th>Position Type in the block of commercials_Middle</th>\n",
              "      <th>Position Type in the block of commercials_Second / Penultimate</th>\n",
              "    </tr>\n",
              "  </thead>\n",
              "  <tbody>\n",
              "    <tr>\n",
              "      <th>0</th>\n",
              "      <td>2014-11-10</td>\n",
              "      <td>6</td>\n",
              "      <td>1070</td>\n",
              "      <td>2014-11-10 06:00:00</td>\n",
              "      <td>30.0</td>\n",
              "      <td>0.000000</td>\n",
              "      <td>6.0</td>\n",
              "      <td>10.0</td>\n",
              "      <td>6.0</td>\n",
              "      <td>2014-11-10 06:00:00</td>\n",
              "      <td>0</td>\n",
              "      <td>0</td>\n",
              "      <td>0</td>\n",
              "      <td>1</td>\n",
              "      <td>0</td>\n",
              "      <td>0</td>\n",
              "      <td>0</td>\n",
              "      <td>0</td>\n",
              "      <td>0</td>\n",
              "      <td>0</td>\n",
              "      <td>0</td>\n",
              "      <td>0</td>\n",
              "      <td>0</td>\n",
              "      <td>0</td>\n",
              "      <td>0</td>\n",
              "      <td>0</td>\n",
              "      <td>0</td>\n",
              "      <td>0</td>\n",
              "      <td>0</td>\n",
              "      <td>0</td>\n",
              "      <td>0</td>\n",
              "      <td>0</td>\n",
              "      <td>0</td>\n",
              "      <td>1</td>\n",
              "      <td>0</td>\n",
              "      <td>0</td>\n",
              "      <td>0</td>\n",
              "      <td>0</td>\n",
              "      <td>0</td>\n",
              "      <td>0</td>\n",
              "      <td>...</td>\n",
              "      <td>0</td>\n",
              "      <td>0</td>\n",
              "      <td>0</td>\n",
              "      <td>0</td>\n",
              "      <td>0</td>\n",
              "      <td>0</td>\n",
              "      <td>0</td>\n",
              "      <td>0</td>\n",
              "      <td>0</td>\n",
              "      <td>0</td>\n",
              "      <td>0</td>\n",
              "      <td>0</td>\n",
              "      <td>0</td>\n",
              "      <td>0</td>\n",
              "      <td>0</td>\n",
              "      <td>0</td>\n",
              "      <td>0</td>\n",
              "      <td>0</td>\n",
              "      <td>0</td>\n",
              "      <td>0</td>\n",
              "      <td>0</td>\n",
              "      <td>0</td>\n",
              "      <td>0</td>\n",
              "      <td>0</td>\n",
              "      <td>1</td>\n",
              "      <td>0</td>\n",
              "      <td>0</td>\n",
              "      <td>0</td>\n",
              "      <td>0</td>\n",
              "      <td>0</td>\n",
              "      <td>0</td>\n",
              "      <td>0</td>\n",
              "      <td>0</td>\n",
              "      <td>0</td>\n",
              "      <td>0</td>\n",
              "      <td>0</td>\n",
              "      <td>0</td>\n",
              "      <td>0</td>\n",
              "      <td>1</td>\n",
              "      <td>0</td>\n",
              "    </tr>\n",
              "    <tr>\n",
              "      <th>1</th>\n",
              "      <td>2014-11-10</td>\n",
              "      <td>6</td>\n",
              "      <td>1070</td>\n",
              "      <td>2014-11-10 06:00:00</td>\n",
              "      <td>30.0</td>\n",
              "      <td>0.000000</td>\n",
              "      <td>6.0</td>\n",
              "      <td>10.0</td>\n",
              "      <td>6.0</td>\n",
              "      <td>2014-11-10 06:00:00</td>\n",
              "      <td>0</td>\n",
              "      <td>0</td>\n",
              "      <td>0</td>\n",
              "      <td>0</td>\n",
              "      <td>1</td>\n",
              "      <td>0</td>\n",
              "      <td>0</td>\n",
              "      <td>0</td>\n",
              "      <td>0</td>\n",
              "      <td>0</td>\n",
              "      <td>0</td>\n",
              "      <td>0</td>\n",
              "      <td>0</td>\n",
              "      <td>0</td>\n",
              "      <td>0</td>\n",
              "      <td>0</td>\n",
              "      <td>0</td>\n",
              "      <td>0</td>\n",
              "      <td>0</td>\n",
              "      <td>0</td>\n",
              "      <td>0</td>\n",
              "      <td>0</td>\n",
              "      <td>0</td>\n",
              "      <td>0</td>\n",
              "      <td>0</td>\n",
              "      <td>0</td>\n",
              "      <td>0</td>\n",
              "      <td>0</td>\n",
              "      <td>0</td>\n",
              "      <td>0</td>\n",
              "      <td>...</td>\n",
              "      <td>0</td>\n",
              "      <td>0</td>\n",
              "      <td>0</td>\n",
              "      <td>0</td>\n",
              "      <td>0</td>\n",
              "      <td>0</td>\n",
              "      <td>0</td>\n",
              "      <td>0</td>\n",
              "      <td>0</td>\n",
              "      <td>0</td>\n",
              "      <td>0</td>\n",
              "      <td>0</td>\n",
              "      <td>0</td>\n",
              "      <td>0</td>\n",
              "      <td>0</td>\n",
              "      <td>0</td>\n",
              "      <td>0</td>\n",
              "      <td>0</td>\n",
              "      <td>0</td>\n",
              "      <td>0</td>\n",
              "      <td>0</td>\n",
              "      <td>0</td>\n",
              "      <td>0</td>\n",
              "      <td>0</td>\n",
              "      <td>0</td>\n",
              "      <td>0</td>\n",
              "      <td>0</td>\n",
              "      <td>0</td>\n",
              "      <td>0</td>\n",
              "      <td>0</td>\n",
              "      <td>0</td>\n",
              "      <td>0</td>\n",
              "      <td>0</td>\n",
              "      <td>0</td>\n",
              "      <td>0</td>\n",
              "      <td>0</td>\n",
              "      <td>0</td>\n",
              "      <td>0</td>\n",
              "      <td>1</td>\n",
              "      <td>0</td>\n",
              "    </tr>\n",
              "    <tr>\n",
              "      <th>2</th>\n",
              "      <td>2014-11-10</td>\n",
              "      <td>6</td>\n",
              "      <td>1070</td>\n",
              "      <td>2014-11-10 06:00:00</td>\n",
              "      <td>30.0</td>\n",
              "      <td>0.000000</td>\n",
              "      <td>6.0</td>\n",
              "      <td>10.0</td>\n",
              "      <td>6.0</td>\n",
              "      <td>2014-11-10 06:00:00</td>\n",
              "      <td>0</td>\n",
              "      <td>0</td>\n",
              "      <td>0</td>\n",
              "      <td>1</td>\n",
              "      <td>0</td>\n",
              "      <td>0</td>\n",
              "      <td>0</td>\n",
              "      <td>0</td>\n",
              "      <td>0</td>\n",
              "      <td>0</td>\n",
              "      <td>0</td>\n",
              "      <td>0</td>\n",
              "      <td>0</td>\n",
              "      <td>0</td>\n",
              "      <td>0</td>\n",
              "      <td>0</td>\n",
              "      <td>0</td>\n",
              "      <td>0</td>\n",
              "      <td>0</td>\n",
              "      <td>0</td>\n",
              "      <td>0</td>\n",
              "      <td>0</td>\n",
              "      <td>0</td>\n",
              "      <td>0</td>\n",
              "      <td>0</td>\n",
              "      <td>0</td>\n",
              "      <td>0</td>\n",
              "      <td>0</td>\n",
              "      <td>0</td>\n",
              "      <td>1</td>\n",
              "      <td>...</td>\n",
              "      <td>0</td>\n",
              "      <td>0</td>\n",
              "      <td>0</td>\n",
              "      <td>0</td>\n",
              "      <td>0</td>\n",
              "      <td>0</td>\n",
              "      <td>0</td>\n",
              "      <td>0</td>\n",
              "      <td>0</td>\n",
              "      <td>0</td>\n",
              "      <td>0</td>\n",
              "      <td>0</td>\n",
              "      <td>0</td>\n",
              "      <td>0</td>\n",
              "      <td>0</td>\n",
              "      <td>0</td>\n",
              "      <td>0</td>\n",
              "      <td>0</td>\n",
              "      <td>0</td>\n",
              "      <td>0</td>\n",
              "      <td>0</td>\n",
              "      <td>0</td>\n",
              "      <td>0</td>\n",
              "      <td>0</td>\n",
              "      <td>0</td>\n",
              "      <td>0</td>\n",
              "      <td>0</td>\n",
              "      <td>0</td>\n",
              "      <td>0</td>\n",
              "      <td>0</td>\n",
              "      <td>0</td>\n",
              "      <td>0</td>\n",
              "      <td>0</td>\n",
              "      <td>0</td>\n",
              "      <td>0</td>\n",
              "      <td>0</td>\n",
              "      <td>0</td>\n",
              "      <td>0</td>\n",
              "      <td>1</td>\n",
              "      <td>0</td>\n",
              "    </tr>\n",
              "    <tr>\n",
              "      <th>3</th>\n",
              "      <td>2014-11-10</td>\n",
              "      <td>6</td>\n",
              "      <td>1070</td>\n",
              "      <td>2014-11-10 06:00:00</td>\n",
              "      <td>30.0</td>\n",
              "      <td>0.000000</td>\n",
              "      <td>6.0</td>\n",
              "      <td>10.0</td>\n",
              "      <td>6.0</td>\n",
              "      <td>2014-11-10 06:00:00</td>\n",
              "      <td>0</td>\n",
              "      <td>0</td>\n",
              "      <td>0</td>\n",
              "      <td>1</td>\n",
              "      <td>0</td>\n",
              "      <td>0</td>\n",
              "      <td>0</td>\n",
              "      <td>0</td>\n",
              "      <td>0</td>\n",
              "      <td>0</td>\n",
              "      <td>0</td>\n",
              "      <td>0</td>\n",
              "      <td>0</td>\n",
              "      <td>0</td>\n",
              "      <td>0</td>\n",
              "      <td>0</td>\n",
              "      <td>0</td>\n",
              "      <td>0</td>\n",
              "      <td>0</td>\n",
              "      <td>0</td>\n",
              "      <td>0</td>\n",
              "      <td>0</td>\n",
              "      <td>0</td>\n",
              "      <td>0</td>\n",
              "      <td>0</td>\n",
              "      <td>0</td>\n",
              "      <td>0</td>\n",
              "      <td>0</td>\n",
              "      <td>1</td>\n",
              "      <td>0</td>\n",
              "      <td>...</td>\n",
              "      <td>0</td>\n",
              "      <td>0</td>\n",
              "      <td>0</td>\n",
              "      <td>0</td>\n",
              "      <td>0</td>\n",
              "      <td>0</td>\n",
              "      <td>0</td>\n",
              "      <td>0</td>\n",
              "      <td>0</td>\n",
              "      <td>0</td>\n",
              "      <td>0</td>\n",
              "      <td>0</td>\n",
              "      <td>0</td>\n",
              "      <td>0</td>\n",
              "      <td>0</td>\n",
              "      <td>0</td>\n",
              "      <td>0</td>\n",
              "      <td>0</td>\n",
              "      <td>0</td>\n",
              "      <td>0</td>\n",
              "      <td>0</td>\n",
              "      <td>0</td>\n",
              "      <td>0</td>\n",
              "      <td>0</td>\n",
              "      <td>0</td>\n",
              "      <td>0</td>\n",
              "      <td>0</td>\n",
              "      <td>0</td>\n",
              "      <td>0</td>\n",
              "      <td>0</td>\n",
              "      <td>0</td>\n",
              "      <td>0</td>\n",
              "      <td>0</td>\n",
              "      <td>0</td>\n",
              "      <td>0</td>\n",
              "      <td>0</td>\n",
              "      <td>0</td>\n",
              "      <td>0</td>\n",
              "      <td>1</td>\n",
              "      <td>0</td>\n",
              "    </tr>\n",
              "    <tr>\n",
              "      <th>4</th>\n",
              "      <td>2014-11-10</td>\n",
              "      <td>7</td>\n",
              "      <td>3086</td>\n",
              "      <td>2014-11-10 07:00:00</td>\n",
              "      <td>30.0</td>\n",
              "      <td>0.000000</td>\n",
              "      <td>6.0</td>\n",
              "      <td>10.0</td>\n",
              "      <td>7.0</td>\n",
              "      <td>2014-11-10 07:00:00</td>\n",
              "      <td>0</td>\n",
              "      <td>0</td>\n",
              "      <td>0</td>\n",
              "      <td>1</td>\n",
              "      <td>0</td>\n",
              "      <td>0</td>\n",
              "      <td>0</td>\n",
              "      <td>0</td>\n",
              "      <td>0</td>\n",
              "      <td>0</td>\n",
              "      <td>0</td>\n",
              "      <td>0</td>\n",
              "      <td>0</td>\n",
              "      <td>0</td>\n",
              "      <td>0</td>\n",
              "      <td>0</td>\n",
              "      <td>0</td>\n",
              "      <td>0</td>\n",
              "      <td>1</td>\n",
              "      <td>0</td>\n",
              "      <td>0</td>\n",
              "      <td>0</td>\n",
              "      <td>0</td>\n",
              "      <td>0</td>\n",
              "      <td>0</td>\n",
              "      <td>0</td>\n",
              "      <td>0</td>\n",
              "      <td>0</td>\n",
              "      <td>0</td>\n",
              "      <td>0</td>\n",
              "      <td>...</td>\n",
              "      <td>0</td>\n",
              "      <td>0</td>\n",
              "      <td>0</td>\n",
              "      <td>0</td>\n",
              "      <td>0</td>\n",
              "      <td>0</td>\n",
              "      <td>0</td>\n",
              "      <td>0</td>\n",
              "      <td>0</td>\n",
              "      <td>0</td>\n",
              "      <td>0</td>\n",
              "      <td>0</td>\n",
              "      <td>0</td>\n",
              "      <td>0</td>\n",
              "      <td>0</td>\n",
              "      <td>0</td>\n",
              "      <td>0</td>\n",
              "      <td>0</td>\n",
              "      <td>0</td>\n",
              "      <td>0</td>\n",
              "      <td>0</td>\n",
              "      <td>0</td>\n",
              "      <td>0</td>\n",
              "      <td>0</td>\n",
              "      <td>0</td>\n",
              "      <td>0</td>\n",
              "      <td>0</td>\n",
              "      <td>0</td>\n",
              "      <td>0</td>\n",
              "      <td>0</td>\n",
              "      <td>0</td>\n",
              "      <td>0</td>\n",
              "      <td>0</td>\n",
              "      <td>0</td>\n",
              "      <td>0</td>\n",
              "      <td>0</td>\n",
              "      <td>0</td>\n",
              "      <td>0</td>\n",
              "      <td>1</td>\n",
              "      <td>0</td>\n",
              "    </tr>\n",
              "    <tr>\n",
              "      <th>...</th>\n",
              "      <td>...</td>\n",
              "      <td>...</td>\n",
              "      <td>...</td>\n",
              "      <td>...</td>\n",
              "      <td>...</td>\n",
              "      <td>...</td>\n",
              "      <td>...</td>\n",
              "      <td>...</td>\n",
              "      <td>...</td>\n",
              "      <td>...</td>\n",
              "      <td>...</td>\n",
              "      <td>...</td>\n",
              "      <td>...</td>\n",
              "      <td>...</td>\n",
              "      <td>...</td>\n",
              "      <td>...</td>\n",
              "      <td>...</td>\n",
              "      <td>...</td>\n",
              "      <td>...</td>\n",
              "      <td>...</td>\n",
              "      <td>...</td>\n",
              "      <td>...</td>\n",
              "      <td>...</td>\n",
              "      <td>...</td>\n",
              "      <td>...</td>\n",
              "      <td>...</td>\n",
              "      <td>...</td>\n",
              "      <td>...</td>\n",
              "      <td>...</td>\n",
              "      <td>...</td>\n",
              "      <td>...</td>\n",
              "      <td>...</td>\n",
              "      <td>...</td>\n",
              "      <td>...</td>\n",
              "      <td>...</td>\n",
              "      <td>...</td>\n",
              "      <td>...</td>\n",
              "      <td>...</td>\n",
              "      <td>...</td>\n",
              "      <td>...</td>\n",
              "      <td>...</td>\n",
              "      <td>...</td>\n",
              "      <td>...</td>\n",
              "      <td>...</td>\n",
              "      <td>...</td>\n",
              "      <td>...</td>\n",
              "      <td>...</td>\n",
              "      <td>...</td>\n",
              "      <td>...</td>\n",
              "      <td>...</td>\n",
              "      <td>...</td>\n",
              "      <td>...</td>\n",
              "      <td>...</td>\n",
              "      <td>...</td>\n",
              "      <td>...</td>\n",
              "      <td>...</td>\n",
              "      <td>...</td>\n",
              "      <td>...</td>\n",
              "      <td>...</td>\n",
              "      <td>...</td>\n",
              "      <td>...</td>\n",
              "      <td>...</td>\n",
              "      <td>...</td>\n",
              "      <td>...</td>\n",
              "      <td>...</td>\n",
              "      <td>...</td>\n",
              "      <td>...</td>\n",
              "      <td>...</td>\n",
              "      <td>...</td>\n",
              "      <td>...</td>\n",
              "      <td>...</td>\n",
              "      <td>...</td>\n",
              "      <td>...</td>\n",
              "      <td>...</td>\n",
              "      <td>...</td>\n",
              "      <td>...</td>\n",
              "      <td>...</td>\n",
              "      <td>...</td>\n",
              "      <td>...</td>\n",
              "      <td>...</td>\n",
              "      <td>...</td>\n",
              "    </tr>\n",
              "    <tr>\n",
              "      <th>2065</th>\n",
              "      <td>2014-11-23</td>\n",
              "      <td>0</td>\n",
              "      <td>2356</td>\n",
              "      <td>2014-11-23 00:00:00</td>\n",
              "      <td>30.0</td>\n",
              "      <td>0.000000</td>\n",
              "      <td>23.0</td>\n",
              "      <td>23.0</td>\n",
              "      <td>0.0</td>\n",
              "      <td>2014-11-23 00:00:00</td>\n",
              "      <td>0</td>\n",
              "      <td>0</td>\n",
              "      <td>0</td>\n",
              "      <td>1</td>\n",
              "      <td>0</td>\n",
              "      <td>0</td>\n",
              "      <td>0</td>\n",
              "      <td>0</td>\n",
              "      <td>0</td>\n",
              "      <td>0</td>\n",
              "      <td>0</td>\n",
              "      <td>0</td>\n",
              "      <td>0</td>\n",
              "      <td>0</td>\n",
              "      <td>0</td>\n",
              "      <td>0</td>\n",
              "      <td>0</td>\n",
              "      <td>0</td>\n",
              "      <td>0</td>\n",
              "      <td>0</td>\n",
              "      <td>0</td>\n",
              "      <td>0</td>\n",
              "      <td>0</td>\n",
              "      <td>1</td>\n",
              "      <td>0</td>\n",
              "      <td>0</td>\n",
              "      <td>0</td>\n",
              "      <td>0</td>\n",
              "      <td>0</td>\n",
              "      <td>0</td>\n",
              "      <td>...</td>\n",
              "      <td>0</td>\n",
              "      <td>0</td>\n",
              "      <td>0</td>\n",
              "      <td>0</td>\n",
              "      <td>0</td>\n",
              "      <td>0</td>\n",
              "      <td>0</td>\n",
              "      <td>0</td>\n",
              "      <td>0</td>\n",
              "      <td>0</td>\n",
              "      <td>0</td>\n",
              "      <td>0</td>\n",
              "      <td>0</td>\n",
              "      <td>0</td>\n",
              "      <td>0</td>\n",
              "      <td>0</td>\n",
              "      <td>0</td>\n",
              "      <td>0</td>\n",
              "      <td>0</td>\n",
              "      <td>0</td>\n",
              "      <td>0</td>\n",
              "      <td>0</td>\n",
              "      <td>0</td>\n",
              "      <td>0</td>\n",
              "      <td>0</td>\n",
              "      <td>0</td>\n",
              "      <td>0</td>\n",
              "      <td>0</td>\n",
              "      <td>0</td>\n",
              "      <td>0</td>\n",
              "      <td>0</td>\n",
              "      <td>0</td>\n",
              "      <td>0</td>\n",
              "      <td>0</td>\n",
              "      <td>0</td>\n",
              "      <td>0</td>\n",
              "      <td>0</td>\n",
              "      <td>0</td>\n",
              "      <td>1</td>\n",
              "      <td>0</td>\n",
              "    </tr>\n",
              "    <tr>\n",
              "      <th>2066</th>\n",
              "      <td>2014-11-23</td>\n",
              "      <td>1</td>\n",
              "      <td>991</td>\n",
              "      <td>2014-11-23 01:00:00</td>\n",
              "      <td>30.0</td>\n",
              "      <td>0.000000</td>\n",
              "      <td>0.0</td>\n",
              "      <td>23.0</td>\n",
              "      <td>1.0</td>\n",
              "      <td>2014-11-23 01:00:00</td>\n",
              "      <td>0</td>\n",
              "      <td>1</td>\n",
              "      <td>0</td>\n",
              "      <td>0</td>\n",
              "      <td>0</td>\n",
              "      <td>0</td>\n",
              "      <td>0</td>\n",
              "      <td>0</td>\n",
              "      <td>0</td>\n",
              "      <td>0</td>\n",
              "      <td>0</td>\n",
              "      <td>0</td>\n",
              "      <td>0</td>\n",
              "      <td>0</td>\n",
              "      <td>0</td>\n",
              "      <td>0</td>\n",
              "      <td>0</td>\n",
              "      <td>0</td>\n",
              "      <td>0</td>\n",
              "      <td>0</td>\n",
              "      <td>0</td>\n",
              "      <td>0</td>\n",
              "      <td>0</td>\n",
              "      <td>0</td>\n",
              "      <td>0</td>\n",
              "      <td>0</td>\n",
              "      <td>1</td>\n",
              "      <td>0</td>\n",
              "      <td>0</td>\n",
              "      <td>0</td>\n",
              "      <td>...</td>\n",
              "      <td>0</td>\n",
              "      <td>0</td>\n",
              "      <td>0</td>\n",
              "      <td>0</td>\n",
              "      <td>0</td>\n",
              "      <td>0</td>\n",
              "      <td>0</td>\n",
              "      <td>0</td>\n",
              "      <td>0</td>\n",
              "      <td>0</td>\n",
              "      <td>0</td>\n",
              "      <td>0</td>\n",
              "      <td>0</td>\n",
              "      <td>0</td>\n",
              "      <td>0</td>\n",
              "      <td>0</td>\n",
              "      <td>0</td>\n",
              "      <td>0</td>\n",
              "      <td>0</td>\n",
              "      <td>0</td>\n",
              "      <td>0</td>\n",
              "      <td>0</td>\n",
              "      <td>0</td>\n",
              "      <td>0</td>\n",
              "      <td>0</td>\n",
              "      <td>0</td>\n",
              "      <td>0</td>\n",
              "      <td>0</td>\n",
              "      <td>0</td>\n",
              "      <td>0</td>\n",
              "      <td>0</td>\n",
              "      <td>0</td>\n",
              "      <td>0</td>\n",
              "      <td>0</td>\n",
              "      <td>0</td>\n",
              "      <td>0</td>\n",
              "      <td>0</td>\n",
              "      <td>0</td>\n",
              "      <td>1</td>\n",
              "      <td>0</td>\n",
              "    </tr>\n",
              "    <tr>\n",
              "      <th>2067</th>\n",
              "      <td>2014-11-23</td>\n",
              "      <td>1</td>\n",
              "      <td>991</td>\n",
              "      <td>2014-11-23 01:00:00</td>\n",
              "      <td>30.0</td>\n",
              "      <td>0.478713</td>\n",
              "      <td>1.0</td>\n",
              "      <td>23.0</td>\n",
              "      <td>1.0</td>\n",
              "      <td>2014-11-23 01:00:00</td>\n",
              "      <td>0</td>\n",
              "      <td>0</td>\n",
              "      <td>0</td>\n",
              "      <td>1</td>\n",
              "      <td>0</td>\n",
              "      <td>0</td>\n",
              "      <td>0</td>\n",
              "      <td>0</td>\n",
              "      <td>0</td>\n",
              "      <td>0</td>\n",
              "      <td>0</td>\n",
              "      <td>0</td>\n",
              "      <td>0</td>\n",
              "      <td>0</td>\n",
              "      <td>0</td>\n",
              "      <td>0</td>\n",
              "      <td>0</td>\n",
              "      <td>0</td>\n",
              "      <td>0</td>\n",
              "      <td>0</td>\n",
              "      <td>0</td>\n",
              "      <td>0</td>\n",
              "      <td>0</td>\n",
              "      <td>0</td>\n",
              "      <td>0</td>\n",
              "      <td>0</td>\n",
              "      <td>0</td>\n",
              "      <td>0</td>\n",
              "      <td>0</td>\n",
              "      <td>0</td>\n",
              "      <td>...</td>\n",
              "      <td>0</td>\n",
              "      <td>0</td>\n",
              "      <td>0</td>\n",
              "      <td>0</td>\n",
              "      <td>0</td>\n",
              "      <td>0</td>\n",
              "      <td>0</td>\n",
              "      <td>0</td>\n",
              "      <td>0</td>\n",
              "      <td>0</td>\n",
              "      <td>0</td>\n",
              "      <td>0</td>\n",
              "      <td>0</td>\n",
              "      <td>0</td>\n",
              "      <td>0</td>\n",
              "      <td>0</td>\n",
              "      <td>0</td>\n",
              "      <td>0</td>\n",
              "      <td>0</td>\n",
              "      <td>0</td>\n",
              "      <td>0</td>\n",
              "      <td>0</td>\n",
              "      <td>0</td>\n",
              "      <td>0</td>\n",
              "      <td>0</td>\n",
              "      <td>0</td>\n",
              "      <td>0</td>\n",
              "      <td>0</td>\n",
              "      <td>0</td>\n",
              "      <td>0</td>\n",
              "      <td>0</td>\n",
              "      <td>0</td>\n",
              "      <td>0</td>\n",
              "      <td>0</td>\n",
              "      <td>0</td>\n",
              "      <td>0</td>\n",
              "      <td>0</td>\n",
              "      <td>0</td>\n",
              "      <td>1</td>\n",
              "      <td>0</td>\n",
              "    </tr>\n",
              "    <tr>\n",
              "      <th>2068</th>\n",
              "      <td>2014-11-23</td>\n",
              "      <td>1</td>\n",
              "      <td>991</td>\n",
              "      <td>2014-11-23 01:00:00</td>\n",
              "      <td>30.0</td>\n",
              "      <td>0.000000</td>\n",
              "      <td>1.0</td>\n",
              "      <td>23.0</td>\n",
              "      <td>1.0</td>\n",
              "      <td>2014-11-23 01:00:00</td>\n",
              "      <td>0</td>\n",
              "      <td>0</td>\n",
              "      <td>0</td>\n",
              "      <td>1</td>\n",
              "      <td>0</td>\n",
              "      <td>0</td>\n",
              "      <td>0</td>\n",
              "      <td>0</td>\n",
              "      <td>0</td>\n",
              "      <td>0</td>\n",
              "      <td>0</td>\n",
              "      <td>0</td>\n",
              "      <td>0</td>\n",
              "      <td>0</td>\n",
              "      <td>0</td>\n",
              "      <td>0</td>\n",
              "      <td>0</td>\n",
              "      <td>0</td>\n",
              "      <td>0</td>\n",
              "      <td>0</td>\n",
              "      <td>1</td>\n",
              "      <td>0</td>\n",
              "      <td>0</td>\n",
              "      <td>0</td>\n",
              "      <td>0</td>\n",
              "      <td>0</td>\n",
              "      <td>0</td>\n",
              "      <td>0</td>\n",
              "      <td>0</td>\n",
              "      <td>0</td>\n",
              "      <td>...</td>\n",
              "      <td>0</td>\n",
              "      <td>0</td>\n",
              "      <td>0</td>\n",
              "      <td>0</td>\n",
              "      <td>0</td>\n",
              "      <td>0</td>\n",
              "      <td>0</td>\n",
              "      <td>0</td>\n",
              "      <td>0</td>\n",
              "      <td>0</td>\n",
              "      <td>0</td>\n",
              "      <td>0</td>\n",
              "      <td>0</td>\n",
              "      <td>0</td>\n",
              "      <td>0</td>\n",
              "      <td>0</td>\n",
              "      <td>0</td>\n",
              "      <td>0</td>\n",
              "      <td>0</td>\n",
              "      <td>0</td>\n",
              "      <td>0</td>\n",
              "      <td>0</td>\n",
              "      <td>0</td>\n",
              "      <td>0</td>\n",
              "      <td>0</td>\n",
              "      <td>0</td>\n",
              "      <td>0</td>\n",
              "      <td>0</td>\n",
              "      <td>0</td>\n",
              "      <td>0</td>\n",
              "      <td>0</td>\n",
              "      <td>0</td>\n",
              "      <td>0</td>\n",
              "      <td>0</td>\n",
              "      <td>0</td>\n",
              "      <td>0</td>\n",
              "      <td>0</td>\n",
              "      <td>0</td>\n",
              "      <td>1</td>\n",
              "      <td>0</td>\n",
              "    </tr>\n",
              "    <tr>\n",
              "      <th>2069</th>\n",
              "      <td>2014-11-23</td>\n",
              "      <td>1</td>\n",
              "      <td>991</td>\n",
              "      <td>2014-11-23 01:00:00</td>\n",
              "      <td>30.0</td>\n",
              "      <td>0.190379</td>\n",
              "      <td>1.0</td>\n",
              "      <td>23.0</td>\n",
              "      <td>1.0</td>\n",
              "      <td>2014-11-23 01:00:00</td>\n",
              "      <td>0</td>\n",
              "      <td>0</td>\n",
              "      <td>0</td>\n",
              "      <td>1</td>\n",
              "      <td>0</td>\n",
              "      <td>0</td>\n",
              "      <td>0</td>\n",
              "      <td>0</td>\n",
              "      <td>0</td>\n",
              "      <td>1</td>\n",
              "      <td>0</td>\n",
              "      <td>0</td>\n",
              "      <td>0</td>\n",
              "      <td>0</td>\n",
              "      <td>0</td>\n",
              "      <td>0</td>\n",
              "      <td>0</td>\n",
              "      <td>0</td>\n",
              "      <td>0</td>\n",
              "      <td>0</td>\n",
              "      <td>0</td>\n",
              "      <td>0</td>\n",
              "      <td>0</td>\n",
              "      <td>0</td>\n",
              "      <td>0</td>\n",
              "      <td>0</td>\n",
              "      <td>0</td>\n",
              "      <td>0</td>\n",
              "      <td>0</td>\n",
              "      <td>0</td>\n",
              "      <td>...</td>\n",
              "      <td>0</td>\n",
              "      <td>0</td>\n",
              "      <td>0</td>\n",
              "      <td>0</td>\n",
              "      <td>0</td>\n",
              "      <td>0</td>\n",
              "      <td>0</td>\n",
              "      <td>0</td>\n",
              "      <td>0</td>\n",
              "      <td>0</td>\n",
              "      <td>0</td>\n",
              "      <td>0</td>\n",
              "      <td>0</td>\n",
              "      <td>0</td>\n",
              "      <td>0</td>\n",
              "      <td>0</td>\n",
              "      <td>0</td>\n",
              "      <td>0</td>\n",
              "      <td>0</td>\n",
              "      <td>0</td>\n",
              "      <td>0</td>\n",
              "      <td>0</td>\n",
              "      <td>0</td>\n",
              "      <td>0</td>\n",
              "      <td>0</td>\n",
              "      <td>0</td>\n",
              "      <td>0</td>\n",
              "      <td>0</td>\n",
              "      <td>0</td>\n",
              "      <td>0</td>\n",
              "      <td>0</td>\n",
              "      <td>0</td>\n",
              "      <td>0</td>\n",
              "      <td>0</td>\n",
              "      <td>0</td>\n",
              "      <td>0</td>\n",
              "      <td>0</td>\n",
              "      <td>0</td>\n",
              "      <td>1</td>\n",
              "      <td>0</td>\n",
              "    </tr>\n",
              "  </tbody>\n",
              "</table>\n",
              "<p>2070 rows × 2976 columns</p>\n",
              "</div>"
            ],
            "text/plain": [
              "           Data  ...  Position Type in the block of commercials_Second / Penultimate\n",
              "0    2014-11-10  ...                                                  0             \n",
              "1    2014-11-10  ...                                                  0             \n",
              "2    2014-11-10  ...                                                  0             \n",
              "3    2014-11-10  ...                                                  0             \n",
              "4    2014-11-10  ...                                                  0             \n",
              "...         ...  ...                                                ...             \n",
              "2065 2014-11-23  ...                                                  0             \n",
              "2066 2014-11-23  ...                                                  0             \n",
              "2067 2014-11-23  ...                                                  0             \n",
              "2068 2014-11-23  ...                                                  0             \n",
              "2069 2014-11-23  ...                                                  0             \n",
              "\n",
              "[2070 rows x 2976 columns]"
            ]
          },
          "metadata": {
            "tags": []
          },
          "execution_count": 127
        }
      ]
    },
    {
      "cell_type": "code",
      "metadata": {
        "id": "IbDaR0X67Zy1"
      },
      "source": [
        "data_dummies_grouped = data_dummies.groupby(by='dateReassigned_datetime').sum().drop(['Wizyty_all','actualHour','godzina','GRP','dayOfMonth','roundTime'],axis=1) "
      ],
      "execution_count": null,
      "outputs": []
    },
    {
      "cell_type": "code",
      "metadata": {
        "id": "YF4QttTq-IYn"
      },
      "source": [
        "data_dummies_grouped.reset_index(drop=True,inplace=True)"
      ],
      "execution_count": null,
      "outputs": []
    },
    {
      "cell_type": "code",
      "metadata": {
        "id": "-IkqH4pX_N9S",
        "outputId": "c175df19-874b-4f31-b03d-67c74db9e8ac",
        "colab": {
          "base_uri": "https://localhost:8080/",
          "height": 524
        }
      },
      "source": [
        "data_dummies_grouped"
      ],
      "execution_count": null,
      "outputs": [
        {
          "output_type": "execute_result",
          "data": {
            "text/html": [
              "<div>\n",
              "<style scoped>\n",
              "    .dataframe tbody tr th:only-of-type {\n",
              "        vertical-align: middle;\n",
              "    }\n",
              "\n",
              "    .dataframe tbody tr th {\n",
              "        vertical-align: top;\n",
              "    }\n",
              "\n",
              "    .dataframe thead th {\n",
              "        text-align: right;\n",
              "    }\n",
              "</style>\n",
              "<table border=\"1\" class=\"dataframe\">\n",
              "  <thead>\n",
              "    <tr style=\"text-align: right;\">\n",
              "      <th></th>\n",
              "      <th>Commercial length</th>\n",
              "      <th>Campaign Channel_Polsat</th>\n",
              "      <th>Campaign Channel_Polsat Pakiet Tematyczny</th>\n",
              "      <th>Campaign Channel_TVN</th>\n",
              "      <th>Campaign Channel_TVN Pakiet Tematyczny</th>\n",
              "      <th>Campaign Channel_TVP Pakiet Tematyczny</th>\n",
              "      <th>Campaign Channel_TVP1</th>\n",
              "      <th>Campaign Channel_TVP2</th>\n",
              "      <th>AGB Channel_13th Street Universal</th>\n",
              "      <th>AGB Channel_ATM Rozrywka</th>\n",
              "      <th>AGB Channel_AXN</th>\n",
              "      <th>AGB Channel_AXN White</th>\n",
              "      <th>AGB Channel_Ale Kino</th>\n",
              "      <th>AGB Channel_Animal HD</th>\n",
              "      <th>AGB Channel_Animal Planet</th>\n",
              "      <th>AGB Channel_BBC Knowledge</th>\n",
              "      <th>AGB Channel_CBS Drama</th>\n",
              "      <th>AGB Channel_CBS Europa</th>\n",
              "      <th>AGB Channel_CBS Reality</th>\n",
              "      <th>AGB Channel_Comedy Central Family</th>\n",
              "      <th>AGB Channel_Disco Polo Music</th>\n",
              "      <th>AGB Channel_Domo</th>\n",
              "      <th>AGB Channel_E!Entertainment</th>\n",
              "      <th>AGB Channel_Extreme Sports</th>\n",
              "      <th>AGB Channel_FoxLife</th>\n",
              "      <th>AGB Channel_History</th>\n",
              "      <th>AGB Channel_Investigation Discovery</th>\n",
              "      <th>AGB Channel_Kino Polska</th>\n",
              "      <th>AGB Channel_Kino Polska Muzyka</th>\n",
              "      <th>AGB Channel_MTV Polska</th>\n",
              "      <th>AGB Channel_Mjuzik.tv</th>\n",
              "      <th>AGB Channel_Muzo. tv</th>\n",
              "      <th>AGB Channel_Polsat</th>\n",
              "      <th>AGB Channel_Polsat Cafe</th>\n",
              "      <th>AGB Channel_Polsat Crime &amp; Investigation</th>\n",
              "      <th>AGB Channel_Polsat Film</th>\n",
              "      <th>AGB Channel_Polsat Food</th>\n",
              "      <th>AGB Channel_Polsat News</th>\n",
              "      <th>AGB Channel_Polsat News 2</th>\n",
              "      <th>AGB Channel_Polsat Romans</th>\n",
              "      <th>...</th>\n",
              "      <th>Title_ZAKLINACZ PSOW /DOK.W.BRYT./</th>\n",
              "      <th>Title_ZAKLINACZ WEZY /FILM DOK.AUSTRALIA/</th>\n",
              "      <th>Title_ZAKLINACZE KONI /SER.DRA.KAN./</th>\n",
              "      <th>Title_ZAKOCHANA ZLOSNICA /FILM KOM.USA/</th>\n",
              "      <th>Title_ZAKOCHANY ANIOL /FILM KOM.POL./</th>\n",
              "      <th>Title_ZALOGA G /FILM FAM.USA/</th>\n",
              "      <th>Title_ZAPISKI LAZEGI /REP.POL./</th>\n",
              "      <th>Title_ZAPOMNIANA MELODIA /FILM ARCH.POL./</th>\n",
              "      <th>Title_ZAPOMNIANE POWSTANIE /FILM DOK.POL./</th>\n",
              "      <th>Title_ZAPOMNIANY GENERAL TADEUSZ JORDAN ROZWADOWSKI /FILM DOK.POL./</th>\n",
              "      <th>Title_ZATOPIENI /FILM SENS.BULG.-W.BRYT/</th>\n",
              "      <th>Title_ZBRODNIE KTORE WSTRZASNELY AMERYKA /SER.DOK.USA/</th>\n",
              "      <th>Title_ZBRODNIE PALM GLADE /SER.SENS.USA/</th>\n",
              "      <th>Title_ZDOBYWCY KRABY KAMCZACKIE /SER.DOK.FR./</th>\n",
              "      <th>Title_ZE SMIERCIA JEJ DO TWARZY /FILM FAB.USA/</th>\n",
              "      <th>Title_ZE WSCHODU NA ZACHOD /FILM DOK.WIELK.BRYT./</th>\n",
              "      <th>Title_ZEMSTA /SER.OBYCZ.USA/</th>\n",
              "      <th>Title_ZIARNO /PROG.RELIG.DLA DZIECI/</th>\n",
              "      <th>Title_ZJAWISKA PARANORMALNE /SER.DOK.USA/</th>\n",
              "      <th>Title_ZLO W GENACH /SER.DOK.USA/</th>\n",
              "      <th>Title_ZLO W MOIM DOMU /SER.DOK.USA/</th>\n",
              "      <th>Title_ZLOTE PRZEBOJE /TELEDYSKI/</th>\n",
              "      <th>Title_ZLOTO DEZERTEROW /FILM KOM.POL./</th>\n",
              "      <th>Title_ZOLNIERSKA NUTA... /FILM DOK.POL./</th>\n",
              "      <th>Title_ZONA DLA MILIONERA /PROG.ROZR.USA/</th>\n",
              "      <th>Title_ZOO /SER.DOK.N.ZEL./</th>\n",
              "      <th>Title_ZROBMY SOBIE DOM /REALITY SHOW/</th>\n",
              "      <th>Title_ZROSNIETE BLIZNIAKI /FILM DOK.WIEL.BRYT./</th>\n",
              "      <th>Title_ZUS DLA CIEBIE /PROG.INFOR./</th>\n",
              "      <th>Title_ZWIAZKI INNE NIZ WSZYSTKIE /PROG.DOK.USA/</th>\n",
              "      <th>Title_ZWIERZECE LOVE STORY /SER.DOK W.BRYT./</th>\n",
              "      <th>Title_ZWIERZECY ARMAGEDDON /MINISER.DOK.USA/</th>\n",
              "      <th>Title_ZYCIE /SER.DOK.W.BRYT/</th>\n",
              "      <th>Title_ZYCIE BEZ WSTYDU /REALITY SHOW POL./</th>\n",
              "      <th>Title_ZYCIE MOJE SKRETAMI BIEZY /FILM DOK.POL./</th>\n",
              "      <th>Title_ZYCIE PISANE PODROZA /FILM DOK.POL./</th>\n",
              "      <th>Title_ZYCIE ZA ZYCIE /FILM DRAM.NIEM.USA/</th>\n",
              "      <th>Position Type in the block of commercials_First / Last</th>\n",
              "      <th>Position Type in the block of commercials_Middle</th>\n",
              "      <th>Position Type in the block of commercials_Second / Penultimate</th>\n",
              "    </tr>\n",
              "  </thead>\n",
              "  <tbody>\n",
              "    <tr>\n",
              "      <th>0</th>\n",
              "      <td>120.0</td>\n",
              "      <td>0</td>\n",
              "      <td>0</td>\n",
              "      <td>0</td>\n",
              "      <td>3</td>\n",
              "      <td>1</td>\n",
              "      <td>0</td>\n",
              "      <td>0</td>\n",
              "      <td>0</td>\n",
              "      <td>0</td>\n",
              "      <td>0</td>\n",
              "      <td>0</td>\n",
              "      <td>0</td>\n",
              "      <td>0</td>\n",
              "      <td>0</td>\n",
              "      <td>0</td>\n",
              "      <td>0</td>\n",
              "      <td>0</td>\n",
              "      <td>0</td>\n",
              "      <td>0</td>\n",
              "      <td>0</td>\n",
              "      <td>0</td>\n",
              "      <td>0</td>\n",
              "      <td>0</td>\n",
              "      <td>1</td>\n",
              "      <td>0</td>\n",
              "      <td>0</td>\n",
              "      <td>0</td>\n",
              "      <td>0</td>\n",
              "      <td>1</td>\n",
              "      <td>1</td>\n",
              "      <td>0</td>\n",
              "      <td>0</td>\n",
              "      <td>0</td>\n",
              "      <td>0</td>\n",
              "      <td>0</td>\n",
              "      <td>0</td>\n",
              "      <td>0</td>\n",
              "      <td>0</td>\n",
              "      <td>0</td>\n",
              "      <td>...</td>\n",
              "      <td>0</td>\n",
              "      <td>0</td>\n",
              "      <td>0</td>\n",
              "      <td>0</td>\n",
              "      <td>0</td>\n",
              "      <td>0</td>\n",
              "      <td>0</td>\n",
              "      <td>0</td>\n",
              "      <td>0</td>\n",
              "      <td>0</td>\n",
              "      <td>0</td>\n",
              "      <td>0</td>\n",
              "      <td>0</td>\n",
              "      <td>0</td>\n",
              "      <td>0</td>\n",
              "      <td>0</td>\n",
              "      <td>0</td>\n",
              "      <td>0</td>\n",
              "      <td>0</td>\n",
              "      <td>0</td>\n",
              "      <td>0</td>\n",
              "      <td>0</td>\n",
              "      <td>0</td>\n",
              "      <td>0</td>\n",
              "      <td>1</td>\n",
              "      <td>0</td>\n",
              "      <td>0</td>\n",
              "      <td>0</td>\n",
              "      <td>0</td>\n",
              "      <td>0</td>\n",
              "      <td>0</td>\n",
              "      <td>0</td>\n",
              "      <td>0</td>\n",
              "      <td>0</td>\n",
              "      <td>0</td>\n",
              "      <td>0</td>\n",
              "      <td>0</td>\n",
              "      <td>0</td>\n",
              "      <td>4</td>\n",
              "      <td>0</td>\n",
              "    </tr>\n",
              "    <tr>\n",
              "      <th>1</th>\n",
              "      <td>390.0</td>\n",
              "      <td>0</td>\n",
              "      <td>7</td>\n",
              "      <td>0</td>\n",
              "      <td>3</td>\n",
              "      <td>3</td>\n",
              "      <td>0</td>\n",
              "      <td>0</td>\n",
              "      <td>0</td>\n",
              "      <td>0</td>\n",
              "      <td>0</td>\n",
              "      <td>0</td>\n",
              "      <td>0</td>\n",
              "      <td>1</td>\n",
              "      <td>0</td>\n",
              "      <td>1</td>\n",
              "      <td>0</td>\n",
              "      <td>0</td>\n",
              "      <td>0</td>\n",
              "      <td>1</td>\n",
              "      <td>0</td>\n",
              "      <td>0</td>\n",
              "      <td>0</td>\n",
              "      <td>0</td>\n",
              "      <td>0</td>\n",
              "      <td>0</td>\n",
              "      <td>0</td>\n",
              "      <td>0</td>\n",
              "      <td>0</td>\n",
              "      <td>1</td>\n",
              "      <td>0</td>\n",
              "      <td>0</td>\n",
              "      <td>0</td>\n",
              "      <td>0</td>\n",
              "      <td>0</td>\n",
              "      <td>0</td>\n",
              "      <td>1</td>\n",
              "      <td>0</td>\n",
              "      <td>0</td>\n",
              "      <td>0</td>\n",
              "      <td>...</td>\n",
              "      <td>0</td>\n",
              "      <td>0</td>\n",
              "      <td>0</td>\n",
              "      <td>0</td>\n",
              "      <td>0</td>\n",
              "      <td>0</td>\n",
              "      <td>0</td>\n",
              "      <td>0</td>\n",
              "      <td>0</td>\n",
              "      <td>0</td>\n",
              "      <td>0</td>\n",
              "      <td>0</td>\n",
              "      <td>0</td>\n",
              "      <td>0</td>\n",
              "      <td>0</td>\n",
              "      <td>0</td>\n",
              "      <td>0</td>\n",
              "      <td>0</td>\n",
              "      <td>0</td>\n",
              "      <td>0</td>\n",
              "      <td>0</td>\n",
              "      <td>0</td>\n",
              "      <td>0</td>\n",
              "      <td>0</td>\n",
              "      <td>0</td>\n",
              "      <td>0</td>\n",
              "      <td>0</td>\n",
              "      <td>0</td>\n",
              "      <td>0</td>\n",
              "      <td>0</td>\n",
              "      <td>0</td>\n",
              "      <td>0</td>\n",
              "      <td>0</td>\n",
              "      <td>0</td>\n",
              "      <td>0</td>\n",
              "      <td>0</td>\n",
              "      <td>0</td>\n",
              "      <td>2</td>\n",
              "      <td>6</td>\n",
              "      <td>5</td>\n",
              "    </tr>\n",
              "    <tr>\n",
              "      <th>2</th>\n",
              "      <td>480.0</td>\n",
              "      <td>0</td>\n",
              "      <td>6</td>\n",
              "      <td>0</td>\n",
              "      <td>8</td>\n",
              "      <td>2</td>\n",
              "      <td>0</td>\n",
              "      <td>0</td>\n",
              "      <td>0</td>\n",
              "      <td>0</td>\n",
              "      <td>0</td>\n",
              "      <td>1</td>\n",
              "      <td>0</td>\n",
              "      <td>1</td>\n",
              "      <td>1</td>\n",
              "      <td>0</td>\n",
              "      <td>0</td>\n",
              "      <td>0</td>\n",
              "      <td>1</td>\n",
              "      <td>1</td>\n",
              "      <td>0</td>\n",
              "      <td>1</td>\n",
              "      <td>0</td>\n",
              "      <td>0</td>\n",
              "      <td>0</td>\n",
              "      <td>0</td>\n",
              "      <td>0</td>\n",
              "      <td>1</td>\n",
              "      <td>0</td>\n",
              "      <td>2</td>\n",
              "      <td>0</td>\n",
              "      <td>0</td>\n",
              "      <td>0</td>\n",
              "      <td>0</td>\n",
              "      <td>0</td>\n",
              "      <td>0</td>\n",
              "      <td>1</td>\n",
              "      <td>0</td>\n",
              "      <td>0</td>\n",
              "      <td>0</td>\n",
              "      <td>...</td>\n",
              "      <td>0</td>\n",
              "      <td>0</td>\n",
              "      <td>1</td>\n",
              "      <td>0</td>\n",
              "      <td>0</td>\n",
              "      <td>0</td>\n",
              "      <td>0</td>\n",
              "      <td>0</td>\n",
              "      <td>0</td>\n",
              "      <td>0</td>\n",
              "      <td>0</td>\n",
              "      <td>0</td>\n",
              "      <td>0</td>\n",
              "      <td>0</td>\n",
              "      <td>0</td>\n",
              "      <td>0</td>\n",
              "      <td>0</td>\n",
              "      <td>0</td>\n",
              "      <td>0</td>\n",
              "      <td>0</td>\n",
              "      <td>0</td>\n",
              "      <td>0</td>\n",
              "      <td>0</td>\n",
              "      <td>0</td>\n",
              "      <td>0</td>\n",
              "      <td>0</td>\n",
              "      <td>0</td>\n",
              "      <td>0</td>\n",
              "      <td>0</td>\n",
              "      <td>0</td>\n",
              "      <td>0</td>\n",
              "      <td>0</td>\n",
              "      <td>0</td>\n",
              "      <td>0</td>\n",
              "      <td>0</td>\n",
              "      <td>0</td>\n",
              "      <td>0</td>\n",
              "      <td>4</td>\n",
              "      <td>11</td>\n",
              "      <td>1</td>\n",
              "    </tr>\n",
              "    <tr>\n",
              "      <th>3</th>\n",
              "      <td>480.0</td>\n",
              "      <td>0</td>\n",
              "      <td>6</td>\n",
              "      <td>1</td>\n",
              "      <td>3</td>\n",
              "      <td>3</td>\n",
              "      <td>1</td>\n",
              "      <td>2</td>\n",
              "      <td>0</td>\n",
              "      <td>0</td>\n",
              "      <td>0</td>\n",
              "      <td>0</td>\n",
              "      <td>0</td>\n",
              "      <td>0</td>\n",
              "      <td>0</td>\n",
              "      <td>0</td>\n",
              "      <td>0</td>\n",
              "      <td>0</td>\n",
              "      <td>0</td>\n",
              "      <td>1</td>\n",
              "      <td>0</td>\n",
              "      <td>0</td>\n",
              "      <td>0</td>\n",
              "      <td>0</td>\n",
              "      <td>0</td>\n",
              "      <td>1</td>\n",
              "      <td>0</td>\n",
              "      <td>0</td>\n",
              "      <td>0</td>\n",
              "      <td>2</td>\n",
              "      <td>0</td>\n",
              "      <td>0</td>\n",
              "      <td>0</td>\n",
              "      <td>0</td>\n",
              "      <td>0</td>\n",
              "      <td>1</td>\n",
              "      <td>0</td>\n",
              "      <td>0</td>\n",
              "      <td>0</td>\n",
              "      <td>0</td>\n",
              "      <td>...</td>\n",
              "      <td>0</td>\n",
              "      <td>0</td>\n",
              "      <td>0</td>\n",
              "      <td>0</td>\n",
              "      <td>0</td>\n",
              "      <td>0</td>\n",
              "      <td>0</td>\n",
              "      <td>0</td>\n",
              "      <td>0</td>\n",
              "      <td>0</td>\n",
              "      <td>0</td>\n",
              "      <td>0</td>\n",
              "      <td>0</td>\n",
              "      <td>0</td>\n",
              "      <td>0</td>\n",
              "      <td>0</td>\n",
              "      <td>0</td>\n",
              "      <td>0</td>\n",
              "      <td>0</td>\n",
              "      <td>0</td>\n",
              "      <td>0</td>\n",
              "      <td>0</td>\n",
              "      <td>0</td>\n",
              "      <td>0</td>\n",
              "      <td>0</td>\n",
              "      <td>0</td>\n",
              "      <td>0</td>\n",
              "      <td>0</td>\n",
              "      <td>0</td>\n",
              "      <td>0</td>\n",
              "      <td>0</td>\n",
              "      <td>0</td>\n",
              "      <td>0</td>\n",
              "      <td>0</td>\n",
              "      <td>0</td>\n",
              "      <td>0</td>\n",
              "      <td>0</td>\n",
              "      <td>2</td>\n",
              "      <td>12</td>\n",
              "      <td>2</td>\n",
              "    </tr>\n",
              "    <tr>\n",
              "      <th>4</th>\n",
              "      <td>330.0</td>\n",
              "      <td>0</td>\n",
              "      <td>4</td>\n",
              "      <td>0</td>\n",
              "      <td>5</td>\n",
              "      <td>2</td>\n",
              "      <td>0</td>\n",
              "      <td>0</td>\n",
              "      <td>0</td>\n",
              "      <td>1</td>\n",
              "      <td>0</td>\n",
              "      <td>0</td>\n",
              "      <td>0</td>\n",
              "      <td>0</td>\n",
              "      <td>1</td>\n",
              "      <td>0</td>\n",
              "      <td>0</td>\n",
              "      <td>0</td>\n",
              "      <td>1</td>\n",
              "      <td>0</td>\n",
              "      <td>0</td>\n",
              "      <td>0</td>\n",
              "      <td>0</td>\n",
              "      <td>0</td>\n",
              "      <td>0</td>\n",
              "      <td>0</td>\n",
              "      <td>1</td>\n",
              "      <td>0</td>\n",
              "      <td>0</td>\n",
              "      <td>0</td>\n",
              "      <td>1</td>\n",
              "      <td>0</td>\n",
              "      <td>0</td>\n",
              "      <td>0</td>\n",
              "      <td>0</td>\n",
              "      <td>1</td>\n",
              "      <td>1</td>\n",
              "      <td>0</td>\n",
              "      <td>0</td>\n",
              "      <td>0</td>\n",
              "      <td>...</td>\n",
              "      <td>0</td>\n",
              "      <td>0</td>\n",
              "      <td>0</td>\n",
              "      <td>0</td>\n",
              "      <td>0</td>\n",
              "      <td>0</td>\n",
              "      <td>0</td>\n",
              "      <td>0</td>\n",
              "      <td>0</td>\n",
              "      <td>0</td>\n",
              "      <td>0</td>\n",
              "      <td>0</td>\n",
              "      <td>0</td>\n",
              "      <td>0</td>\n",
              "      <td>0</td>\n",
              "      <td>0</td>\n",
              "      <td>0</td>\n",
              "      <td>0</td>\n",
              "      <td>0</td>\n",
              "      <td>0</td>\n",
              "      <td>0</td>\n",
              "      <td>0</td>\n",
              "      <td>0</td>\n",
              "      <td>0</td>\n",
              "      <td>0</td>\n",
              "      <td>0</td>\n",
              "      <td>0</td>\n",
              "      <td>0</td>\n",
              "      <td>0</td>\n",
              "      <td>0</td>\n",
              "      <td>0</td>\n",
              "      <td>0</td>\n",
              "      <td>0</td>\n",
              "      <td>0</td>\n",
              "      <td>0</td>\n",
              "      <td>0</td>\n",
              "      <td>0</td>\n",
              "      <td>3</td>\n",
              "      <td>7</td>\n",
              "      <td>1</td>\n",
              "    </tr>\n",
              "    <tr>\n",
              "      <th>...</th>\n",
              "      <td>...</td>\n",
              "      <td>...</td>\n",
              "      <td>...</td>\n",
              "      <td>...</td>\n",
              "      <td>...</td>\n",
              "      <td>...</td>\n",
              "      <td>...</td>\n",
              "      <td>...</td>\n",
              "      <td>...</td>\n",
              "      <td>...</td>\n",
              "      <td>...</td>\n",
              "      <td>...</td>\n",
              "      <td>...</td>\n",
              "      <td>...</td>\n",
              "      <td>...</td>\n",
              "      <td>...</td>\n",
              "      <td>...</td>\n",
              "      <td>...</td>\n",
              "      <td>...</td>\n",
              "      <td>...</td>\n",
              "      <td>...</td>\n",
              "      <td>...</td>\n",
              "      <td>...</td>\n",
              "      <td>...</td>\n",
              "      <td>...</td>\n",
              "      <td>...</td>\n",
              "      <td>...</td>\n",
              "      <td>...</td>\n",
              "      <td>...</td>\n",
              "      <td>...</td>\n",
              "      <td>...</td>\n",
              "      <td>...</td>\n",
              "      <td>...</td>\n",
              "      <td>...</td>\n",
              "      <td>...</td>\n",
              "      <td>...</td>\n",
              "      <td>...</td>\n",
              "      <td>...</td>\n",
              "      <td>...</td>\n",
              "      <td>...</td>\n",
              "      <td>...</td>\n",
              "      <td>...</td>\n",
              "      <td>...</td>\n",
              "      <td>...</td>\n",
              "      <td>...</td>\n",
              "      <td>...</td>\n",
              "      <td>...</td>\n",
              "      <td>...</td>\n",
              "      <td>...</td>\n",
              "      <td>...</td>\n",
              "      <td>...</td>\n",
              "      <td>...</td>\n",
              "      <td>...</td>\n",
              "      <td>...</td>\n",
              "      <td>...</td>\n",
              "      <td>...</td>\n",
              "      <td>...</td>\n",
              "      <td>...</td>\n",
              "      <td>...</td>\n",
              "      <td>...</td>\n",
              "      <td>...</td>\n",
              "      <td>...</td>\n",
              "      <td>...</td>\n",
              "      <td>...</td>\n",
              "      <td>...</td>\n",
              "      <td>...</td>\n",
              "      <td>...</td>\n",
              "      <td>...</td>\n",
              "      <td>...</td>\n",
              "      <td>...</td>\n",
              "      <td>...</td>\n",
              "      <td>...</td>\n",
              "      <td>...</td>\n",
              "      <td>...</td>\n",
              "      <td>...</td>\n",
              "      <td>...</td>\n",
              "      <td>...</td>\n",
              "      <td>...</td>\n",
              "      <td>...</td>\n",
              "      <td>...</td>\n",
              "      <td>...</td>\n",
              "    </tr>\n",
              "    <tr>\n",
              "      <th>296</th>\n",
              "      <td>180.0</td>\n",
              "      <td>0</td>\n",
              "      <td>0</td>\n",
              "      <td>0</td>\n",
              "      <td>6</td>\n",
              "      <td>0</td>\n",
              "      <td>0</td>\n",
              "      <td>0</td>\n",
              "      <td>0</td>\n",
              "      <td>0</td>\n",
              "      <td>0</td>\n",
              "      <td>0</td>\n",
              "      <td>0</td>\n",
              "      <td>0</td>\n",
              "      <td>0</td>\n",
              "      <td>0</td>\n",
              "      <td>0</td>\n",
              "      <td>0</td>\n",
              "      <td>0</td>\n",
              "      <td>1</td>\n",
              "      <td>0</td>\n",
              "      <td>0</td>\n",
              "      <td>0</td>\n",
              "      <td>0</td>\n",
              "      <td>2</td>\n",
              "      <td>0</td>\n",
              "      <td>1</td>\n",
              "      <td>0</td>\n",
              "      <td>0</td>\n",
              "      <td>0</td>\n",
              "      <td>0</td>\n",
              "      <td>0</td>\n",
              "      <td>0</td>\n",
              "      <td>0</td>\n",
              "      <td>0</td>\n",
              "      <td>0</td>\n",
              "      <td>0</td>\n",
              "      <td>0</td>\n",
              "      <td>0</td>\n",
              "      <td>0</td>\n",
              "      <td>...</td>\n",
              "      <td>0</td>\n",
              "      <td>0</td>\n",
              "      <td>0</td>\n",
              "      <td>0</td>\n",
              "      <td>0</td>\n",
              "      <td>0</td>\n",
              "      <td>0</td>\n",
              "      <td>0</td>\n",
              "      <td>0</td>\n",
              "      <td>0</td>\n",
              "      <td>0</td>\n",
              "      <td>1</td>\n",
              "      <td>0</td>\n",
              "      <td>0</td>\n",
              "      <td>0</td>\n",
              "      <td>0</td>\n",
              "      <td>0</td>\n",
              "      <td>0</td>\n",
              "      <td>0</td>\n",
              "      <td>0</td>\n",
              "      <td>0</td>\n",
              "      <td>0</td>\n",
              "      <td>0</td>\n",
              "      <td>0</td>\n",
              "      <td>0</td>\n",
              "      <td>0</td>\n",
              "      <td>0</td>\n",
              "      <td>2</td>\n",
              "      <td>0</td>\n",
              "      <td>0</td>\n",
              "      <td>0</td>\n",
              "      <td>0</td>\n",
              "      <td>0</td>\n",
              "      <td>0</td>\n",
              "      <td>0</td>\n",
              "      <td>0</td>\n",
              "      <td>0</td>\n",
              "      <td>0</td>\n",
              "      <td>6</td>\n",
              "      <td>0</td>\n",
              "    </tr>\n",
              "    <tr>\n",
              "      <th>297</th>\n",
              "      <td>330.0</td>\n",
              "      <td>0</td>\n",
              "      <td>1</td>\n",
              "      <td>0</td>\n",
              "      <td>8</td>\n",
              "      <td>2</td>\n",
              "      <td>0</td>\n",
              "      <td>0</td>\n",
              "      <td>0</td>\n",
              "      <td>0</td>\n",
              "      <td>1</td>\n",
              "      <td>0</td>\n",
              "      <td>0</td>\n",
              "      <td>0</td>\n",
              "      <td>1</td>\n",
              "      <td>0</td>\n",
              "      <td>0</td>\n",
              "      <td>0</td>\n",
              "      <td>0</td>\n",
              "      <td>1</td>\n",
              "      <td>0</td>\n",
              "      <td>0</td>\n",
              "      <td>0</td>\n",
              "      <td>0</td>\n",
              "      <td>1</td>\n",
              "      <td>0</td>\n",
              "      <td>1</td>\n",
              "      <td>0</td>\n",
              "      <td>0</td>\n",
              "      <td>0</td>\n",
              "      <td>1</td>\n",
              "      <td>0</td>\n",
              "      <td>0</td>\n",
              "      <td>0</td>\n",
              "      <td>0</td>\n",
              "      <td>0</td>\n",
              "      <td>0</td>\n",
              "      <td>0</td>\n",
              "      <td>0</td>\n",
              "      <td>0</td>\n",
              "      <td>...</td>\n",
              "      <td>0</td>\n",
              "      <td>0</td>\n",
              "      <td>0</td>\n",
              "      <td>0</td>\n",
              "      <td>0</td>\n",
              "      <td>0</td>\n",
              "      <td>0</td>\n",
              "      <td>0</td>\n",
              "      <td>0</td>\n",
              "      <td>0</td>\n",
              "      <td>0</td>\n",
              "      <td>0</td>\n",
              "      <td>0</td>\n",
              "      <td>0</td>\n",
              "      <td>0</td>\n",
              "      <td>0</td>\n",
              "      <td>0</td>\n",
              "      <td>0</td>\n",
              "      <td>0</td>\n",
              "      <td>1</td>\n",
              "      <td>0</td>\n",
              "      <td>0</td>\n",
              "      <td>0</td>\n",
              "      <td>0</td>\n",
              "      <td>0</td>\n",
              "      <td>0</td>\n",
              "      <td>0</td>\n",
              "      <td>0</td>\n",
              "      <td>0</td>\n",
              "      <td>0</td>\n",
              "      <td>0</td>\n",
              "      <td>0</td>\n",
              "      <td>0</td>\n",
              "      <td>0</td>\n",
              "      <td>0</td>\n",
              "      <td>0</td>\n",
              "      <td>0</td>\n",
              "      <td>0</td>\n",
              "      <td>10</td>\n",
              "      <td>1</td>\n",
              "    </tr>\n",
              "    <tr>\n",
              "      <th>298</th>\n",
              "      <td>90.0</td>\n",
              "      <td>1</td>\n",
              "      <td>2</td>\n",
              "      <td>0</td>\n",
              "      <td>0</td>\n",
              "      <td>0</td>\n",
              "      <td>0</td>\n",
              "      <td>0</td>\n",
              "      <td>0</td>\n",
              "      <td>0</td>\n",
              "      <td>0</td>\n",
              "      <td>0</td>\n",
              "      <td>0</td>\n",
              "      <td>0</td>\n",
              "      <td>0</td>\n",
              "      <td>0</td>\n",
              "      <td>0</td>\n",
              "      <td>0</td>\n",
              "      <td>1</td>\n",
              "      <td>0</td>\n",
              "      <td>0</td>\n",
              "      <td>0</td>\n",
              "      <td>0</td>\n",
              "      <td>0</td>\n",
              "      <td>0</td>\n",
              "      <td>0</td>\n",
              "      <td>0</td>\n",
              "      <td>1</td>\n",
              "      <td>0</td>\n",
              "      <td>0</td>\n",
              "      <td>0</td>\n",
              "      <td>0</td>\n",
              "      <td>1</td>\n",
              "      <td>0</td>\n",
              "      <td>0</td>\n",
              "      <td>0</td>\n",
              "      <td>0</td>\n",
              "      <td>0</td>\n",
              "      <td>0</td>\n",
              "      <td>0</td>\n",
              "      <td>...</td>\n",
              "      <td>0</td>\n",
              "      <td>0</td>\n",
              "      <td>0</td>\n",
              "      <td>0</td>\n",
              "      <td>0</td>\n",
              "      <td>0</td>\n",
              "      <td>0</td>\n",
              "      <td>0</td>\n",
              "      <td>0</td>\n",
              "      <td>0</td>\n",
              "      <td>0</td>\n",
              "      <td>0</td>\n",
              "      <td>0</td>\n",
              "      <td>0</td>\n",
              "      <td>0</td>\n",
              "      <td>0</td>\n",
              "      <td>0</td>\n",
              "      <td>0</td>\n",
              "      <td>0</td>\n",
              "      <td>0</td>\n",
              "      <td>0</td>\n",
              "      <td>0</td>\n",
              "      <td>0</td>\n",
              "      <td>0</td>\n",
              "      <td>0</td>\n",
              "      <td>0</td>\n",
              "      <td>0</td>\n",
              "      <td>0</td>\n",
              "      <td>0</td>\n",
              "      <td>0</td>\n",
              "      <td>0</td>\n",
              "      <td>0</td>\n",
              "      <td>0</td>\n",
              "      <td>0</td>\n",
              "      <td>0</td>\n",
              "      <td>0</td>\n",
              "      <td>0</td>\n",
              "      <td>1</td>\n",
              "      <td>2</td>\n",
              "      <td>0</td>\n",
              "    </tr>\n",
              "    <tr>\n",
              "      <th>299</th>\n",
              "      <td>150.0</td>\n",
              "      <td>0</td>\n",
              "      <td>0</td>\n",
              "      <td>0</td>\n",
              "      <td>5</td>\n",
              "      <td>0</td>\n",
              "      <td>0</td>\n",
              "      <td>0</td>\n",
              "      <td>0</td>\n",
              "      <td>0</td>\n",
              "      <td>0</td>\n",
              "      <td>1</td>\n",
              "      <td>0</td>\n",
              "      <td>0</td>\n",
              "      <td>1</td>\n",
              "      <td>0</td>\n",
              "      <td>0</td>\n",
              "      <td>0</td>\n",
              "      <td>0</td>\n",
              "      <td>0</td>\n",
              "      <td>0</td>\n",
              "      <td>0</td>\n",
              "      <td>0</td>\n",
              "      <td>0</td>\n",
              "      <td>1</td>\n",
              "      <td>0</td>\n",
              "      <td>0</td>\n",
              "      <td>0</td>\n",
              "      <td>0</td>\n",
              "      <td>0</td>\n",
              "      <td>1</td>\n",
              "      <td>0</td>\n",
              "      <td>0</td>\n",
              "      <td>0</td>\n",
              "      <td>0</td>\n",
              "      <td>0</td>\n",
              "      <td>0</td>\n",
              "      <td>0</td>\n",
              "      <td>0</td>\n",
              "      <td>0</td>\n",
              "      <td>...</td>\n",
              "      <td>0</td>\n",
              "      <td>0</td>\n",
              "      <td>0</td>\n",
              "      <td>0</td>\n",
              "      <td>0</td>\n",
              "      <td>0</td>\n",
              "      <td>0</td>\n",
              "      <td>0</td>\n",
              "      <td>0</td>\n",
              "      <td>0</td>\n",
              "      <td>0</td>\n",
              "      <td>0</td>\n",
              "      <td>0</td>\n",
              "      <td>0</td>\n",
              "      <td>0</td>\n",
              "      <td>0</td>\n",
              "      <td>0</td>\n",
              "      <td>0</td>\n",
              "      <td>0</td>\n",
              "      <td>0</td>\n",
              "      <td>0</td>\n",
              "      <td>0</td>\n",
              "      <td>0</td>\n",
              "      <td>0</td>\n",
              "      <td>0</td>\n",
              "      <td>0</td>\n",
              "      <td>0</td>\n",
              "      <td>0</td>\n",
              "      <td>0</td>\n",
              "      <td>0</td>\n",
              "      <td>0</td>\n",
              "      <td>0</td>\n",
              "      <td>0</td>\n",
              "      <td>0</td>\n",
              "      <td>0</td>\n",
              "      <td>0</td>\n",
              "      <td>0</td>\n",
              "      <td>0</td>\n",
              "      <td>5</td>\n",
              "      <td>0</td>\n",
              "    </tr>\n",
              "    <tr>\n",
              "      <th>300</th>\n",
              "      <td>120.0</td>\n",
              "      <td>0</td>\n",
              "      <td>1</td>\n",
              "      <td>0</td>\n",
              "      <td>3</td>\n",
              "      <td>0</td>\n",
              "      <td>0</td>\n",
              "      <td>0</td>\n",
              "      <td>0</td>\n",
              "      <td>0</td>\n",
              "      <td>1</td>\n",
              "      <td>0</td>\n",
              "      <td>0</td>\n",
              "      <td>0</td>\n",
              "      <td>0</td>\n",
              "      <td>0</td>\n",
              "      <td>0</td>\n",
              "      <td>0</td>\n",
              "      <td>0</td>\n",
              "      <td>0</td>\n",
              "      <td>0</td>\n",
              "      <td>1</td>\n",
              "      <td>0</td>\n",
              "      <td>0</td>\n",
              "      <td>0</td>\n",
              "      <td>0</td>\n",
              "      <td>0</td>\n",
              "      <td>1</td>\n",
              "      <td>0</td>\n",
              "      <td>0</td>\n",
              "      <td>0</td>\n",
              "      <td>0</td>\n",
              "      <td>0</td>\n",
              "      <td>0</td>\n",
              "      <td>0</td>\n",
              "      <td>0</td>\n",
              "      <td>0</td>\n",
              "      <td>0</td>\n",
              "      <td>0</td>\n",
              "      <td>0</td>\n",
              "      <td>...</td>\n",
              "      <td>0</td>\n",
              "      <td>0</td>\n",
              "      <td>0</td>\n",
              "      <td>0</td>\n",
              "      <td>0</td>\n",
              "      <td>0</td>\n",
              "      <td>0</td>\n",
              "      <td>0</td>\n",
              "      <td>0</td>\n",
              "      <td>0</td>\n",
              "      <td>0</td>\n",
              "      <td>0</td>\n",
              "      <td>0</td>\n",
              "      <td>0</td>\n",
              "      <td>0</td>\n",
              "      <td>0</td>\n",
              "      <td>0</td>\n",
              "      <td>0</td>\n",
              "      <td>0</td>\n",
              "      <td>0</td>\n",
              "      <td>0</td>\n",
              "      <td>0</td>\n",
              "      <td>0</td>\n",
              "      <td>0</td>\n",
              "      <td>0</td>\n",
              "      <td>0</td>\n",
              "      <td>0</td>\n",
              "      <td>0</td>\n",
              "      <td>0</td>\n",
              "      <td>0</td>\n",
              "      <td>0</td>\n",
              "      <td>0</td>\n",
              "      <td>0</td>\n",
              "      <td>0</td>\n",
              "      <td>0</td>\n",
              "      <td>0</td>\n",
              "      <td>0</td>\n",
              "      <td>0</td>\n",
              "      <td>4</td>\n",
              "      <td>0</td>\n",
              "    </tr>\n",
              "  </tbody>\n",
              "</table>\n",
              "<p>301 rows × 2967 columns</p>\n",
              "</div>"
            ],
            "text/plain": [
              "     Commercial length  ...  Position Type in the block of commercials_Second / Penultimate\n",
              "0                120.0  ...                                                  0             \n",
              "1                390.0  ...                                                  5             \n",
              "2                480.0  ...                                                  1             \n",
              "3                480.0  ...                                                  2             \n",
              "4                330.0  ...                                                  1             \n",
              "..                 ...  ...                                                ...             \n",
              "296              180.0  ...                                                  0             \n",
              "297              330.0  ...                                                  1             \n",
              "298               90.0  ...                                                  0             \n",
              "299              150.0  ...                                                  0             \n",
              "300              120.0  ...                                                  0             \n",
              "\n",
              "[301 rows x 2967 columns]"
            ]
          },
          "metadata": {
            "tags": []
          },
          "execution_count": 130
        }
      ]
    },
    {
      "cell_type": "code",
      "metadata": {
        "id": "_k_3y2pLXDS-"
      },
      "source": [
        "dataset_extended = dataset.join(data_dummies_grouped, lsuffix='values', rsuffix='dummies')\n",
        "dataset_extended_wknd = dataset_extended[dataset_extended['isWeekend']==1]\n",
        "dataset_extended_wkd = dataset_extended[dataset_extended['isWeekend']==0]"
      ],
      "execution_count": null,
      "outputs": []
    },
    {
      "cell_type": "code",
      "metadata": {
        "id": "P-L-nkhTC3E4"
      },
      "source": [
        "dataset_extended_corr_wknd = dataset_extended_wknd.corr()\n",
        "dataset_extended_corr_wkd = dataset_extended_wkd.corr()"
      ],
      "execution_count": null,
      "outputs": []
    },
    {
      "cell_type": "markdown",
      "metadata": {
        "id": "3cLcB9iTY1uk"
      },
      "source": [
        "####Correlation on weekdays"
      ]
    },
    {
      "cell_type": "code",
      "metadata": {
        "id": "ZD5NgEuXYgVc"
      },
      "source": [
        "df = pd.DataFrame(np.triu(dataset_extended_corr_wkd, 1), columns=dataset_extended_corr_wkd.columns, index=dataset_extended_corr_wkd.index)\n",
        "corr6_wkd = df[df > 0.2].stack().reset_index()"
      ],
      "execution_count": null,
      "outputs": []
    },
    {
      "cell_type": "code",
      "metadata": {
        "id": "Nf57pENaYfSf",
        "outputId": "5d9b8dc6-899f-427f-fcb0-58ad54f0ee03",
        "colab": {
          "base_uri": "https://localhost:8080/",
          "height": 80
        }
      },
      "source": [
        "corr6_wkd[corr6_wkd.level_1.str.contains(\"Wizyty_all\")]"
      ],
      "execution_count": null,
      "outputs": [
        {
          "output_type": "execute_result",
          "data": {
            "text/html": [
              "<div>\n",
              "<style scoped>\n",
              "    .dataframe tbody tr th:only-of-type {\n",
              "        vertical-align: middle;\n",
              "    }\n",
              "\n",
              "    .dataframe tbody tr th {\n",
              "        vertical-align: top;\n",
              "    }\n",
              "\n",
              "    .dataframe thead th {\n",
              "        text-align: right;\n",
              "    }\n",
              "</style>\n",
              "<table border=\"1\" class=\"dataframe\">\n",
              "  <thead>\n",
              "    <tr style=\"text-align: right;\">\n",
              "      <th></th>\n",
              "      <th>level_0</th>\n",
              "      <th>level_1</th>\n",
              "      <th>0</th>\n",
              "    </tr>\n",
              "  </thead>\n",
              "  <tbody>\n",
              "    <tr>\n",
              "      <th>68</th>\n",
              "      <td>roundTime</td>\n",
              "      <td>Wizyty_all</td>\n",
              "      <td>0.46891</td>\n",
              "    </tr>\n",
              "  </tbody>\n",
              "</table>\n",
              "</div>"
            ],
            "text/plain": [
              "      level_0     level_1        0\n",
              "68  roundTime  Wizyty_all  0.46891"
            ]
          },
          "metadata": {
            "tags": []
          },
          "execution_count": 134
        }
      ]
    },
    {
      "cell_type": "markdown",
      "metadata": {
        "id": "7_2vc3HOYYm1"
      },
      "source": [
        "####Correlation on weekends"
      ]
    },
    {
      "cell_type": "code",
      "metadata": {
        "id": "ODx7UDKoLQ0Y"
      },
      "source": [
        "df = pd.DataFrame(np.triu(dataset_extended_corr_wknd, 1), columns=dataset_extended_corr_wknd.columns, index=dataset_extended_corr_wknd.index)\n",
        "corr6_wknd = df[df > 0.2].stack().reset_index()"
      ],
      "execution_count": null,
      "outputs": []
    },
    {
      "cell_type": "code",
      "metadata": {
        "id": "SsRZUnrKTpyT",
        "outputId": "b6b44bff-990e-45a8-eaa9-b8666318b819",
        "colab": {
          "base_uri": "https://localhost:8080/",
          "height": 111
        }
      },
      "source": [
        "corr6_wknd[corr6_wknd.level_1.str.contains(\"Wizyty_all\")]"
      ],
      "execution_count": null,
      "outputs": [
        {
          "output_type": "execute_result",
          "data": {
            "text/html": [
              "<div>\n",
              "<style scoped>\n",
              "    .dataframe tbody tr th:only-of-type {\n",
              "        vertical-align: middle;\n",
              "    }\n",
              "\n",
              "    .dataframe tbody tr th {\n",
              "        vertical-align: top;\n",
              "    }\n",
              "\n",
              "    .dataframe thead th {\n",
              "        text-align: right;\n",
              "    }\n",
              "</style>\n",
              "<table border=\"1\" class=\"dataframe\">\n",
              "  <thead>\n",
              "    <tr style=\"text-align: right;\">\n",
              "      <th></th>\n",
              "      <th>level_0</th>\n",
              "      <th>level_1</th>\n",
              "      <th>0</th>\n",
              "    </tr>\n",
              "  </thead>\n",
              "  <tbody>\n",
              "    <tr>\n",
              "      <th>1</th>\n",
              "      <td>spotsAmount</td>\n",
              "      <td>Wizyty_all</td>\n",
              "      <td>0.327088</td>\n",
              "    </tr>\n",
              "    <tr>\n",
              "      <th>136</th>\n",
              "      <td>roundTime</td>\n",
              "      <td>Wizyty_all</td>\n",
              "      <td>0.814086</td>\n",
              "    </tr>\n",
              "  </tbody>\n",
              "</table>\n",
              "</div>"
            ],
            "text/plain": [
              "         level_0     level_1         0\n",
              "1    spotsAmount  Wizyty_all  0.327088\n",
              "136    roundTime  Wizyty_all  0.814086"
            ]
          },
          "metadata": {
            "tags": []
          },
          "execution_count": 136
        }
      ]
    },
    {
      "cell_type": "markdown",
      "metadata": {
        "id": "bxj--x6kT54d"
      },
      "source": [
        "As we can see the only correlation between spots amount and visits occurs on weekends."
      ]
    },
    {
      "cell_type": "markdown",
      "metadata": {
        "id": "J_kW8-wcl4rC"
      },
      "source": [
        "###To see final conclussions please refer to the presentation attached"
      ]
    }
  ]
}